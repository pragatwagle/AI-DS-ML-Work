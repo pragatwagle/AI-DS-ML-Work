{
 "cells": [
  {
   "cell_type": "code",
   "execution_count": 1,
   "id": "01b39217",
   "metadata": {},
   "outputs": [
    {
     "name": "stdout",
     "output_type": "stream",
     "text": [
      "Requirement already satisfied: redis==2.10.5 in /Users/pragatwagle/opt/anaconda3/lib/python3.9/site-packages (2.10.5)\r\n"
     ]
    }
   ],
   "source": [
    "!pip install redis==2.10.5"
   ]
  },
  {
   "cell_type": "code",
   "execution_count": 2,
   "id": "2c139f0a",
   "metadata": {},
   "outputs": [
    {
     "name": "stdout",
     "output_type": "stream",
     "text": [
      "Requirement already satisfied: redis in /Users/pragatwagle/opt/anaconda3/lib/python3.9/site-packages (2.10.5)\r\n"
     ]
    }
   ],
   "source": [
    "!pip install redis"
   ]
  },
  {
   "cell_type": "code",
   "execution_count": 1,
   "id": "e5f8de1c",
   "metadata": {},
   "outputs": [],
   "source": [
    "import redis"
   ]
  },
  {
   "cell_type": "code",
   "execution_count": 2,
   "id": "460b9ba6",
   "metadata": {},
   "outputs": [],
   "source": [
    "r = redis.Redis(host='127.0.0.1', port = 6379, db = 0)"
   ]
  },
  {
   "cell_type": "code",
   "execution_count": 3,
   "id": "3134b73c",
   "metadata": {},
   "outputs": [
    {
     "data": {
      "text/plain": [
       "b'Nassau'"
      ]
     },
     "execution_count": 3,
     "metadata": {},
     "output_type": "execute_result"
    }
   ],
   "source": [
    "r.set(\"Bahamas\", \"Nassau\")\n",
    "r.get(\"Bahamas\")"
   ]
  },
  {
   "cell_type": "code",
   "execution_count": 4,
   "id": "925fab29",
   "metadata": {},
   "outputs": [
    {
     "data": {
      "text/plain": [
       "b'Nassau'"
      ]
     },
     "execution_count": 4,
     "metadata": {},
     "output_type": "execute_result"
    }
   ],
   "source": [
    "r.mset({\"Croatia\": \"Zagreb\", \"Bahamas\": \"Nassau\"})\n",
    "r.get('Bahamas')"
   ]
  },
  {
   "cell_type": "code",
   "execution_count": 5,
   "id": "337449e4",
   "metadata": {},
   "outputs": [
    {
     "data": {
      "text/plain": [
       "0"
      ]
     },
     "execution_count": 5,
     "metadata": {},
     "output_type": "execute_result"
    }
   ],
   "source": [
    "r.hset(\"realpython\", \"url\", \"https://realpython.com/\")"
   ]
  },
  {
   "cell_type": "code",
   "execution_count": 6,
   "id": "de5fd40a",
   "metadata": {},
   "outputs": [],
   "source": [
    "import random\n",
    "\n",
    "random.seed(444)\n",
    "hats = {f\"hat:{random.getrandbits(32)}\": i for i in (\n",
    "    {\n",
    "        \"color\": \"black\",\n",
    "        \"price\": 49.99,\n",
    "        \"style\": \"fitted\",\n",
    "        \"quantity\": 1000,\n",
    "        \"npurchased\": 0,\n",
    "    },\n",
    "    {\n",
    "        \"color\": \"maroon\",\n",
    "        \"price\": 59.99,\n",
    "        \"style\": \"hipster\",\n",
    "        \"quantity\": 500,\n",
    "        \"npurchased\": 0,\n",
    "    },\n",
    "    {\n",
    "        \"color\": \"green\",\n",
    "        \"price\": 99.99,\n",
    "        \"style\": \"baseball\",\n",
    "        \"quantity\": 200,\n",
    "        \"npurchased\": 0,\n",
    "    })\n",
    "}"
   ]
  },
  {
   "cell_type": "code",
   "execution_count": 7,
   "id": "68f37b64",
   "metadata": {},
   "outputs": [],
   "source": [
    "r = redis.Redis(db=1)"
   ]
  },
  {
   "cell_type": "code",
   "execution_count": 8,
   "id": "ce8dd117",
   "metadata": {},
   "outputs": [],
   "source": [
    "import json\n"
   ]
  },
  {
   "cell_type": "code",
   "execution_count": 11,
   "id": "af64c7dd",
   "metadata": {},
   "outputs": [],
   "source": [
    "with r.pipeline() as pipe:\n",
    "    for h_id, hat in hats.items():\n",
    "        pipe.hset(h_id, \"color\",hat[\"color\"])\n",
    "        pipe.hset(h_id, \"price\",hat[\"price\"])\n",
    "        pipe.hset(h_id, \"style\",hat[\"style\"])\n",
    "        pipe.hset(h_id, \"quantity\",hat[\"quantity\"])\n",
    "        pipe.hset(h_id, \"npurchased\", hat[\"npurchased\"])\n",
    "    pipe.execute()"
   ]
  },
  {
   "cell_type": "code",
   "execution_count": 9,
   "id": "a4fa6523",
   "metadata": {},
   "outputs": [],
   "source": [
    "with r.pipeline() as pipe:\n",
    "    for h_id, hat in hats.items():\n",
    "        pipe.hmset(h_id, hat)\n",
    "    pipe.execute()"
   ]
  },
  {
   "cell_type": "code",
   "execution_count": 13,
   "id": "a80daa69",
   "metadata": {},
   "outputs": [
    {
     "data": {
      "text/plain": [
       "True"
      ]
     },
     "execution_count": 13,
     "metadata": {},
     "output_type": "execute_result"
    }
   ],
   "source": [
    "r.bgsave()"
   ]
  },
  {
   "cell_type": "code",
   "execution_count": 11,
   "id": "a612a64f",
   "metadata": {},
   "outputs": [
    {
     "name": "stdout",
     "output_type": "stream",
     "text": [
      "{b'color': b'green', b'price': b'99.99', b'style': b'baseball', b'quantity': b'200', b'npurchased': b'0'}\n"
     ]
    }
   ],
   "source": [
    "print(r.hgetall(\"hat:56854717\"))"
   ]
  },
  {
   "cell_type": "code",
   "execution_count": 15,
   "id": "1e278057",
   "metadata": {},
   "outputs": [
    {
     "data": {
      "text/plain": [
       "199"
      ]
     },
     "execution_count": 15,
     "metadata": {},
     "output_type": "execute_result"
    }
   ],
   "source": [
    "r.hincrby(\"hat:56854717\", \"quantity\", -1)"
   ]
  },
  {
   "cell_type": "code",
   "execution_count": 16,
   "id": "e321b9cc",
   "metadata": {},
   "outputs": [
    {
     "data": {
      "text/plain": [
       "b'199'"
      ]
     },
     "execution_count": 16,
     "metadata": {},
     "output_type": "execute_result"
    }
   ],
   "source": [
    "r.hget(\"hat:56854717\", \"quantity\")"
   ]
  },
  {
   "cell_type": "code",
   "execution_count": null,
   "id": "bc4e6ae6",
   "metadata": {},
   "outputs": [],
   "source": []
  },
  {
   "cell_type": "code",
   "execution_count": 17,
   "id": "7ffff4bd",
   "metadata": {},
   "outputs": [
    {
     "data": {
      "text/plain": [
       "1"
      ]
     },
     "execution_count": 17,
     "metadata": {},
     "output_type": "execute_result"
    }
   ],
   "source": [
    "r.hincrby(\"hat:56854717\", \"npurchased\", 1)"
   ]
  },
  {
   "cell_type": "code",
   "execution_count": 18,
   "id": "348f877b",
   "metadata": {},
   "outputs": [
    {
     "data": {
      "text/plain": [
       "b'199'"
      ]
     },
     "execution_count": 18,
     "metadata": {},
     "output_type": "execute_result"
    }
   ],
   "source": [
    "r.hget(\"hat:56854717\", \"quantity\")"
   ]
  },
  {
   "cell_type": "code",
   "execution_count": 19,
   "id": "245c300b",
   "metadata": {},
   "outputs": [],
   "source": [
    "import logging\n",
    "logging.basicConfig()\n",
    "\n",
    "\n",
    "class OutOfStockError(Exception):\n",
    "    \"\"\"Raised when PyHats.com is all out of today's hottest hat\"\"\"\n",
    "\n",
    "\n",
    "def buyitem(r: redis.Redis, itemid: int) -> None:\n",
    "    with r.pipeline() as pipe:\n",
    "        error_count = 0\n",
    "        while True:\n",
    "            try:\n",
    "                # Get available inventory, watching for changes\n",
    "                # related to this itemid before the transaction\n",
    "                pipe.watch(itemid)\n",
    "                nleft: bytes = r.hget(itemid, \"quantity\")\n",
    "                if nleft > b\"0\":\n",
    "                    pipe.multi()\n",
    "                    pipe.hincrby(itemid, \"quantity\", -1)\n",
    "                    pipe.hincrby(itemid, \"npurchased\", 1)\n",
    "                    pipe.execute()\n",
    "                    break\n",
    "                else:\n",
    "                    # Stop watching the itemid and raise to break out\n",
    "                    pipe.unwatch()\n",
    "                    raise OutOfStockError(\n",
    "                        f\"Sorry, {itemid} is out of stock!\"\n",
    "                    )\n",
    "            except redis.WatchError:\n",
    "                # Log total num. of errors by this user to buy this item,\n",
    "                # then try the same process again of WATCH/HGET/MULTI/EXEC\n",
    "                error_count += 1\n",
    "                logging.warning(\n",
    "                    \"WatchError #%d: %s; retrying\",\n",
    "                    error_count, itemid\n",
    "                )\n",
    "    return None"
   ]
  },
  {
   "cell_type": "code",
   "execution_count": 20,
   "id": "ecf4b509",
   "metadata": {},
   "outputs": [
    {
     "data": {
      "text/plain": [
       "[b'196', b'4']"
      ]
     },
     "execution_count": 20,
     "metadata": {},
     "output_type": "execute_result"
    }
   ],
   "source": [
    "buyitem(r, \"hat:56854717\")\n",
    "buyitem(r, \"hat:56854717\")\n",
    "buyitem(r, \"hat:56854717\")\n",
    "r.hmget(\"hat:56854717\", \"quantity\", \"npurchased\") "
   ]
  },
  {
   "cell_type": "code",
   "execution_count": 21,
   "id": "62a3a7f3",
   "metadata": {},
   "outputs": [
    {
     "data": {
      "text/plain": [
       "[b'0', b'200']"
      ]
     },
     "execution_count": 21,
     "metadata": {},
     "output_type": "execute_result"
    }
   ],
   "source": [
    "for _ in range(196):\n",
    "    buyitem(r, \"hat:56854717\")\n",
    "r.hmget(\"hat:56854717\", \"quantity\", \"npurchased\")"
   ]
  },
  {
   "cell_type": "code",
   "execution_count": 22,
   "id": "6a8c3c8b",
   "metadata": {},
   "outputs": [
    {
     "ename": "OutOfStockError",
     "evalue": "Sorry, hat:56854717 is out of stock!",
     "output_type": "error",
     "traceback": [
      "\u001b[0;31m---------------------------------------------------------------------------\u001b[0m",
      "\u001b[0;31mOutOfStockError\u001b[0m                           Traceback (most recent call last)",
      "\u001b[0;32m/var/folders/lj/chp0k_rn1qqf1qs2mtg65xzw0000gn/T/ipykernel_24722/828961075.py\u001b[0m in \u001b[0;36m<module>\u001b[0;34m\u001b[0m\n\u001b[0;32m----> 1\u001b[0;31m \u001b[0mbuyitem\u001b[0m\u001b[0;34m(\u001b[0m\u001b[0mr\u001b[0m\u001b[0;34m,\u001b[0m \u001b[0;34m\"hat:56854717\"\u001b[0m\u001b[0;34m)\u001b[0m\u001b[0;34m\u001b[0m\u001b[0;34m\u001b[0m\u001b[0m\n\u001b[0m",
      "\u001b[0;32m/var/folders/lj/chp0k_rn1qqf1qs2mtg65xzw0000gn/T/ipykernel_24722/4101873923.py\u001b[0m in \u001b[0;36mbuyitem\u001b[0;34m(r, itemid)\u001b[0m\n\u001b[1;32m     25\u001b[0m                     \u001b[0;31m# Stop watching the itemid and raise to break out\u001b[0m\u001b[0;34m\u001b[0m\u001b[0;34m\u001b[0m\u001b[0m\n\u001b[1;32m     26\u001b[0m                     \u001b[0mpipe\u001b[0m\u001b[0;34m.\u001b[0m\u001b[0munwatch\u001b[0m\u001b[0;34m(\u001b[0m\u001b[0;34m)\u001b[0m\u001b[0;34m\u001b[0m\u001b[0;34m\u001b[0m\u001b[0m\n\u001b[0;32m---> 27\u001b[0;31m                     raise OutOfStockError(\n\u001b[0m\u001b[1;32m     28\u001b[0m                         \u001b[0;34mf\"Sorry, {itemid} is out of stock!\"\u001b[0m\u001b[0;34m\u001b[0m\u001b[0;34m\u001b[0m\u001b[0m\n\u001b[1;32m     29\u001b[0m                     )\n",
      "\u001b[0;31mOutOfStockError\u001b[0m: Sorry, hat:56854717 is out of stock!"
     ]
    }
   ],
   "source": [
    "buyitem(r, \"hat:56854717\")\n"
   ]
  },
  {
   "cell_type": "code",
   "execution_count": null,
   "id": "07e05dc6",
   "metadata": {},
   "outputs": [],
   "source": []
  }
 ],
 "metadata": {
  "kernelspec": {
   "display_name": "Python 3 (ipykernel)",
   "language": "python",
   "name": "python3"
  },
  "language_info": {
   "codemirror_mode": {
    "name": "ipython",
    "version": 3
   },
   "file_extension": ".py",
   "mimetype": "text/x-python",
   "name": "python",
   "nbconvert_exporter": "python",
   "pygments_lexer": "ipython3",
   "version": "3.9.7"
  }
 },
 "nbformat": 4,
 "nbformat_minor": 5
}
