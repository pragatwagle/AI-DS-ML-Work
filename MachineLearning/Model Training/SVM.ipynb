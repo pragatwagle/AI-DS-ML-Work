{
 "cells": [
  {
   "cell_type": "code",
   "execution_count": null,
   "id": "76ed6601-8c44-4347-8264-65f4faf33545",
   "metadata": {},
   "outputs": [],
   "source": [
    "Author: Pragat Wagle\n",
    "\n",
    "Assignment 3 Raisin Dataset\n"
   ]
  },
  {
   "cell_type": "code",
   "execution_count": 2,
   "id": "a46c3d75",
   "metadata": {},
   "outputs": [],
   "source": [
    "import pandas as pd\n",
    "df = pd.read_excel('Raisin_Dataset.csv')\n",
    "x = df.iloc[:, :-1]\n",
    "y = df.iloc[:, -1]"
   ]
  },
  {
   "cell_type": "markdown",
   "id": "80548753-d0b8-42b6-9a0a-058c6fa4dc07",
   "metadata": {},
   "source": [
    "### Clean Data \n",
    "1) As there is no missing values, do not need to fill in any values of the dataframe. If there were missing values I would have used the average, max, or min of that column."
   ]
  },
  {
   "cell_type": "code",
   "execution_count": 3,
   "id": "8436c9fa-550b-47d0-a076-75be7a777cf3",
   "metadata": {},
   "outputs": [
    {
     "name": "stdout",
     "output_type": "stream",
     "text": [
      "Na values\n",
      "Area               0\n",
      "MajorAxisLength    0\n",
      "MinorAxisLength    0\n",
      "Eccentricity       0\n",
      "ConvexArea         0\n",
      "Extent             0\n",
      "Perimeter          0\n",
      "Class              0\n",
      "dtype: int64\n",
      "\n",
      "Null values\n",
      "Area               0\n",
      "MajorAxisLength    0\n",
      "MinorAxisLength    0\n",
      "Eccentricity       0\n",
      "ConvexArea         0\n",
      "Extent             0\n",
      "Perimeter          0\n",
      "Class              0\n",
      "dtype: int64\n"
     ]
    }
   ],
   "source": [
    "print(\"Na values\")\n",
    "print(df.isna().sum())\n",
    "\n",
    "print(\"\\nNull values\")\n",
    "print(df.isnull().sum())"
   ]
  },
  {
   "cell_type": "markdown",
   "id": "390c3117",
   "metadata": {},
   "source": [
    "### Check For Categorical Data"
   ]
  },
  {
   "cell_type": "markdown",
   "id": "9ebb1676",
   "metadata": {},
   "source": [
    "The number of categorical columns numbers 0 and all of the columns in the dataset are numerical and don't need any transformations relating to categorical variable. "
   ]
  },
  {
   "cell_type": "code",
   "execution_count": 14,
   "id": "37df1958",
   "metadata": {},
   "outputs": [
    {
     "name": "stdout",
     "output_type": "stream",
     "text": [
      "Index(['Area', 'MajorAxisLength', 'MinorAxisLength', 'Eccentricity',\n",
      "       'ConvexArea', 'Extent', 'Perimeter'],\n",
      "      dtype='object')\n",
      "\n",
      "Length of categorical variables\n",
      "0\n"
     ]
    }
   ],
   "source": [
    "columns = x.columns\n",
    "print(columns)\n",
    "num_cols = df._get_numeric_data().columns\n",
    "\n",
    "print(\"\\nLength of categorical variables\")\n",
    "print(len(set(columns) - set(num_cols)))"
   ]
  },
  {
   "cell_type": "markdown",
   "id": "1060fb06-b618-4149-9fbc-7e0219ebed8a",
   "metadata": {},
   "source": [
    "### Split the dataset into training and test sets with 80-20 ratio. (10 points)"
   ]
  },
  {
   "cell_type": "code",
   "execution_count": 3,
   "id": "da6357fa-afcc-4e6f-93ad-821d48d75aca",
   "metadata": {},
   "outputs": [],
   "source": [
    "from sklearn.model_selection import train_test_split\n",
    "x_train, x_test, y_train, y_test = train_test_split(x, y, test_size=0.20, random_state=42)"
   ]
  },
  {
   "cell_type": "markdown",
   "id": "8cc64905-8da2-4587-99a6-03e2635337e1",
   "metadata": {},
   "source": [
    "### Scale the data using Standard Scalar "
   ]
  },
  {
   "cell_type": "code",
   "execution_count": 4,
   "id": "8e787ce0-46b2-4d45-b801-322d3a8e2ec8",
   "metadata": {},
   "outputs": [],
   "source": [
    "from sklearn.preprocessing import StandardScaler\n",
    "scaler = StandardScaler()\n",
    "x_train = scaler.fit_transform(x_train)\n",
    "x_test = scaler.fit_transform(x_test)"
   ]
  },
  {
   "cell_type": "markdown",
   "id": "e37e3bf7-98e8-4c97-906c-5d70bc04b3ff",
   "metadata": {},
   "source": [
    "### SVM on 20% Train Test Split"
   ]
  },
  {
   "cell_type": "code",
   "execution_count": 5,
   "id": "9903f7da-9ca4-49b0-a30b-605b7521da9c",
   "metadata": {},
   "outputs": [
    {
     "data": {
      "text/plain": [
       "SVC(kernel='linear', random_state=0)"
      ]
     },
     "execution_count": 5,
     "metadata": {},
     "output_type": "execute_result"
    }
   ],
   "source": [
    "from sklearn.svm import SVC\n",
    "classifier = SVC(kernel = 'linear', random_state = 0)\n",
    "classifier.fit(x_train, y_train)"
   ]
  },
  {
   "cell_type": "code",
   "execution_count": 6,
   "id": "aa203ad4-8e2a-4b7d-a17a-0ea0c3779e39",
   "metadata": {},
   "outputs": [],
   "source": [
    "y_preds = classifier.predict(x_test)"
   ]
  },
  {
   "cell_type": "markdown",
   "id": "d144872c",
   "metadata": {},
   "source": [
    "#### Predictions"
   ]
  },
  {
   "cell_type": "code",
   "execution_count": 7,
   "id": "852411be",
   "metadata": {},
   "outputs": [
    {
     "name": "stdout",
     "output_type": "stream",
     "text": [
      "['Besni' 'Kecimen' 'Kecimen' 'Besni' 'Kecimen' 'Kecimen' 'Kecimen' 'Besni'\n",
      " 'Kecimen' 'Kecimen' 'Besni' 'Besni' 'Besni' 'Kecimen' 'Besni' 'Besni'\n",
      " 'Besni' 'Kecimen' 'Kecimen' 'Besni' 'Kecimen' 'Besni' 'Kecimen' 'Kecimen'\n",
      " 'Besni' 'Kecimen' 'Besni' 'Besni' 'Besni' 'Besni' 'Kecimen' 'Besni'\n",
      " 'Besni' 'Besni' 'Besni' 'Besni' 'Kecimen' 'Besni' 'Kecimen' 'Kecimen'\n",
      " 'Kecimen' 'Kecimen' 'Kecimen' 'Kecimen' 'Besni' 'Besni' 'Kecimen' 'Besni'\n",
      " 'Besni' 'Besni' 'Besni' 'Kecimen' 'Besni' 'Kecimen' 'Kecimen' 'Kecimen'\n",
      " 'Kecimen' 'Besni' 'Kecimen' 'Besni' 'Besni' 'Kecimen' 'Besni' 'Kecimen'\n",
      " 'Kecimen' 'Kecimen' 'Besni' 'Besni' 'Kecimen' 'Kecimen' 'Besni' 'Besni'\n",
      " 'Kecimen' 'Kecimen' 'Besni' 'Besni' 'Kecimen' 'Besni' 'Kecimen' 'Besni'\n",
      " 'Besni' 'Kecimen' 'Besni' 'Kecimen' 'Besni' 'Besni' 'Kecimen' 'Besni'\n",
      " 'Besni' 'Besni' 'Kecimen' 'Besni' 'Besni' 'Besni' 'Besni' 'Besni'\n",
      " 'Kecimen' 'Kecimen' 'Besni' 'Besni' 'Besni' 'Kecimen' 'Besni' 'Besni'\n",
      " 'Besni' 'Kecimen' 'Besni' 'Kecimen' 'Besni' 'Kecimen' 'Besni' 'Besni'\n",
      " 'Besni' 'Kecimen' 'Besni' 'Kecimen' 'Kecimen' 'Kecimen' 'Kecimen' 'Besni'\n",
      " 'Kecimen' 'Kecimen' 'Kecimen' 'Kecimen' 'Besni' 'Kecimen' 'Kecimen'\n",
      " 'Besni' 'Kecimen' 'Kecimen' 'Besni' 'Besni' 'Besni' 'Kecimen' 'Besni'\n",
      " 'Kecimen' 'Besni' 'Besni' 'Besni' 'Kecimen' 'Kecimen' 'Kecimen' 'Besni'\n",
      " 'Kecimen' 'Besni' 'Kecimen' 'Besni' 'Kecimen' 'Besni' 'Kecimen' 'Kecimen'\n",
      " 'Besni' 'Kecimen' 'Besni' 'Kecimen' 'Kecimen' 'Kecimen' 'Kecimen'\n",
      " 'Kecimen' 'Kecimen' 'Kecimen' 'Besni' 'Kecimen' 'Kecimen' 'Besni' 'Besni'\n",
      " 'Kecimen' 'Besni' 'Besni' 'Besni' 'Kecimen' 'Kecimen' 'Kecimen' 'Kecimen'\n",
      " 'Besni' 'Besni' 'Besni' 'Besni' 'Kecimen' 'Kecimen']\n"
     ]
    }
   ],
   "source": [
    "print(y_preds)"
   ]
  },
  {
   "cell_type": "markdown",
   "id": "9402d95a",
   "metadata": {},
   "source": [
    "#### Accuracy Score"
   ]
  },
  {
   "cell_type": "code",
   "execution_count": 8,
   "id": "61e1ca29-f5bc-4a39-8be0-4bffb098eceb",
   "metadata": {},
   "outputs": [
    {
     "name": "stdout",
     "output_type": "stream",
     "text": [
      "Accuracy Score\n",
      "86.11%\n"
     ]
    }
   ],
   "source": [
    "from sklearn.metrics import confusion_matrix, accuracy_score\n",
    "\n",
    "print(\"Accuracy Score\")\n",
    "accuracy = accuracy_score(y_test, y_preds)\n",
    "print(str(round(accuracy, 4) * 100) + \"%\")"
   ]
  },
  {
   "cell_type": "markdown",
   "id": "961cb82d-f7df-4e5b-a27c-1ddb59203344",
   "metadata": {},
   "source": [
    "### Visualization "
   ]
  },
  {
   "cell_type": "code",
   "execution_count": 9,
   "id": "df4a1765-7336-4414-87ed-14ede80c1523",
   "metadata": {},
   "outputs": [
    {
     "data": {
      "text/plain": [
       "Text(33.0, 0.5, 'Predicted_False                      Predicted_True')"
      ]
     },
     "execution_count": 9,
     "metadata": {},
     "output_type": "execute_result"
    },
    {
     "data": {
      "image/png": "[encoded data removed]",
      "text/plain": [
       "<Figure size 432x288 with 2 Axes>"
      ]
     },
     "metadata": {
      "needs_background": "light"
     },
     "output_type": "display_data"
    }
   ],
   "source": [
    "import seaborn as sns\n",
    "import matplotlib.pyplot as plt\n",
    "cm = confusion_matrix(y_test, y_preds)\n",
    "ax = plt.subplot()\n",
    "sns.heatmap(cm, annot = True, ax=ax)\n",
    "ax.set_title('Actual_True                        Actual_False')\n",
    "ax.set_ylabel('Predicted_False                      Predicted_True')"
   ]
  },
  {
   "cell_type": "markdown",
   "id": "3841a805-e627-434d-8206-c4abfbc1fcfd",
   "metadata": {},
   "source": [
    "### Application of Cross-Validation Technique\n",
    "\n",
    "1) This technique was applied with cross fold values of cv = 2, 4, 6, 8, 10, 15, 20\n",
    "\n",
    "2) In the first run through the above cross folds: 2 cross fold yielded the best accuracy and lowest standard deviation with the next best being 15 folds but with a standard deviation of about 3.5% higher than when performing with 2 folds. This may have been due to the fact dataset only consisted of 720 rows.\n",
    "\n",
    "In repeat runs it a cross fold of 6 yields the most accurate value. "
   ]
  },
  {
   "cell_type": "code",
   "execution_count": 10,
   "id": "3fa513a9-4cf4-48c2-b493-12c8462b4643",
   "metadata": {},
   "outputs": [
    {
     "name": "stdout",
     "output_type": "stream",
     "text": [
      "Cross Fold Value : 2\n",
      "Accuracy: 87.36 %\n",
      "Standard Deviation: 0.14 %\n"
     ]
    }
   ],
   "source": [
    "from sklearn.model_selection import cross_val_score\n",
    "classifier = SVC(kernel = 'linear', random_state = 0)\n",
    "\n",
    "print(\"Cross Fold Value : \" + str(2))\n",
    "accuracies = cross_val_score(estimator = classifier, X = x_train, y = y_train, cv = 2)\n",
    "print(\"Accuracy: {:.2f} %\".format(accuracies.mean()*100))\n",
    "print(\"Standard Deviation: {:.2f} %\".format(accuracies.std()*100))"
   ]
  },
  {
   "cell_type": "code",
   "execution_count": 11,
   "id": "71aeb7d0-fb35-4288-b025-85a619f80e38",
   "metadata": {},
   "outputs": [
    {
     "name": "stdout",
     "output_type": "stream",
     "text": [
      "Cross Fold Value : 4\n",
      "Accuracy: 87.36 %\n",
      "Standard Deviation: 2.68 %\n"
     ]
    }
   ],
   "source": [
    "print(\"Cross Fold Value : \" + str(4))\n",
    "accuracies = cross_val_score(estimator = classifier, X = x_train, y = y_train, cv = 4)\n",
    "print(\"Accuracy: {:.2f} %\".format(accuracies.mean()*100))\n",
    "print(\"Standard Deviation: {:.2f} %\".format(accuracies.std()*100))"
   ]
  },
  {
   "cell_type": "code",
   "execution_count": 12,
   "id": "b9ccaf93-09a2-411a-b9aa-65bc7ef15950",
   "metadata": {},
   "outputs": [
    {
     "name": "stdout",
     "output_type": "stream",
     "text": [
      "Cross Fold Value : 6\n",
      "Accuracy: 87.78 %\n",
      "Standard Deviation: 2.53 %\n"
     ]
    }
   ],
   "source": [
    "print(\"Cross Fold Value : \" + str(6))\n",
    "accuracies = cross_val_score(estimator = classifier, X = x_train, y = y_train, cv = 6)\n",
    "print(\"Accuracy: {:.2f} %\".format(accuracies.mean()*100))\n",
    "print(\"Standard Deviation: {:.2f} %\".format(accuracies.std()*100))"
   ]
  },
  {
   "cell_type": "code",
   "execution_count": 13,
   "id": "b80a5dfb-c4e7-4918-b75a-922cc4b460f0",
   "metadata": {},
   "outputs": [
    {
     "name": "stdout",
     "output_type": "stream",
     "text": [
      "Cross Fold Value : 8\n",
      "Accuracy: 87.22 %\n",
      "Standard Deviation: 3.14 %\n"
     ]
    }
   ],
   "source": [
    "print(\"Cross Fold Value : \" + str(8))\n",
    "accuracies = cross_val_score(estimator = classifier, X = x_train, y = y_train, cv = 8)\n",
    "print(\"Accuracy: {:.2f} %\".format(accuracies.mean()*100))\n",
    "print(\"Standard Deviation: {:.2f} %\".format(accuracies.std()*100))"
   ]
  },
  {
   "cell_type": "code",
   "execution_count": 14,
   "id": "7305097f-98b6-4e99-9268-b3b41a5d7a00",
   "metadata": {},
   "outputs": [
    {
     "name": "stdout",
     "output_type": "stream",
     "text": [
      "Cross Fold Value : 10\n",
      "Accuracy: 87.36 %\n",
      "Standard Deviation: 4.83 %\n"
     ]
    }
   ],
   "source": [
    "print(\"Cross Fold Value : \" + str(10))\n",
    "accuracies = cross_val_score(estimator = classifier, X = x_train, y = y_train, cv = 10)\n",
    "print(\"Accuracy: {:.2f} %\".format(accuracies.mean()*100))\n",
    "print(\"Standard Deviation: {:.2f} %\".format(accuracies.std()*100))"
   ]
  },
  {
   "cell_type": "code",
   "execution_count": 15,
   "id": "141e1840-6347-466b-a72f-a43288ade58f",
   "metadata": {},
   "outputs": [
    {
     "name": "stdout",
     "output_type": "stream",
     "text": [
      "Cross Fold Value : 15\n",
      "Accuracy: 86.94 %\n",
      "Standard Deviation: 4.90 %\n"
     ]
    }
   ],
   "source": [
    "print(\"Cross Fold Value : \" + str(15))\n",
    "accuracies = cross_val_score(estimator = classifier, X = x_train, y = y_train, cv = 15)\n",
    "print(\"Accuracy: {:.2f} %\".format(accuracies.mean()*100))\n",
    "print(\"Standard Deviation: {:.2f} %\".format(accuracies.std()*100))"
   ]
  },
  {
   "cell_type": "code",
   "execution_count": 16,
   "id": "11318ed6-8624-4747-bca0-3360da97aee2",
   "metadata": {},
   "outputs": [
    {
     "name": "stdout",
     "output_type": "stream",
     "text": [
      "Cross Fold Value : 20\n",
      "Accuracy: 87.50 %\n",
      "Standard Deviation: 5.23 %\n"
     ]
    }
   ],
   "source": [
    "print(\"Cross Fold Value : \" + str(20))\n",
    "accuracies = cross_val_score(estimator = classifier, X = x_train, y = y_train, cv = 20)\n",
    "print(\"Accuracy: {:.2f} %\".format(accuracies.mean()*100))\n",
    "print(\"Standard Deviation: {:.2f} %\".format(accuracies.std()*100))"
   ]
  },
  {
   "cell_type": "markdown",
   "id": "a40ec627-ebcd-4c38-8655-e54b38614af9",
   "metadata": {},
   "source": [
    "### SVM on 50% Train Test Split\n"
   ]
  },
  {
   "cell_type": "code",
   "execution_count": 17,
   "id": "b352ccd8-9f89-4006-8c44-fb35fdf33257",
   "metadata": {},
   "outputs": [],
   "source": [
    "x_train, x_test, y_train, y_test = train_test_split(x, y, test_size=0.50, random_state=42)"
   ]
  },
  {
   "cell_type": "code",
   "execution_count": 18,
   "id": "5e28207a-5f8e-4caf-ba22-8d35587fa89a",
   "metadata": {},
   "outputs": [],
   "source": [
    "from sklearn.preprocessing import StandardScaler\n",
    "scaler = StandardScaler()\n",
    "x_train = scaler.fit_transform(x_train)\n",
    "x_test = scaler.fit_transform(x_test)"
   ]
  },
  {
   "cell_type": "code",
   "execution_count": 19,
   "id": "753dcf98-5647-4a99-9e24-8c8c21cfbae7",
   "metadata": {},
   "outputs": [
    {
     "data": {
      "text/plain": [
       "SVC(kernel='linear', random_state=0)"
      ]
     },
     "execution_count": 19,
     "metadata": {},
     "output_type": "execute_result"
    }
   ],
   "source": [
    "from sklearn.svm import SVC\n",
    "classifier = SVC(kernel = 'linear', random_state = 0)\n",
    "classifier.fit(x_train, y_train)"
   ]
  },
  {
   "cell_type": "code",
   "execution_count": 20,
   "id": "feb12dd3-7867-4f61-b2f7-c721bb1cf00e",
   "metadata": {},
   "outputs": [],
   "source": [
    "y_preds = classifier.predict(x_test)"
   ]
  },
  {
   "cell_type": "markdown",
   "id": "cdd3e8d1",
   "metadata": {},
   "source": [
    "#### Predictions"
   ]
  },
  {
   "cell_type": "code",
   "execution_count": 21,
   "id": "d7ed8394",
   "metadata": {},
   "outputs": [
    {
     "name": "stdout",
     "output_type": "stream",
     "text": [
      "['Besni' 'Kecimen' 'Kecimen' 'Besni' 'Kecimen' 'Besni' 'Kecimen' 'Besni'\n",
      " 'Kecimen' 'Kecimen' 'Besni' 'Besni' 'Besni' 'Kecimen' 'Besni' 'Besni'\n",
      " 'Besni' 'Kecimen' 'Besni' 'Besni' 'Kecimen' 'Besni' 'Kecimen' 'Kecimen'\n",
      " 'Besni' 'Kecimen' 'Besni' 'Besni' 'Besni' 'Besni' 'Kecimen' 'Besni'\n",
      " 'Besni' 'Besni' 'Besni' 'Besni' 'Kecimen' 'Besni' 'Kecimen' 'Kecimen'\n",
      " 'Kecimen' 'Kecimen' 'Kecimen' 'Kecimen' 'Besni' 'Besni' 'Kecimen' 'Besni'\n",
      " 'Besni' 'Besni' 'Besni' 'Kecimen' 'Besni' 'Kecimen' 'Kecimen' 'Kecimen'\n",
      " 'Kecimen' 'Besni' 'Kecimen' 'Besni' 'Besni' 'Kecimen' 'Besni' 'Kecimen'\n",
      " 'Kecimen' 'Kecimen' 'Besni' 'Besni' 'Kecimen' 'Kecimen' 'Besni' 'Besni'\n",
      " 'Kecimen' 'Kecimen' 'Besni' 'Besni' 'Kecimen' 'Besni' 'Kecimen' 'Besni'\n",
      " 'Besni' 'Kecimen' 'Besni' 'Kecimen' 'Besni' 'Besni' 'Kecimen' 'Besni'\n",
      " 'Besni' 'Besni' 'Kecimen' 'Besni' 'Besni' 'Besni' 'Besni' 'Besni'\n",
      " 'Kecimen' 'Kecimen' 'Besni' 'Besni' 'Besni' 'Kecimen' 'Besni' 'Besni'\n",
      " 'Besni' 'Kecimen' 'Besni' 'Kecimen' 'Besni' 'Kecimen' 'Besni' 'Besni'\n",
      " 'Besni' 'Kecimen' 'Besni' 'Kecimen' 'Kecimen' 'Kecimen' 'Kecimen' 'Besni'\n",
      " 'Kecimen' 'Kecimen' 'Kecimen' 'Kecimen' 'Besni' 'Kecimen' 'Kecimen'\n",
      " 'Besni' 'Kecimen' 'Kecimen' 'Besni' 'Besni' 'Besni' 'Kecimen' 'Besni'\n",
      " 'Kecimen' 'Besni' 'Besni' 'Besni' 'Kecimen' 'Kecimen' 'Kecimen' 'Besni'\n",
      " 'Kecimen' 'Besni' 'Kecimen' 'Besni' 'Kecimen' 'Besni' 'Kecimen' 'Kecimen'\n",
      " 'Besni' 'Kecimen' 'Besni' 'Kecimen' 'Kecimen' 'Kecimen' 'Kecimen'\n",
      " 'Kecimen' 'Kecimen' 'Kecimen' 'Besni' 'Kecimen' 'Kecimen' 'Besni' 'Besni'\n",
      " 'Kecimen' 'Besni' 'Besni' 'Besni' 'Kecimen' 'Kecimen' 'Kecimen' 'Kecimen'\n",
      " 'Besni' 'Besni' 'Besni' 'Besni' 'Kecimen' 'Kecimen' 'Besni' 'Kecimen'\n",
      " 'Kecimen' 'Besni' 'Kecimen' 'Besni' 'Kecimen' 'Besni' 'Kecimen' 'Kecimen'\n",
      " 'Kecimen' 'Kecimen' 'Besni' 'Besni' 'Kecimen' 'Kecimen' 'Besni' 'Kecimen'\n",
      " 'Besni' 'Kecimen' 'Besni' 'Besni' 'Kecimen' 'Kecimen' 'Besni' 'Besni'\n",
      " 'Besni' 'Besni' 'Besni' 'Besni' 'Besni' 'Besni' 'Kecimen' 'Besni' 'Besni'\n",
      " 'Besni' 'Besni' 'Kecimen' 'Kecimen' 'Besni' 'Besni' 'Kecimen' 'Kecimen'\n",
      " 'Kecimen' 'Kecimen' 'Besni' 'Besni' 'Besni' 'Kecimen' 'Kecimen' 'Kecimen'\n",
      " 'Besni' 'Kecimen' 'Besni' 'Besni' 'Besni' 'Besni' 'Kecimen' 'Kecimen'\n",
      " 'Besni' 'Besni' 'Besni' 'Kecimen' 'Kecimen' 'Kecimen' 'Kecimen' 'Kecimen'\n",
      " 'Besni' 'Besni' 'Kecimen' 'Kecimen' 'Kecimen' 'Besni' 'Kecimen' 'Besni'\n",
      " 'Kecimen' 'Kecimen' 'Kecimen' 'Besni' 'Besni' 'Kecimen' 'Kecimen'\n",
      " 'Kecimen' 'Besni' 'Besni' 'Besni' 'Besni' 'Besni' 'Kecimen' 'Kecimen'\n",
      " 'Besni' 'Besni' 'Kecimen' 'Kecimen' 'Besni' 'Besni' 'Besni' 'Besni'\n",
      " 'Kecimen' 'Besni' 'Kecimen' 'Kecimen' 'Besni' 'Kecimen' 'Kecimen'\n",
      " 'Kecimen' 'Besni' 'Kecimen' 'Kecimen' 'Kecimen' 'Besni' 'Besni' 'Kecimen'\n",
      " 'Besni' 'Besni' 'Besni' 'Kecimen' 'Besni' 'Kecimen' 'Besni' 'Kecimen'\n",
      " 'Kecimen' 'Besni' 'Kecimen' 'Besni' 'Kecimen' 'Kecimen' 'Kecimen' 'Besni'\n",
      " 'Besni' 'Kecimen' 'Besni' 'Kecimen' 'Kecimen' 'Kecimen' 'Besni' 'Kecimen'\n",
      " 'Kecimen' 'Kecimen' 'Besni' 'Kecimen' 'Besni' 'Besni' 'Besni' 'Kecimen'\n",
      " 'Kecimen' 'Besni' 'Kecimen' 'Besni' 'Kecimen' 'Kecimen' 'Besni' 'Besni'\n",
      " 'Besni' 'Kecimen' 'Kecimen' 'Besni' 'Kecimen' 'Kecimen' 'Kecimen' 'Besni'\n",
      " 'Kecimen' 'Kecimen' 'Besni' 'Kecimen' 'Kecimen' 'Kecimen' 'Besni' 'Besni'\n",
      " 'Kecimen' 'Kecimen' 'Besni' 'Besni' 'Besni' 'Besni' 'Kecimen' 'Besni'\n",
      " 'Kecimen' 'Kecimen' 'Besni' 'Kecimen' 'Besni' 'Besni' 'Kecimen' 'Kecimen'\n",
      " 'Besni' 'Besni' 'Kecimen' 'Besni' 'Besni' 'Besni' 'Besni' 'Kecimen'\n",
      " 'Kecimen' 'Kecimen' 'Besni' 'Besni' 'Besni' 'Besni' 'Kecimen' 'Kecimen'\n",
      " 'Besni' 'Kecimen' 'Kecimen' 'Kecimen' 'Kecimen' 'Kecimen' 'Besni' 'Besni'\n",
      " 'Kecimen' 'Kecimen' 'Besni' 'Besni' 'Besni' 'Kecimen' 'Besni' 'Besni'\n",
      " 'Kecimen' 'Kecimen' 'Kecimen' 'Kecimen' 'Kecimen' 'Besni' 'Kecimen'\n",
      " 'Kecimen' 'Kecimen' 'Kecimen' 'Besni' 'Besni' 'Besni' 'Besni' 'Kecimen'\n",
      " 'Besni' 'Besni' 'Kecimen' 'Kecimen' 'Besni' 'Kecimen' 'Kecimen' 'Kecimen'\n",
      " 'Kecimen' 'Kecimen' 'Besni' 'Besni' 'Besni' 'Besni' 'Kecimen' 'Besni'\n",
      " 'Besni' 'Kecimen' 'Kecimen' 'Kecimen' 'Besni' 'Kecimen' 'Besni' 'Kecimen'\n",
      " 'Kecimen' 'Besni' 'Kecimen' 'Besni' 'Kecimen' 'Kecimen' 'Besni' 'Besni'\n",
      " 'Kecimen' 'Kecimen' 'Besni' 'Kecimen' 'Besni' 'Besni']\n"
     ]
    }
   ],
   "source": [
    "print(y_preds)"
   ]
  },
  {
   "cell_type": "markdown",
   "id": "17d1f383",
   "metadata": {},
   "source": [
    "#### Accuracy Score"
   ]
  },
  {
   "cell_type": "code",
   "execution_count": 22,
   "id": "64415733-09b5-46cd-a3ec-2b7030675855",
   "metadata": {},
   "outputs": [
    {
     "name": "stdout",
     "output_type": "stream",
     "text": [
      "Accuracy Score\n",
      "86.44%\n"
     ]
    }
   ],
   "source": [
    "from sklearn.metrics import confusion_matrix, accuracy_score\n",
    "\n",
    "print(\"Accuracy Score\")\n",
    "accuracy = accuracy_score(y_test, y_preds)\n",
    "print(str(round(accuracy, 4) * 100) + \"%\")"
   ]
  },
  {
   "cell_type": "markdown",
   "id": "8174dcf1",
   "metadata": {},
   "source": [
    "#### Visualization "
   ]
  },
  {
   "cell_type": "code",
   "execution_count": 23,
   "id": "0cbe12fd-e97a-418c-b8d4-95da9937c962",
   "metadata": {},
   "outputs": [
    {
     "data": {
      "text/plain": [
       "Text(33.0, 0.5, 'Predicted_False                      Predicted_True')"
      ]
     },
     "execution_count": 23,
     "metadata": {},
     "output_type": "execute_result"
    },
    {
     "data": {
      "image/png": "[encoded data removed]",
      "text/plain": [
       "<Figure size 432x288 with 2 Axes>"
      ]
     },
     "metadata": {
      "needs_background": "light"
     },
     "output_type": "display_data"
    }
   ],
   "source": [
    "import seaborn as sns\n",
    "import matplotlib.pyplot as plt\n",
    "\n",
    "cm = confusion_matrix(y_test, y_preds)\n",
    "ax = plt.subplot()\n",
    "sns.heatmap(cm, annot = True, ax=ax)\n",
    "ax.set_title('Actual_True                        Actual_False')\n",
    "ax.set_ylabel('Predicted_False                      Predicted_True')"
   ]
  },
  {
   "cell_type": "markdown",
   "id": "91e74a37-139c-4da0-85a6-55bbe92b3ec7",
   "metadata": {},
   "source": [
    "### Comparsion of Results on 20% vs 50% split\n",
    "\n",
    "Results of a 20% test split: 86.11%\n",
    "\n",
    "Results of a 50% test split: 86.44%\n",
    "\n",
    "The predictive ability of the model on the held out test was slightly higher with a 50% split vs that of a 20% split "
   ]
  }
 ],
 "metadata": {
  "kernelspec": {
   "display_name": "Python 3 (ipykernel)",
   "language": "python",
   "name": "python3"
  },
  "language_info": {
   "codemirror_mode": {
    "name": "ipython",
    "version": 3
   },
   "file_extension": ".py",
   "mimetype": "text/x-python",
   "name": "python",
   "nbconvert_exporter": "python",
   "pygments_lexer": "ipython3",
   "version": "3.7.11"
  }
 },
 "nbformat": 4,
 "nbformat_minor": 5
}
