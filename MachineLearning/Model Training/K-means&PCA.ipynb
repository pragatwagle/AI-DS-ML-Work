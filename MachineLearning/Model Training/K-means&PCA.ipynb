{
 "cells": [
  {
   "cell_type": "markdown",
   "id": "d7fe7a12",
   "metadata": {},
   "source": [
    "Pragat Wagle\n",
    "\n",
    "Assignment 6 K-means and PCA"
   ]
  },
  {
   "cell_type": "markdown",
   "id": "f6f03676",
   "metadata": {},
   "source": [
    "### Data preprocessing\n",
    "\n",
    "The data was checked for outliers and none were found. With the samples there existed no null or empty data. The data was standardized using StandardScaler to ensure both attributes were scaled accordingly."
   ]
  },
  {
   "cell_type": "code",
   "execution_count": 285,
   "id": "0d1d4461",
   "metadata": {},
   "outputs": [
    {
     "data": {
      "text/html": [
       "<div>\n",
       "<style scoped>\n",
       "    .dataframe tbody tr th:only-of-type {\n",
       "        vertical-align: middle;\n",
       "    }\n",
       "\n",
       "    .dataframe tbody tr th {\n",
       "        vertical-align: top;\n",
       "    }\n",
       "\n",
       "    .dataframe thead th {\n",
       "        text-align: right;\n",
       "    }\n",
       "</style>\n",
       "<table border=\"1\" class=\"dataframe\">\n",
       "  <thead>\n",
       "    <tr style=\"text-align: right;\">\n",
       "      <th></th>\n",
       "      <th>Unnamed: 0</th>\n",
       "      <th>eruptions</th>\n",
       "      <th>waiting</th>\n",
       "    </tr>\n",
       "  </thead>\n",
       "  <tbody>\n",
       "    <tr>\n",
       "      <th>0</th>\n",
       "      <td>1</td>\n",
       "      <td>3.600</td>\n",
       "      <td>79</td>\n",
       "    </tr>\n",
       "    <tr>\n",
       "      <th>1</th>\n",
       "      <td>2</td>\n",
       "      <td>1.800</td>\n",
       "      <td>54</td>\n",
       "    </tr>\n",
       "    <tr>\n",
       "      <th>2</th>\n",
       "      <td>3</td>\n",
       "      <td>3.333</td>\n",
       "      <td>74</td>\n",
       "    </tr>\n",
       "    <tr>\n",
       "      <th>3</th>\n",
       "      <td>4</td>\n",
       "      <td>2.283</td>\n",
       "      <td>62</td>\n",
       "    </tr>\n",
       "    <tr>\n",
       "      <th>4</th>\n",
       "      <td>5</td>\n",
       "      <td>4.533</td>\n",
       "      <td>85</td>\n",
       "    </tr>\n",
       "    <tr>\n",
       "      <th>...</th>\n",
       "      <td>...</td>\n",
       "      <td>...</td>\n",
       "      <td>...</td>\n",
       "    </tr>\n",
       "    <tr>\n",
       "      <th>267</th>\n",
       "      <td>268</td>\n",
       "      <td>4.117</td>\n",
       "      <td>81</td>\n",
       "    </tr>\n",
       "    <tr>\n",
       "      <th>268</th>\n",
       "      <td>269</td>\n",
       "      <td>2.150</td>\n",
       "      <td>46</td>\n",
       "    </tr>\n",
       "    <tr>\n",
       "      <th>269</th>\n",
       "      <td>270</td>\n",
       "      <td>4.417</td>\n",
       "      <td>90</td>\n",
       "    </tr>\n",
       "    <tr>\n",
       "      <th>270</th>\n",
       "      <td>271</td>\n",
       "      <td>1.817</td>\n",
       "      <td>46</td>\n",
       "    </tr>\n",
       "    <tr>\n",
       "      <th>271</th>\n",
       "      <td>272</td>\n",
       "      <td>4.467</td>\n",
       "      <td>74</td>\n",
       "    </tr>\n",
       "  </tbody>\n",
       "</table>\n",
       "<p>272 rows × 3 columns</p>\n",
       "</div>"
      ],
      "text/plain": [
       "     Unnamed: 0  eruptions  waiting\n",
       "0             1      3.600       79\n",
       "1             2      1.800       54\n",
       "2             3      3.333       74\n",
       "3             4      2.283       62\n",
       "4             5      4.533       85\n",
       "..          ...        ...      ...\n",
       "267         268      4.117       81\n",
       "268         269      2.150       46\n",
       "269         270      4.417       90\n",
       "270         271      1.817       46\n",
       "271         272      4.467       74\n",
       "\n",
       "[272 rows x 3 columns]"
      ]
     },
     "execution_count": 285,
     "metadata": {},
     "output_type": "execute_result"
    }
   ],
   "source": [
    "import pandas as pd\n",
    "faithful = pd.read_csv(\"faithful.csv\")\n",
    "faithful"
   ]
  },
  {
   "cell_type": "code",
   "execution_count": 286,
   "id": "de09523f",
   "metadata": {},
   "outputs": [],
   "source": [
    "faithfulDF = faithful[[\"eruptions\",\"waiting\"]]"
   ]
  },
  {
   "cell_type": "markdown",
   "id": "2768c77e",
   "metadata": {},
   "source": [
    "Considerations were made to find outliers using a boxplot for both eruptions and wating which showed that there were no outliers seen in the data."
   ]
  },
  {
   "cell_type": "code",
   "execution_count": 287,
   "id": "85f0f2d1",
   "metadata": {},
   "outputs": [
    {
     "name": "stderr",
     "output_type": "stream",
     "text": [
      "/Users/pragatwagle/opt/anaconda3/lib/python3.7/site-packages/seaborn/_decorators.py:43: FutureWarning: Pass the following variable as a keyword arg: x. From version 0.12, the only valid positional argument will be `data`, and passing other arguments without an explicit keyword will result in an error or misinterpretation.\n",
      "  FutureWarning\n"
     ]
    },
    {
     "data": {
      "text/plain": [
       "<AxesSubplot:xlabel='eruptions'>"
      ]
     },
     "execution_count": 287,
     "metadata": {},
     "output_type": "execute_result"
    },
    {
     "data": {
      "image/png": "[encoded data removed]",
      "text/plain": [
       "<Figure size 432x288 with 1 Axes>"
      ]
     },
     "metadata": {
      "needs_background": "light"
     },
     "output_type": "display_data"
    }
   ],
   "source": [
    "import seaborn as sns\n",
    "sns.boxplot(faithfulDF['eruptions'])"
   ]
  },
  {
   "cell_type": "code",
   "execution_count": 288,
   "id": "f86b7c81",
   "metadata": {},
   "outputs": [
    {
     "name": "stderr",
     "output_type": "stream",
     "text": [
      "/Users/pragatwagle/opt/anaconda3/lib/python3.7/site-packages/seaborn/_decorators.py:43: FutureWarning: Pass the following variable as a keyword arg: x. From version 0.12, the only valid positional argument will be `data`, and passing other arguments without an explicit keyword will result in an error or misinterpretation.\n",
      "  FutureWarning\n"
     ]
    },
    {
     "data": {
      "text/plain": [
       "<AxesSubplot:xlabel='waiting'>"
      ]
     },
     "execution_count": 288,
     "metadata": {},
     "output_type": "execute_result"
    },
    {
     "data": {
      "image/png": "[encoded data removed]",
      "text/plain": [
       "<Figure size 432x288 with 1 Axes>"
      ]
     },
     "metadata": {
      "needs_background": "light"
     },
     "output_type": "display_data"
    }
   ],
   "source": [
    "sns.boxplot(faithfulDF['waiting'])"
   ]
  },
  {
   "cell_type": "code",
   "execution_count": 289,
   "id": "c6387f0a",
   "metadata": {},
   "outputs": [
    {
     "data": {
      "text/plain": [
       "eruptions    0\n",
       "waiting      0\n",
       "dtype: int64"
      ]
     },
     "execution_count": 289,
     "metadata": {},
     "output_type": "execute_result"
    }
   ],
   "source": [
    "faithfulDF.isna().sum()"
   ]
  },
  {
   "cell_type": "markdown",
   "id": "4c364989",
   "metadata": {},
   "source": [
    "Standardizing the data consists of subtracting the current value by the average value of the that column and dividing the standard deviation of that data from the difference. The sklearn implementation is used to fit and transform the faithful data set."
   ]
  },
  {
   "cell_type": "code",
   "execution_count": 290,
   "id": "b23ada69",
   "metadata": {},
   "outputs": [],
   "source": [
    "from sklearn.preprocessing import StandardScaler\n",
    "from pandas import DataFrame\n",
    "scaler = StandardScaler()\n",
    "data = scaler.fit_transform(faithfulDF)\n",
    "df = DataFrame(data, columns = [\"eruptions\", \"waiting\"])"
   ]
  },
  {
   "cell_type": "code",
   "execution_count": 291,
   "id": "dbc40b3e",
   "metadata": {},
   "outputs": [
    {
     "name": "stderr",
     "output_type": "stream",
     "text": [
      "/Users/pragatwagle/opt/anaconda3/lib/python3.7/site-packages/seaborn/_decorators.py:43: FutureWarning: Pass the following variable as a keyword arg: x. From version 0.12, the only valid positional argument will be `data`, and passing other arguments without an explicit keyword will result in an error or misinterpretation.\n",
      "  FutureWarning\n"
     ]
    },
    {
     "data": {
      "text/plain": [
       "<AxesSubplot:xlabel='eruptions'>"
      ]
     },
     "execution_count": 291,
     "metadata": {},
     "output_type": "execute_result"
    },
    {
     "data": {
      "image/png": "[encoded data removed]",
      "text/plain": [
       "<Figure size 432x288 with 1 Axes>"
      ]
     },
     "metadata": {
      "needs_background": "light"
     },
     "output_type": "display_data"
    }
   ],
   "source": [
    "# Box Plot\n",
    "import seaborn as sns\n",
    "sns.boxplot(df['eruptions'])"
   ]
  },
  {
   "cell_type": "code",
   "execution_count": 292,
   "id": "2c02e7d2",
   "metadata": {},
   "outputs": [
    {
     "data": {
      "text/html": [
       "<div>\n",
       "<style scoped>\n",
       "    .dataframe tbody tr th:only-of-type {\n",
       "        vertical-align: middle;\n",
       "    }\n",
       "\n",
       "    .dataframe tbody tr th {\n",
       "        vertical-align: top;\n",
       "    }\n",
       "\n",
       "    .dataframe thead th {\n",
       "        text-align: right;\n",
       "    }\n",
       "</style>\n",
       "<table border=\"1\" class=\"dataframe\">\n",
       "  <thead>\n",
       "    <tr style=\"text-align: right;\">\n",
       "      <th></th>\n",
       "      <th>eruptions</th>\n",
       "      <th>waiting</th>\n",
       "    </tr>\n",
       "  </thead>\n",
       "  <tbody>\n",
       "    <tr>\n",
       "      <th>0</th>\n",
       "      <td>0.098499</td>\n",
       "      <td>0.597123</td>\n",
       "    </tr>\n",
       "    <tr>\n",
       "      <th>1</th>\n",
       "      <td>-1.481459</td>\n",
       "      <td>-1.245181</td>\n",
       "    </tr>\n",
       "    <tr>\n",
       "      <th>2</th>\n",
       "      <td>-0.135861</td>\n",
       "      <td>0.228663</td>\n",
       "    </tr>\n",
       "    <tr>\n",
       "      <th>3</th>\n",
       "      <td>-1.057503</td>\n",
       "      <td>-0.655644</td>\n",
       "    </tr>\n",
       "    <tr>\n",
       "      <th>4</th>\n",
       "      <td>0.917443</td>\n",
       "      <td>1.039277</td>\n",
       "    </tr>\n",
       "  </tbody>\n",
       "</table>\n",
       "</div>"
      ],
      "text/plain": [
       "   eruptions   waiting\n",
       "0   0.098499  0.597123\n",
       "1  -1.481459 -1.245181\n",
       "2  -0.135861  0.228663\n",
       "3  -1.057503 -0.655644\n",
       "4   0.917443  1.039277"
      ]
     },
     "execution_count": 292,
     "metadata": {},
     "output_type": "execute_result"
    }
   ],
   "source": [
    "df.head()"
   ]
  },
  {
   "cell_type": "markdown",
   "id": "d20bcfd2",
   "metadata": {},
   "source": [
    "### 1) K-Means\n",
    "Below is an implementation of a home grown K-means algorithm to return results. The results with then be visualized to show the different clusters.\n",
    "\n",
    "This implementation was based off the concepts discussed in https://www.youtube.com/watch?v=hDmNF9JG3lo. "
   ]
  },
  {
   "cell_type": "code",
   "execution_count": 222,
   "id": "d3d637ba",
   "metadata": {},
   "outputs": [],
   "source": [
    "import numpy as np\n",
    "from statistics import mean \n",
    "\n",
    "def euclidean_distance(x, center):\n",
    "    return np.sqrt(np.sum((x - center) ** 2))\n",
    "    \n",
    "\n",
    "class KMeans:\n",
    "    def __init__(self, k, maxiter):\n",
    "        self.groups = k\n",
    "        self.maxiter = maxiter\n",
    "    \n",
    "    def fit(self, X):\n",
    "        self.X = X\n",
    "    \n",
    "    def predict(self):\n",
    "        centers = np.random.rand(self.groups, 2)\n",
    "        predictions = {}\n",
    "        for _ in range(self.maxiter):\n",
    "            for i in range(len(self.X.values)):\n",
    "                center = classify_center(self.X.values[i], centers)\n",
    "                #the value of x and the index of the closest center \n",
    "                predictions[i] = center\n",
    "            center_values = {}\n",
    "            for c in range(len(centers)):\n",
    "                center_values[c] = []\n",
    "                for pred in predictions: \n",
    "                    if(predictions[pred] == c):\n",
    "                        center_values[c].append(self.X.values[pred])\n",
    "                centers[c] = np.mean(center_values[c], axis = 0)\n",
    "\n",
    "        # predictions are a dictionary with the data row index as key and value is the group it belongs to        \n",
    "        # centers an array of the centers that were calculated\n",
    "        return predictions, centers\n",
    "                \n",
    "    def classify_center(x, centers):\n",
    "        distances = []\n",
    "        for c in centers:\n",
    "            distance = euclidean_distance(x, c)\n",
    "            distances.append(distance)\n",
    "        sortedDistances = np.argsort(distances)\n",
    "        #the index center that is closest to the point \n",
    "        return sortedDistances[0]    "
   ]
  },
  {
   "cell_type": "code",
   "execution_count": 223,
   "id": "d1bee4b8",
   "metadata": {},
   "outputs": [],
   "source": [
    "kmeans = KMeans(4,400)\n",
    "kmeans.fit(df)\n",
    "predictions, centers = kmeans.predict()"
   ]
  },
  {
   "cell_type": "markdown",
   "id": "19cfe220",
   "metadata": {},
   "source": [
    "### Results\n",
    "\n",
    "Below are the predictions in a dictionary format with the key being the sample and the value the group it was caculated to be in. Below are the centers that were caculated for the 4 groups beginning with 0."
   ]
  },
  {
   "cell_type": "code",
   "execution_count": 235,
   "id": "f2a8795d",
   "metadata": {},
   "outputs": [
    {
     "name": "stdout",
     "output_type": "stream",
     "text": [
      "Predictions:\n",
      "Format -->>> {Sample:Group...}:\n",
      "\n",
      "{0: 2, 1: 1, 2: 2, 3: 0, 4: 3, 5: 0, 6: 3, 7: 3, 8: 1, 9: 3, 10: 1, 11: 3, 12: 2, 13: 1, 14: 3, 15: 1, 16: 1, 17: 3, 18: 1, 19: 2, 20: 1, 21: 1, 22: 2, 23: 0, 24: 2, 25: 2, 26: 1, 27: 2, 28: 2, 29: 2, 30: 2, 31: 2, 32: 0, 33: 2, 34: 2, 35: 1, 36: 1, 37: 3, 38: 1, 39: 3, 40: 2, 41: 1, 42: 3, 43: 1, 44: 2, 45: 2, 46: 0, 47: 1, 48: 3, 49: 1, 50: 2, 51: 3, 52: 1, 53: 3, 54: 1, 55: 3, 56: 2, 57: 1, 58: 2, 59: 2, 60: 1, 61: 3, 62: 1, 63: 3, 64: 1, 65: 3, 66: 2, 67: 2, 68: 0, 69: 2, 70: 2, 71: 1, 72: 2, 73: 2, 74: 1, 75: 2, 76: 1, 77: 2, 78: 2, 79: 2, 80: 2, 81: 3, 82: 2, 83: 0, 84: 2, 85: 3, 86: 2, 87: 2, 88: 1, 89: 3, 90: 1, 91: 3, 92: 1, 93: 2, 94: 1, 95: 2, 96: 3, 97: 2, 98: 1, 99: 3, 100: 0, 101: 3, 102: 1, 103: 3, 104: 2, 105: 1, 106: 3, 107: 1, 108: 3, 109: 2, 110: 2, 111: 1, 112: 3, 113: 2, 114: 1, 115: 3, 116: 1, 117: 3, 118: 1, 119: 3, 120: 1, 121: 2, 122: 2, 123: 1, 124: 3, 125: 2, 126: 1, 127: 3, 128: 1, 129: 3, 130: 1, 131: 3, 132: 0, 133: 3, 134: 1, 135: 3, 136: 1, 137: 3, 138: 1, 139: 2, 140: 2, 141: 1, 142: 3, 143: 2, 144: 2, 145: 1, 146: 3, 147: 1, 148: 3, 149: 1, 150: 2, 151: 2, 152: 0, 153: 3, 154: 2, 155: 2, 156: 3, 157: 3, 158: 1, 159: 3, 160: 1, 161: 3, 162: 1, 163: 2, 164: 0, 165: 2, 166: 0, 167: 3, 168: 1, 169: 3, 170: 1, 171: 1, 172: 2, 173: 0, 174: 2, 175: 2, 176: 2, 177: 1, 178: 3, 179: 2, 180: 1, 181: 2, 182: 3, 183: 2, 184: 1, 185: 2, 186: 3, 187: 1, 188: 3, 189: 1, 190: 3, 191: 1, 192: 2, 193: 3, 194: 2, 195: 2, 196: 3, 197: 2, 198: 1, 199: 2, 200: 1, 201: 3, 202: 3, 203: 1, 204: 2, 205: 1, 206: 2, 207: 3, 208: 1, 209: 3, 210: 0, 211: 3, 212: 1, 213: 2, 214: 0, 215: 2, 216: 1, 217: 3, 218: 1, 219: 2, 220: 1, 221: 3, 222: 1, 223: 2, 224: 2, 225: 2, 226: 2, 227: 2, 228: 2, 229: 2, 230: 2, 231: 1, 232: 3, 233: 1, 234: 3, 235: 1, 236: 1, 237: 2, 238: 2, 239: 0, 240: 2, 241: 1, 242: 3, 243: 0, 244: 3, 245: 2, 246: 1, 247: 3, 248: 0, 249: 2, 250: 1, 251: 3, 252: 2, 253: 2, 254: 3, 255: 2, 256: 2, 257: 3, 258: 1, 259: 2, 260: 2, 261: 3, 262: 1, 263: 3, 264: 1, 265: 1, 266: 2, 267: 2, 268: 1, 269: 3, 270: 1, 271: 2}\n",
      "\n",
      "\n",
      "Center for Group 0: [-0.61433502 -0.4959773 ]\n",
      "Center for Group 1: [-1.32620967 -1.29893313]\n",
      "Center for Group 2: [0.62803146 0.43515416]\n",
      "Center for Group 3: [0.86979222 1.06249463]\n"
     ]
    }
   ],
   "source": [
    "print(\"Predictions:\")\n",
    "print(\"Format -->>> {Sample:Group...}:\\n\")\n",
    "print(predictions)\n",
    "print(\"\\n\")\n",
    "\n",
    "for center in range(len(centers)):\n",
    "    print(f\"Center for Group {center}: {centers[center]}\")\n"
   ]
  },
  {
   "cell_type": "markdown",
   "id": "95735fab",
   "metadata": {},
   "source": [
    "Visualization of scatterplot of eruptions on x axis and waiting on the y axis with the centers color coordinated and plotted"
   ]
  },
  {
   "cell_type": "code",
   "execution_count": 225,
   "id": "eb480218",
   "metadata": {},
   "outputs": [],
   "source": [
    "import matplotlib.pyplot as plt"
   ]
  },
  {
   "cell_type": "markdown",
   "id": "041711a5",
   "metadata": {},
   "source": [
    "### Visualization\n",
    "\n",
    "Below is a scatter plot of the different groups that were determined from the home grown Kmeans algorithm with the center of the X marking the where the centroid was calcuated to be. Looking at the visualization  "
   ]
  },
  {
   "cell_type": "code",
   "execution_count": 227,
   "id": "81c1f079",
   "metadata": {},
   "outputs": [
    {
     "data": {
      "image/png": "[encoded data removed]",
      "text/plain": [
       "<Figure size 432x288 with 1 Axes>"
      ]
     },
     "metadata": {
      "needs_background": "light"
     },
     "output_type": "display_data"
    }
   ],
   "source": [
    "plt.figure()\n",
    "plt.xlabel(\"Eruptions\")\n",
    "plt.ylabel(\"Waiting\")\n",
    "plt.title(\"KMeans Centers Plot\")\n",
    "\n",
    "for pred in predictions:\n",
    "    if predictions[pred] == 0:\n",
    "        plt.scatter(df.values[pred][0], df.values[pred][1], color=\"pink\")        \n",
    "    if predictions[pred] == 1:\n",
    "        plt.scatter(df.values[pred][0], df.values[pred][1], color=\"red\")        \n",
    "    if predictions[pred] == 2:\n",
    "        plt.scatter(df.values[pred][0], df.values[pred][1], color=\"black\")        \n",
    "    if predictions[pred] == 3:\n",
    "        plt.scatter(df.values[pred][0], df.values[pred][1], color=\"purple\")        \n",
    "    \n",
    "plt.scatter(centers[0][0],centers[0][1], color=\"brown\", marker = \"x\", s=300, linewidths=3)\n",
    "plt.scatter(centers[1][0],centers[1][1], color=\"brown\", marker = \"x\", s=300, linewidths=3)\n",
    "plt.scatter(centers[2][0],centers[2][1], color=\"brown\", marker = \"x\", s=300, linewidths=3)\n",
    "plt.scatter(centers[3][0],centers[3][1], color=\"brown\", marker = \"x\", s=300, linewidths=3)\n",
    "plt.show()"
   ]
  },
  {
   "cell_type": "markdown",
   "id": "b881b3a8",
   "metadata": {},
   "source": [
    "### 2) PCA\n",
    "\n",
    "Principal component analysis is a dimesionality reduction techique to find princpal components that can explain as certain percent of the total variance it the data. It is generally used for large data set with mutiple attributes.\n",
    "\n",
    "The below code was implemented using reference to: \n",
    "\n",
    "https://scikit-learn.org/stable/auto_examples/datasets/plot_iris_dataset.html"
   ]
  },
  {
   "cell_type": "markdown",
   "id": "0a40e754",
   "metadata": {},
   "source": [
    "The dataset is located in sklearn datasets and is pulled from there."
   ]
  },
  {
   "cell_type": "code",
   "execution_count": 329,
   "id": "41579049",
   "metadata": {},
   "outputs": [],
   "source": [
    "from sklearn import datasets\n",
    "from sklearn.decomposition import PCA\n",
    "\n",
    "iris = datasets.load_iris()\n",
    "X = iris.data\n",
    "y = iris.target"
   ]
  },
  {
   "cell_type": "markdown",
   "id": "6d13c57a",
   "metadata": {},
   "source": [
    "From the submodule decomposition in sklearn PCA is imported and used to create 2 components from the 4 features included in the iris dataset."
   ]
  },
  {
   "cell_type": "code",
   "execution_count": 313,
   "id": "7df63a5c",
   "metadata": {},
   "outputs": [
    {
     "data": {
      "text/plain": [
       "(150, 2)"
      ]
     },
     "execution_count": 313,
     "metadata": {},
     "output_type": "execute_result"
    }
   ],
   "source": [
    "pca = PCA(n_components=2)\n",
    "pca.fit(X)\n",
    "X_pca = pca.transform(X)\n",
    "X_pca.shape"
   ]
  },
  {
   "cell_type": "markdown",
   "id": "9d916aff",
   "metadata": {},
   "source": [
    "### Results"
   ]
  },
  {
   "cell_type": "code",
   "execution_count": 346,
   "id": "a9662757",
   "metadata": {},
   "outputs": [
    {
     "name": "stdout",
     "output_type": "stream",
     "text": [
      "Original Dataset\n",
      "\n",
      "[[5.1 3.5 1.4 0.2]\n",
      " [4.9 3.  1.4 0.2]\n",
      " [4.7 3.2 1.3 0.2]\n",
      " [4.6 3.1 1.5 0.2]\n",
      " [5.  3.6 1.4 0.2]\n",
      " [5.4 3.9 1.7 0.4]\n",
      " [4.6 3.4 1.4 0.3]\n",
      " [5.  3.4 1.5 0.2]\n",
      " [4.4 2.9 1.4 0.2]\n",
      " [4.9 3.1 1.5 0.1]\n",
      " [5.4 3.7 1.5 0.2]\n",
      " [4.8 3.4 1.6 0.2]\n",
      " [4.8 3.  1.4 0.1]\n",
      " [4.3 3.  1.1 0.1]\n",
      " [5.8 4.  1.2 0.2]\n",
      " [5.7 4.4 1.5 0.4]\n",
      " [5.4 3.9 1.3 0.4]\n",
      " [5.1 3.5 1.4 0.3]\n",
      " [5.7 3.8 1.7 0.3]\n",
      " [5.1 3.8 1.5 0.3]\n",
      " [5.4 3.4 1.7 0.2]\n",
      " [5.1 3.7 1.5 0.4]\n",
      " [4.6 3.6 1.  0.2]\n",
      " [5.1 3.3 1.7 0.5]\n",
      " [4.8 3.4 1.9 0.2]\n",
      " [5.  3.  1.6 0.2]\n",
      " [5.  3.4 1.6 0.4]\n",
      " [5.2 3.5 1.5 0.2]\n",
      " [5.2 3.4 1.4 0.2]\n",
      " [4.7 3.2 1.6 0.2]\n",
      " [4.8 3.1 1.6 0.2]\n",
      " [5.4 3.4 1.5 0.4]\n",
      " [5.2 4.1 1.5 0.1]\n",
      " [5.5 4.2 1.4 0.2]\n",
      " [4.9 3.1 1.5 0.2]\n",
      " [5.  3.2 1.2 0.2]\n",
      " [5.5 3.5 1.3 0.2]\n",
      " [4.9 3.6 1.4 0.1]\n",
      " [4.4 3.  1.3 0.2]\n",
      " [5.1 3.4 1.5 0.2]\n",
      " [5.  3.5 1.3 0.3]\n",
      " [4.5 2.3 1.3 0.3]\n",
      " [4.4 3.2 1.3 0.2]\n",
      " [5.  3.5 1.6 0.6]\n",
      " [5.1 3.8 1.9 0.4]\n",
      " [4.8 3.  1.4 0.3]\n",
      " [5.1 3.8 1.6 0.2]\n",
      " [4.6 3.2 1.4 0.2]\n",
      " [5.3 3.7 1.5 0.2]\n",
      " [5.  3.3 1.4 0.2]\n",
      " [7.  3.2 4.7 1.4]\n",
      " [6.4 3.2 4.5 1.5]\n",
      " [6.9 3.1 4.9 1.5]\n",
      " [5.5 2.3 4.  1.3]\n",
      " [6.5 2.8 4.6 1.5]\n",
      " [5.7 2.8 4.5 1.3]\n",
      " [6.3 3.3 4.7 1.6]\n",
      " [4.9 2.4 3.3 1. ]\n",
      " [6.6 2.9 4.6 1.3]\n",
      " [5.2 2.7 3.9 1.4]\n",
      " [5.  2.  3.5 1. ]\n",
      " [5.9 3.  4.2 1.5]\n",
      " [6.  2.2 4.  1. ]\n",
      " [6.1 2.9 4.7 1.4]\n",
      " [5.6 2.9 3.6 1.3]\n",
      " [6.7 3.1 4.4 1.4]\n",
      " [5.6 3.  4.5 1.5]\n",
      " [5.8 2.7 4.1 1. ]\n",
      " [6.2 2.2 4.5 1.5]\n",
      " [5.6 2.5 3.9 1.1]\n",
      " [5.9 3.2 4.8 1.8]\n",
      " [6.1 2.8 4.  1.3]\n",
      " [6.3 2.5 4.9 1.5]\n",
      " [6.1 2.8 4.7 1.2]\n",
      " [6.4 2.9 4.3 1.3]\n",
      " [6.6 3.  4.4 1.4]\n",
      " [6.8 2.8 4.8 1.4]\n",
      " [6.7 3.  5.  1.7]\n",
      " [6.  2.9 4.5 1.5]\n",
      " [5.7 2.6 3.5 1. ]\n",
      " [5.5 2.4 3.8 1.1]\n",
      " [5.5 2.4 3.7 1. ]\n",
      " [5.8 2.7 3.9 1.2]\n",
      " [6.  2.7 5.1 1.6]\n",
      " [5.4 3.  4.5 1.5]\n",
      " [6.  3.4 4.5 1.6]\n",
      " [6.7 3.1 4.7 1.5]\n",
      " [6.3 2.3 4.4 1.3]\n",
      " [5.6 3.  4.1 1.3]\n",
      " [5.5 2.5 4.  1.3]\n",
      " [5.5 2.6 4.4 1.2]\n",
      " [6.1 3.  4.6 1.4]\n",
      " [5.8 2.6 4.  1.2]\n",
      " [5.  2.3 3.3 1. ]\n",
      " [5.6 2.7 4.2 1.3]\n",
      " [5.7 3.  4.2 1.2]\n",
      " [5.7 2.9 4.2 1.3]\n",
      " [6.2 2.9 4.3 1.3]\n",
      " [5.1 2.5 3.  1.1]\n",
      " [5.7 2.8 4.1 1.3]\n",
      " [6.3 3.3 6.  2.5]\n",
      " [5.8 2.7 5.1 1.9]\n",
      " [7.1 3.  5.9 2.1]\n",
      " [6.3 2.9 5.6 1.8]\n",
      " [6.5 3.  5.8 2.2]\n",
      " [7.6 3.  6.6 2.1]\n",
      " [4.9 2.5 4.5 1.7]\n",
      " [7.3 2.9 6.3 1.8]\n",
      " [6.7 2.5 5.8 1.8]\n",
      " [7.2 3.6 6.1 2.5]\n",
      " [6.5 3.2 5.1 2. ]\n",
      " [6.4 2.7 5.3 1.9]\n",
      " [6.8 3.  5.5 2.1]\n",
      " [5.7 2.5 5.  2. ]\n",
      " [5.8 2.8 5.1 2.4]\n",
      " [6.4 3.2 5.3 2.3]\n",
      " [6.5 3.  5.5 1.8]\n",
      " [7.7 3.8 6.7 2.2]\n",
      " [7.7 2.6 6.9 2.3]\n",
      " [6.  2.2 5.  1.5]\n",
      " [6.9 3.2 5.7 2.3]\n",
      " [5.6 2.8 4.9 2. ]\n",
      " [7.7 2.8 6.7 2. ]\n",
      " [6.3 2.7 4.9 1.8]\n",
      " [6.7 3.3 5.7 2.1]\n",
      " [7.2 3.2 6.  1.8]\n",
      " [6.2 2.8 4.8 1.8]\n",
      " [6.1 3.  4.9 1.8]\n",
      " [6.4 2.8 5.6 2.1]\n",
      " [7.2 3.  5.8 1.6]\n",
      " [7.4 2.8 6.1 1.9]\n",
      " [7.9 3.8 6.4 2. ]\n",
      " [6.4 2.8 5.6 2.2]\n",
      " [6.3 2.8 5.1 1.5]\n",
      " [6.1 2.6 5.6 1.4]\n",
      " [7.7 3.  6.1 2.3]\n",
      " [6.3 3.4 5.6 2.4]\n",
      " [6.4 3.1 5.5 1.8]\n",
      " [6.  3.  4.8 1.8]\n",
      " [6.9 3.1 5.4 2.1]\n",
      " [6.7 3.1 5.6 2.4]\n",
      " [6.9 3.1 5.1 2.3]\n",
      " [5.8 2.7 5.1 1.9]\n",
      " [6.8 3.2 5.9 2.3]\n",
      " [6.7 3.3 5.7 2.5]\n",
      " [6.7 3.  5.2 2.3]\n",
      " [6.3 2.5 5.  1.9]\n",
      " [6.5 3.  5.2 2. ]\n",
      " [6.2 3.4 5.4 2.3]\n",
      " [5.9 3.  5.1 1.8]]\n"
     ]
    }
   ],
   "source": [
    "print(\"Original Dataset\\n\")\n",
    "print(X)"
   ]
  },
  {
   "cell_type": "code",
   "execution_count": 347,
   "id": "b2f3501e",
   "metadata": {},
   "outputs": [
    {
     "name": "stdout",
     "output_type": "stream",
     "text": [
      "PCA with 2 components\n",
      "\n",
      "[[-2.68412563  0.31939725]\n",
      " [-2.71414169 -0.17700123]\n",
      " [-2.88899057 -0.14494943]\n",
      " [-2.74534286 -0.31829898]\n",
      " [-2.72871654  0.32675451]\n",
      " [-2.28085963  0.74133045]\n",
      " [-2.82053775 -0.08946138]\n",
      " [-2.62614497  0.16338496]\n",
      " [-2.88638273 -0.57831175]\n",
      " [-2.6727558  -0.11377425]\n",
      " [-2.50694709  0.6450689 ]\n",
      " [-2.61275523  0.01472994]\n",
      " [-2.78610927 -0.235112  ]\n",
      " [-3.22380374 -0.51139459]\n",
      " [-2.64475039  1.17876464]\n",
      " [-2.38603903  1.33806233]\n",
      " [-2.62352788  0.81067951]\n",
      " [-2.64829671  0.31184914]\n",
      " [-2.19982032  0.87283904]\n",
      " [-2.5879864   0.51356031]\n",
      " [-2.31025622  0.39134594]\n",
      " [-2.54370523  0.43299606]\n",
      " [-3.21593942  0.13346807]\n",
      " [-2.30273318  0.09870885]\n",
      " [-2.35575405 -0.03728186]\n",
      " [-2.50666891 -0.14601688]\n",
      " [-2.46882007  0.13095149]\n",
      " [-2.56231991  0.36771886]\n",
      " [-2.63953472  0.31203998]\n",
      " [-2.63198939 -0.19696122]\n",
      " [-2.58739848 -0.20431849]\n",
      " [-2.4099325   0.41092426]\n",
      " [-2.64886233  0.81336382]\n",
      " [-2.59873675  1.09314576]\n",
      " [-2.63692688 -0.12132235]\n",
      " [-2.86624165  0.06936447]\n",
      " [-2.62523805  0.59937002]\n",
      " [-2.80068412  0.26864374]\n",
      " [-2.98050204 -0.48795834]\n",
      " [-2.59000631  0.22904384]\n",
      " [-2.77010243  0.26352753]\n",
      " [-2.84936871 -0.94096057]\n",
      " [-2.99740655 -0.34192606]\n",
      " [-2.40561449  0.18887143]\n",
      " [-2.20948924  0.43666314]\n",
      " [-2.71445143 -0.2502082 ]\n",
      " [-2.53814826  0.50377114]\n",
      " [-2.83946217 -0.22794557]\n",
      " [-2.54308575  0.57941002]\n",
      " [-2.70335978  0.10770608]\n",
      " [ 1.28482569  0.68516047]\n",
      " [ 0.93248853  0.31833364]\n",
      " [ 1.46430232  0.50426282]\n",
      " [ 0.18331772 -0.82795901]\n",
      " [ 1.08810326  0.07459068]\n",
      " [ 0.64166908 -0.41824687]\n",
      " [ 1.09506066  0.28346827]\n",
      " [-0.74912267 -1.00489096]\n",
      " [ 1.04413183  0.2283619 ]\n",
      " [-0.0087454  -0.72308191]\n",
      " [-0.50784088 -1.26597119]\n",
      " [ 0.51169856 -0.10398124]\n",
      " [ 0.26497651 -0.55003646]\n",
      " [ 0.98493451 -0.12481785]\n",
      " [-0.17392537 -0.25485421]\n",
      " [ 0.92786078  0.46717949]\n",
      " [ 0.66028376 -0.35296967]\n",
      " [ 0.23610499 -0.33361077]\n",
      " [ 0.94473373 -0.54314555]\n",
      " [ 0.04522698 -0.58383438]\n",
      " [ 1.11628318 -0.08461685]\n",
      " [ 0.35788842 -0.06892503]\n",
      " [ 1.29818388 -0.32778731]\n",
      " [ 0.92172892 -0.18273779]\n",
      " [ 0.71485333  0.14905594]\n",
      " [ 0.90017437  0.32850447]\n",
      " [ 1.33202444  0.24444088]\n",
      " [ 1.55780216  0.26749545]\n",
      " [ 0.81329065 -0.1633503 ]\n",
      " [-0.30558378 -0.36826219]\n",
      " [-0.06812649 -0.70517213]\n",
      " [-0.18962247 -0.68028676]\n",
      " [ 0.13642871 -0.31403244]\n",
      " [ 1.38002644 -0.42095429]\n",
      " [ 0.58800644 -0.48428742]\n",
      " [ 0.80685831  0.19418231]\n",
      " [ 1.22069088  0.40761959]\n",
      " [ 0.81509524 -0.37203706]\n",
      " [ 0.24595768 -0.2685244 ]\n",
      " [ 0.16641322 -0.68192672]\n",
      " [ 0.46480029 -0.67071154]\n",
      " [ 0.8908152  -0.03446444]\n",
      " [ 0.23054802 -0.40438585]\n",
      " [-0.70453176 -1.01224823]\n",
      " [ 0.35698149 -0.50491009]\n",
      " [ 0.33193448 -0.21265468]\n",
      " [ 0.37621565 -0.29321893]\n",
      " [ 0.64257601  0.01773819]\n",
      " [-0.90646986 -0.75609337]\n",
      " [ 0.29900084 -0.34889781]\n",
      " [ 2.53119273 -0.00984911]\n",
      " [ 1.41523588 -0.57491635]\n",
      " [ 2.61667602  0.34390315]\n",
      " [ 1.97153105 -0.1797279 ]\n",
      " [ 2.35000592 -0.04026095]\n",
      " [ 3.39703874  0.55083667]\n",
      " [ 0.52123224 -1.19275873]\n",
      " [ 2.93258707  0.3555    ]\n",
      " [ 2.32122882 -0.2438315 ]\n",
      " [ 2.91675097  0.78279195]\n",
      " [ 1.66177415  0.24222841]\n",
      " [ 1.80340195 -0.21563762]\n",
      " [ 2.1655918   0.21627559]\n",
      " [ 1.34616358 -0.77681835]\n",
      " [ 1.58592822 -0.53964071]\n",
      " [ 1.90445637  0.11925069]\n",
      " [ 1.94968906  0.04194326]\n",
      " [ 3.48705536  1.17573933]\n",
      " [ 3.79564542  0.25732297]\n",
      " [ 1.30079171 -0.76114964]\n",
      " [ 2.42781791  0.37819601]\n",
      " [ 1.19900111 -0.60609153]\n",
      " [ 3.49992004  0.4606741 ]\n",
      " [ 1.38876613 -0.20439933]\n",
      " [ 2.2754305   0.33499061]\n",
      " [ 2.61409047  0.56090136]\n",
      " [ 1.25850816 -0.17970479]\n",
      " [ 1.29113206 -0.11666865]\n",
      " [ 2.12360872 -0.20972948]\n",
      " [ 2.38800302  0.4646398 ]\n",
      " [ 2.84167278  0.37526917]\n",
      " [ 3.23067366  1.37416509]\n",
      " [ 2.15943764 -0.21727758]\n",
      " [ 1.44416124 -0.14341341]\n",
      " [ 1.78129481 -0.49990168]\n",
      " [ 3.07649993  0.68808568]\n",
      " [ 2.14424331  0.1400642 ]\n",
      " [ 1.90509815  0.04930053]\n",
      " [ 1.16932634 -0.16499026]\n",
      " [ 2.10761114  0.37228787]\n",
      " [ 2.31415471  0.18365128]\n",
      " [ 1.9222678   0.40920347]\n",
      " [ 1.41523588 -0.57491635]\n",
      " [ 2.56301338  0.2778626 ]\n",
      " [ 2.41874618  0.3047982 ]\n",
      " [ 1.94410979  0.1875323 ]\n",
      " [ 1.52716661 -0.37531698]\n",
      " [ 1.76434572  0.07885885]\n",
      " [ 1.90094161  0.11662796]\n",
      " [ 1.39018886 -0.28266094]]\n"
     ]
    }
   ],
   "source": [
    "print(\"PCA with 2 components\\n\")\n",
    "print(X_pca)"
   ]
  },
  {
   "cell_type": "markdown",
   "id": "30571c53",
   "metadata": {},
   "source": [
    "Below is a scatter plot of the two components graphed on a scatter plot with the three different groups graphed against two principal components. "
   ]
  },
  {
   "cell_type": "code",
   "execution_count": 330,
   "id": "efdc04b8",
   "metadata": {},
   "outputs": [
    {
     "name": "stderr",
     "output_type": "stream",
     "text": [
      "No artists with labels found to put in legend.  Note that artists whose label start with an underscore are ignored when legend() is called with no argument.\n"
     ]
    },
    {
     "data": {
      "image/png": "[encoded data removed]",
      "text/plain": [
       "<Figure size 432x288 with 1 Axes>"
      ]
     },
     "metadata": {
      "needs_background": "light"
     },
     "output_type": "display_data"
    }
   ],
   "source": [
    "plt.figure()\n",
    "plt.title(\"PCA 2 Components\")\n",
    "plt.xlabel(\"Principal Component 1\")\n",
    "plt.ylabel(\"Principal Component 2\")\n",
    "plt.scatter(X_pca[:, 0], X_pca[:, 1], c = y)\n",
    "plt.show()"
   ]
  },
  {
   "cell_type": "markdown",
   "id": "ec81b33f",
   "metadata": {},
   "source": [
    "Below is a plot of the same plot as above with different labels of PCA directions and eigen vectors."
   ]
  },
  {
   "cell_type": "code",
   "execution_count": 340,
   "id": "ef36e695",
   "metadata": {},
   "outputs": [
    {
     "data": {
      "text/plain": [
       "[Text(0, -1.5, ''),\n",
       " Text(0, -1.0, ''),\n",
       " Text(0, -0.5, ''),\n",
       " Text(0, 0.0, ''),\n",
       " Text(0, 0.5, ''),\n",
       " Text(0, 1.0, ''),\n",
       " Text(0, 1.5, ''),\n",
       " Text(0, 2.0, '')]"
      ]
     },
     "execution_count": 340,
     "metadata": {},
     "output_type": "execute_result"
    },
    {
     "data": {
      "image/png": "[encoded data removed]",
      "text/plain": [
       "<Figure size 576x432 with 1 Axes>"
      ]
     },
     "metadata": {
      "needs_background": "light"
     },
     "output_type": "display_data"
    }
   ],
   "source": [
    "fig = plt.figure(1, figsize=(8, 6))\n",
    "ax = fig.add_subplot(111)\n",
    "ax.scatter(\n",
    "    X_pca[:, 0],\n",
    "    X_pca[:, 1],\n",
    "    c=y\n",
    ")\n",
    "\n",
    "ax.set_title(\"First two PCA directions\")\n",
    "ax.set_xlabel(\"1st eigenvector\")\n",
    "ax.xaxis.set_ticklabels([])\n",
    "ax.set_ylabel(\"2nd eigenvector\")\n",
    "ax.yaxis.set_ticklabels([])"
   ]
  }
 ],
 "metadata": {
  "kernelspec": {
   "display_name": "Python 3 (ipykernel)",
   "language": "python",
   "name": "python3"
  },
  "language_info": {
   "codemirror_mode": {
    "name": "ipython",
    "version": 3
   },
   "file_extension": ".py",
   "mimetype": "text/x-python",
   "name": "python",
   "nbconvert_exporter": "python",
   "pygments_lexer": "ipython3",
   "version": "3.7.11"
  }
 },
 "nbformat": 4,
 "nbformat_minor": 5
}
