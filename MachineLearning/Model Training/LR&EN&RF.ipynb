{
 "cells": [
  {
   "cell_type": "markdown",
   "id": "5427fea4-7a7a-41c9-97cc-40fbbaa680aa",
   "metadata": {},
   "source": [
    "Author: Pragat Wagle\n",
    "\n",
    "Assignment 5 Sales Properties"
   ]
  },
  {
   "cell_type": "markdown",
   "id": "4d7ccf2a-e2d4-48e0-8fc0-8c7124550d6b",
   "metadata": {},
   "source": [
    "# Data Import"
   ]
  },
  {
   "cell_type": "code",
   "execution_count": 1,
   "id": "a1477dcf-445b-4950-842d-8eeebe9a44cf",
   "metadata": {},
   "outputs": [],
   "source": [
    "import pandas as pd\n",
    "sales = pd.read_csv(\"Sales_Properties.csv\")"
   ]
  },
  {
   "cell_type": "code",
   "execution_count": 2,
   "id": "4b8b558f-bdfd-422c-b757-cadcffa7998f",
   "metadata": {},
   "outputs": [
    {
     "data": {
      "text/html": [
       "<div>\n",
       "<style scoped>\n",
       "    .dataframe tbody tr th:only-of-type {\n",
       "        vertical-align: middle;\n",
       "    }\n",
       "\n",
       "    .dataframe tbody tr th {\n",
       "        vertical-align: top;\n",
       "    }\n",
       "\n",
       "    .dataframe thead th {\n",
       "        text-align: right;\n",
       "    }\n",
       "</style>\n",
       "<table border=\"1\" class=\"dataframe\">\n",
       "  <thead>\n",
       "    <tr style=\"text-align: right;\">\n",
       "      <th></th>\n",
       "      <th>Date_Property_Sold</th>\n",
       "      <th>Postal_Code</th>\n",
       "      <th>Property-Price</th>\n",
       "      <th>Property_Type</th>\n",
       "      <th>Number_Bedrooms</th>\n",
       "    </tr>\n",
       "  </thead>\n",
       "  <tbody>\n",
       "    <tr>\n",
       "      <th>0</th>\n",
       "      <td>2/7/2007 0:00</td>\n",
       "      <td>2607</td>\n",
       "      <td>525000</td>\n",
       "      <td>house</td>\n",
       "      <td>4</td>\n",
       "    </tr>\n",
       "    <tr>\n",
       "      <th>1</th>\n",
       "      <td>2/27/2007 0:00</td>\n",
       "      <td>2906</td>\n",
       "      <td>290000</td>\n",
       "      <td>house</td>\n",
       "      <td>3</td>\n",
       "    </tr>\n",
       "    <tr>\n",
       "      <th>2</th>\n",
       "      <td>3/7/2007 0:00</td>\n",
       "      <td>2905</td>\n",
       "      <td>328000</td>\n",
       "      <td>house</td>\n",
       "      <td>3</td>\n",
       "    </tr>\n",
       "    <tr>\n",
       "      <th>3</th>\n",
       "      <td>3/9/2007 0:00</td>\n",
       "      <td>2905</td>\n",
       "      <td>380000</td>\n",
       "      <td>house</td>\n",
       "      <td>4</td>\n",
       "    </tr>\n",
       "    <tr>\n",
       "      <th>4</th>\n",
       "      <td>3/21/2007 0:00</td>\n",
       "      <td>2906</td>\n",
       "      <td>310000</td>\n",
       "      <td>house</td>\n",
       "      <td>3</td>\n",
       "    </tr>\n",
       "  </tbody>\n",
       "</table>\n",
       "</div>"
      ],
      "text/plain": [
       "  Date_Property_Sold  Postal_Code  Property-Price Property_Type  \\\n",
       "0      2/7/2007 0:00         2607          525000         house   \n",
       "1     2/27/2007 0:00         2906          290000         house   \n",
       "2      3/7/2007 0:00         2905          328000         house   \n",
       "3      3/9/2007 0:00         2905          380000         house   \n",
       "4     3/21/2007 0:00         2906          310000         house   \n",
       "\n",
       "   Number_Bedrooms  \n",
       "0                4  \n",
       "1                3  \n",
       "2                3  \n",
       "3                4  \n",
       "4                3  "
      ]
     },
     "execution_count": 2,
     "metadata": {},
     "output_type": "execute_result"
    }
   ],
   "source": [
    "sales.head()"
   ]
  },
  {
   "cell_type": "markdown",
   "id": "1b084517-c213-4a2d-a960-c922f2eb2b85",
   "metadata": {},
   "source": [
    "### Converting categorical variable into quantity."
   ]
  },
  {
   "cell_type": "code",
   "execution_count": 3,
   "id": "fac3e89f-5092-46df-82a7-bab75abbfb36",
   "metadata": {},
   "outputs": [],
   "source": [
    "from sklearn.preprocessing import OneHotEncoder\n",
    "\n",
    "#Simple converting the categorical variable property_type into a numerical where 0 = house and 1 = unit\n",
    "sales[\"Property_Type\"] = sales[\"Property_Type\"].astype('category')\n",
    "sales = pd.get_dummies(sales, columns=['Property_Type'])"
   ]
  },
  {
   "cell_type": "code",
   "execution_count": 4,
   "id": "5e49c617-73ea-4aaa-abc2-ccb7ba813db2",
   "metadata": {},
   "outputs": [
    {
     "data": {
      "text/html": [
       "<div>\n",
       "<style scoped>\n",
       "    .dataframe tbody tr th:only-of-type {\n",
       "        vertical-align: middle;\n",
       "    }\n",
       "\n",
       "    .dataframe tbody tr th {\n",
       "        vertical-align: top;\n",
       "    }\n",
       "\n",
       "    .dataframe thead th {\n",
       "        text-align: right;\n",
       "    }\n",
       "</style>\n",
       "<table border=\"1\" class=\"dataframe\">\n",
       "  <thead>\n",
       "    <tr style=\"text-align: right;\">\n",
       "      <th></th>\n",
       "      <th>Postal_Code</th>\n",
       "      <th>Property-Price</th>\n",
       "      <th>Number_Bedrooms</th>\n",
       "      <th>Property_Type_house</th>\n",
       "      <th>Property_Type_unit</th>\n",
       "    </tr>\n",
       "  </thead>\n",
       "  <tbody>\n",
       "    <tr>\n",
       "      <th>Postal_Code</th>\n",
       "      <td>1.000000</td>\n",
       "      <td>-0.150548</td>\n",
       "      <td>0.225761</td>\n",
       "      <td>0.257779</td>\n",
       "      <td>-0.257779</td>\n",
       "    </tr>\n",
       "    <tr>\n",
       "      <th>Property-Price</th>\n",
       "      <td>-0.150548</td>\n",
       "      <td>1.000000</td>\n",
       "      <td>0.484212</td>\n",
       "      <td>0.299808</td>\n",
       "      <td>-0.299808</td>\n",
       "    </tr>\n",
       "    <tr>\n",
       "      <th>Number_Bedrooms</th>\n",
       "      <td>0.225761</td>\n",
       "      <td>0.484212</td>\n",
       "      <td>1.000000</td>\n",
       "      <td>0.672036</td>\n",
       "      <td>-0.672036</td>\n",
       "    </tr>\n",
       "    <tr>\n",
       "      <th>Property_Type_house</th>\n",
       "      <td>0.257779</td>\n",
       "      <td>0.299808</td>\n",
       "      <td>0.672036</td>\n",
       "      <td>1.000000</td>\n",
       "      <td>-1.000000</td>\n",
       "    </tr>\n",
       "    <tr>\n",
       "      <th>Property_Type_unit</th>\n",
       "      <td>-0.257779</td>\n",
       "      <td>-0.299808</td>\n",
       "      <td>-0.672036</td>\n",
       "      <td>-1.000000</td>\n",
       "      <td>1.000000</td>\n",
       "    </tr>\n",
       "  </tbody>\n",
       "</table>\n",
       "</div>"
      ],
      "text/plain": [
       "                     Postal_Code  Property-Price  Number_Bedrooms  \\\n",
       "Postal_Code             1.000000       -0.150548         0.225761   \n",
       "Property-Price         -0.150548        1.000000         0.484212   \n",
       "Number_Bedrooms         0.225761        0.484212         1.000000   \n",
       "Property_Type_house     0.257779        0.299808         0.672036   \n",
       "Property_Type_unit     -0.257779       -0.299808        -0.672036   \n",
       "\n",
       "                     Property_Type_house  Property_Type_unit  \n",
       "Postal_Code                     0.257779           -0.257779  \n",
       "Property-Price                  0.299808           -0.299808  \n",
       "Number_Bedrooms                 0.672036           -0.672036  \n",
       "Property_Type_house             1.000000           -1.000000  \n",
       "Property_Type_unit             -1.000000            1.000000  "
      ]
     },
     "execution_count": 4,
     "metadata": {},
     "output_type": "execute_result"
    }
   ],
   "source": [
    "sales.corr()"
   ]
  },
  {
   "cell_type": "code",
   "execution_count": 5,
   "id": "e5ffef8a-554c-4f7b-90a2-6c6ef6144120",
   "metadata": {},
   "outputs": [],
   "source": [
    "X = sales[set(sales.columns) - set(['Property-Price','Date_Property_Sold'])]\n",
    "Y = sales[['Property-Price']]"
   ]
  },
  {
   "cell_type": "code",
   "execution_count": 6,
   "id": "1cd5b857-7b94-4dd2-a0c0-88e0ae008282",
   "metadata": {},
   "outputs": [
    {
     "data": {
      "text/html": [
       "<div>\n",
       "<style scoped>\n",
       "    .dataframe tbody tr th:only-of-type {\n",
       "        vertical-align: middle;\n",
       "    }\n",
       "\n",
       "    .dataframe tbody tr th {\n",
       "        vertical-align: top;\n",
       "    }\n",
       "\n",
       "    .dataframe thead th {\n",
       "        text-align: right;\n",
       "    }\n",
       "</style>\n",
       "<table border=\"1\" class=\"dataframe\">\n",
       "  <thead>\n",
       "    <tr style=\"text-align: right;\">\n",
       "      <th></th>\n",
       "      <th>Property_Type_house</th>\n",
       "      <th>Number_Bedrooms</th>\n",
       "      <th>Property_Type_unit</th>\n",
       "      <th>Postal_Code</th>\n",
       "    </tr>\n",
       "  </thead>\n",
       "  <tbody>\n",
       "    <tr>\n",
       "      <th>0</th>\n",
       "      <td>1</td>\n",
       "      <td>4</td>\n",
       "      <td>0</td>\n",
       "      <td>2607</td>\n",
       "    </tr>\n",
       "    <tr>\n",
       "      <th>1</th>\n",
       "      <td>1</td>\n",
       "      <td>3</td>\n",
       "      <td>0</td>\n",
       "      <td>2906</td>\n",
       "    </tr>\n",
       "    <tr>\n",
       "      <th>2</th>\n",
       "      <td>1</td>\n",
       "      <td>3</td>\n",
       "      <td>0</td>\n",
       "      <td>2905</td>\n",
       "    </tr>\n",
       "    <tr>\n",
       "      <th>3</th>\n",
       "      <td>1</td>\n",
       "      <td>4</td>\n",
       "      <td>0</td>\n",
       "      <td>2905</td>\n",
       "    </tr>\n",
       "    <tr>\n",
       "      <th>4</th>\n",
       "      <td>1</td>\n",
       "      <td>3</td>\n",
       "      <td>0</td>\n",
       "      <td>2906</td>\n",
       "    </tr>\n",
       "    <tr>\n",
       "      <th>...</th>\n",
       "      <td>...</td>\n",
       "      <td>...</td>\n",
       "      <td>...</td>\n",
       "      <td>...</td>\n",
       "    </tr>\n",
       "    <tr>\n",
       "      <th>29575</th>\n",
       "      <td>0</td>\n",
       "      <td>3</td>\n",
       "      <td>1</td>\n",
       "      <td>2900</td>\n",
       "    </tr>\n",
       "    <tr>\n",
       "      <th>29576</th>\n",
       "      <td>0</td>\n",
       "      <td>2</td>\n",
       "      <td>1</td>\n",
       "      <td>2612</td>\n",
       "    </tr>\n",
       "    <tr>\n",
       "      <th>29577</th>\n",
       "      <td>0</td>\n",
       "      <td>2</td>\n",
       "      <td>1</td>\n",
       "      <td>2912</td>\n",
       "    </tr>\n",
       "    <tr>\n",
       "      <th>29578</th>\n",
       "      <td>0</td>\n",
       "      <td>2</td>\n",
       "      <td>1</td>\n",
       "      <td>2601</td>\n",
       "    </tr>\n",
       "    <tr>\n",
       "      <th>29579</th>\n",
       "      <td>0</td>\n",
       "      <td>2</td>\n",
       "      <td>1</td>\n",
       "      <td>2612</td>\n",
       "    </tr>\n",
       "  </tbody>\n",
       "</table>\n",
       "<p>29580 rows × 4 columns</p>\n",
       "</div>"
      ],
      "text/plain": [
       "       Property_Type_house  Number_Bedrooms  Property_Type_unit  Postal_Code\n",
       "0                        1                4                   0         2607\n",
       "1                        1                3                   0         2906\n",
       "2                        1                3                   0         2905\n",
       "3                        1                4                   0         2905\n",
       "4                        1                3                   0         2906\n",
       "...                    ...              ...                 ...          ...\n",
       "29575                    0                3                   1         2900\n",
       "29576                    0                2                   1         2612\n",
       "29577                    0                2                   1         2912\n",
       "29578                    0                2                   1         2601\n",
       "29579                    0                2                   1         2612\n",
       "\n",
       "[29580 rows x 4 columns]"
      ]
     },
     "execution_count": 6,
     "metadata": {},
     "output_type": "execute_result"
    }
   ],
   "source": [
    "X"
   ]
  },
  {
   "cell_type": "code",
   "execution_count": 9,
   "id": "dfbfcbf6-8b68-4008-80e2-2017bb183640",
   "metadata": {},
   "outputs": [],
   "source": [
    "from sklearn.model_selection import train_test_split\n",
    "\n",
    "X_train, X_test, y_train, y_test = train_test_split(X, Y, test_size=0.33, random_state=0)"
   ]
  },
  {
   "cell_type": "code",
   "execution_count": 10,
   "id": "0774681e-52b4-45f1-9509-138b2036c818",
   "metadata": {},
   "outputs": [
    {
     "data": {
      "text/html": [
       "<div>\n",
       "<style scoped>\n",
       "    .dataframe tbody tr th:only-of-type {\n",
       "        vertical-align: middle;\n",
       "    }\n",
       "\n",
       "    .dataframe tbody tr th {\n",
       "        vertical-align: top;\n",
       "    }\n",
       "\n",
       "    .dataframe thead th {\n",
       "        text-align: right;\n",
       "    }\n",
       "</style>\n",
       "<table border=\"1\" class=\"dataframe\">\n",
       "  <thead>\n",
       "    <tr style=\"text-align: right;\">\n",
       "      <th></th>\n",
       "      <th>Property_Type_house</th>\n",
       "      <th>Number_Bedrooms</th>\n",
       "      <th>Property_Type_unit</th>\n",
       "      <th>Postal_Code</th>\n",
       "    </tr>\n",
       "  </thead>\n",
       "  <tbody>\n",
       "    <tr>\n",
       "      <th>4102</th>\n",
       "      <td>1</td>\n",
       "      <td>4</td>\n",
       "      <td>0</td>\n",
       "      <td>2611</td>\n",
       "    </tr>\n",
       "    <tr>\n",
       "      <th>13719</th>\n",
       "      <td>1</td>\n",
       "      <td>3</td>\n",
       "      <td>0</td>\n",
       "      <td>2614</td>\n",
       "    </tr>\n",
       "    <tr>\n",
       "      <th>280</th>\n",
       "      <td>1</td>\n",
       "      <td>3</td>\n",
       "      <td>0</td>\n",
       "      <td>2615</td>\n",
       "    </tr>\n",
       "    <tr>\n",
       "      <th>2705</th>\n",
       "      <td>1</td>\n",
       "      <td>4</td>\n",
       "      <td>0</td>\n",
       "      <td>2617</td>\n",
       "    </tr>\n",
       "    <tr>\n",
       "      <th>8712</th>\n",
       "      <td>1</td>\n",
       "      <td>3</td>\n",
       "      <td>0</td>\n",
       "      <td>2607</td>\n",
       "    </tr>\n",
       "    <tr>\n",
       "      <th>...</th>\n",
       "      <td>...</td>\n",
       "      <td>...</td>\n",
       "      <td>...</td>\n",
       "      <td>...</td>\n",
       "    </tr>\n",
       "    <tr>\n",
       "      <th>13123</th>\n",
       "      <td>1</td>\n",
       "      <td>3</td>\n",
       "      <td>0</td>\n",
       "      <td>2905</td>\n",
       "    </tr>\n",
       "    <tr>\n",
       "      <th>19648</th>\n",
       "      <td>1</td>\n",
       "      <td>2</td>\n",
       "      <td>0</td>\n",
       "      <td>2602</td>\n",
       "    </tr>\n",
       "    <tr>\n",
       "      <th>9845</th>\n",
       "      <td>1</td>\n",
       "      <td>3</td>\n",
       "      <td>0</td>\n",
       "      <td>2605</td>\n",
       "    </tr>\n",
       "    <tr>\n",
       "      <th>10799</th>\n",
       "      <td>1</td>\n",
       "      <td>5</td>\n",
       "      <td>0</td>\n",
       "      <td>2602</td>\n",
       "    </tr>\n",
       "    <tr>\n",
       "      <th>2732</th>\n",
       "      <td>1</td>\n",
       "      <td>3</td>\n",
       "      <td>0</td>\n",
       "      <td>2913</td>\n",
       "    </tr>\n",
       "  </tbody>\n",
       "</table>\n",
       "<p>19818 rows × 4 columns</p>\n",
       "</div>"
      ],
      "text/plain": [
       "       Property_Type_house  Number_Bedrooms  Property_Type_unit  Postal_Code\n",
       "4102                     1                4                   0         2611\n",
       "13719                    1                3                   0         2614\n",
       "280                      1                3                   0         2615\n",
       "2705                     1                4                   0         2617\n",
       "8712                     1                3                   0         2607\n",
       "...                    ...              ...                 ...          ...\n",
       "13123                    1                3                   0         2905\n",
       "19648                    1                2                   0         2602\n",
       "9845                     1                3                   0         2605\n",
       "10799                    1                5                   0         2602\n",
       "2732                     1                3                   0         2913\n",
       "\n",
       "[19818 rows x 4 columns]"
      ]
     },
     "execution_count": 10,
     "metadata": {},
     "output_type": "execute_result"
    }
   ],
   "source": [
    "X_train"
   ]
  },
  {
   "cell_type": "markdown",
   "id": "055f42b3-491e-431b-a0d4-0ead1c05ee33",
   "metadata": {},
   "source": [
    "### Drop NA"
   ]
  },
  {
   "cell_type": "code",
   "execution_count": 11,
   "id": "2e6468f3-03fd-4018-b0f6-b02f531657dc",
   "metadata": {},
   "outputs": [],
   "source": [
    "sales = sales.dropna()"
   ]
  },
  {
   "cell_type": "markdown",
   "id": "04173fe7-8256-4c45-b514-f1278a2fe762",
   "metadata": {},
   "source": [
    "# Linear Regression"
   ]
  },
  {
   "cell_type": "code",
   "execution_count": 12,
   "id": "58d80ac1-ebbc-426f-a8c4-2a142be69794",
   "metadata": {},
   "outputs": [
    {
     "data": {
      "text/plain": [
       "LinearRegression()"
      ]
     },
     "execution_count": 12,
     "metadata": {},
     "output_type": "execute_result"
    }
   ],
   "source": [
    "from sklearn.linear_model import LinearRegression\n",
    "\n",
    "mdl = LinearRegression()\n",
    "mdl.fit(X_train, y_train)"
   ]
  },
  {
   "cell_type": "code",
   "execution_count": 14,
   "id": "e540d62e-46a0-4458-8e9b-8d6f99808efc",
   "metadata": {},
   "outputs": [
    {
     "name": "stdout",
     "output_type": "stream",
     "text": [
      "0.30362627916132046\n",
      "230415.65985007124\n"
     ]
    }
   ],
   "source": [
    "from sklearn.metrics import r2_score, mean_squared_error\n",
    "import numpy as np\n",
    "\n",
    "pred = mdl.predict(X_test)\n",
    "r2_lin = r2_score(y_test, pred)\n",
    "print(r2_lin)\n",
    "rmse_lin = np.sqrt(mean_squared_error(y_test, pred))\n",
    "print(rmse_lin)"
   ]
  },
  {
   "cell_type": "markdown",
   "id": "81cdcf0c-716a-4c3f-8d66-284d1aab2144",
   "metadata": {},
   "source": [
    "### Visualization"
   ]
  },
  {
   "cell_type": "code",
   "execution_count": 15,
   "id": "6cf10980-7256-4718-8191-1ee2dc0a3fa6",
   "metadata": {},
   "outputs": [
    {
     "data": {
      "image/png": "[encoded data removed]",
      "text/plain": [
       "<Figure size 432x288 with 1 Axes>"
      ]
     },
     "metadata": {
      "needs_background": "light"
     },
     "output_type": "display_data"
    }
   ],
   "source": [
    "import matplotlib.pyplot as plt\n",
    "\n",
    "\n",
    "plt.plot(X_test['Postal_Code'], y_test, label = 'Actual')\n",
    "plt.plot(X_test['Postal_Code'], pred, label ='Predictions')\n",
    "  \n",
    "# naming the x axis\n",
    "plt.xlabel('Postal Code')\n",
    "# naming the y axis\n",
    "plt.ylabel('Price')\n",
    "  \n",
    "# giving a title to my graph\n",
    "plt.title('Actual vs Predictions')\n",
    "  \n",
    "# function to show the plot\n",
    "plt.legend()\n",
    "plt.show()"
   ]
  },
  {
   "cell_type": "markdown",
   "id": "d4cc5bdd-7834-4521-9246-f8884dfa500f",
   "metadata": {
    "tags": []
   },
   "source": [
    "# Logistic Regression"
   ]
  },
  {
   "cell_type": "code",
   "execution_count": 16,
   "id": "17764ebe-8426-46e6-9986-75ef2ca665b5",
   "metadata": {},
   "outputs": [
    {
     "name": "stderr",
     "output_type": "stream",
     "text": [
      "/Users/pragatwagle/opt/anaconda3/lib/python3.7/site-packages/sklearn/linear_model/_sag.py:354: ConvergenceWarning: The max_iter was reached which means the coef_ did not converge\n",
      "  ConvergenceWarning,\n"
     ]
    },
    {
     "data": {
      "text/plain": [
       "LogisticRegression(C=0.0001, multi_class='multinomial', solver='saga')"
      ]
     },
     "execution_count": 16,
     "metadata": {},
     "output_type": "execute_result"
    }
   ],
   "source": [
    "from sklearn.linear_model import LogisticRegression\n",
    "import numpy as np\n",
    "\n",
    "# higher C is lighter penalty, range is between 0-1\n",
    "lr = LogisticRegression(multi_class='multinomial', solver='saga', penalty='l2', C=.0001)\n",
    "lr.fit(X_train, np.ravel(y_train,order='C'))"
   ]
  },
  {
   "cell_type": "code",
   "execution_count": 18,
   "id": "646e5e4c-a7be-4c51-aa87-84c131f53b8c",
   "metadata": {},
   "outputs": [
    {
     "name": "stdout",
     "output_type": "stream",
     "text": [
      "-0.04382305232822192\n",
      "230415.65985007124\n"
     ]
    }
   ],
   "source": [
    "from sklearn.metrics import r2_score, mean_squared_error\n",
    "\n",
    "lr_pred = lr.predict(X_test)\n",
    "r2_lr = r2_score(y_test, lr_pred)\n",
    "print(r2_lr)\n",
    "rmse_lr = np.sqrt(mean_squared_error(y_test, lr_pred))\n",
    "print(rmse_lin)"
   ]
  },
  {
   "cell_type": "markdown",
   "id": "a40a671d-1694-4f63-885a-074503d1e4be",
   "metadata": {},
   "source": [
    "### Visualization"
   ]
  },
  {
   "cell_type": "code",
   "execution_count": 19,
   "id": "45ad2712-3ff6-417f-9034-721d9b8d7b07",
   "metadata": {},
   "outputs": [
    {
     "data": {
      "image/png": "[encoded data removed]",
      "text/plain": [
       "<Figure size 432x288 with 1 Axes>"
      ]
     },
     "metadata": {
      "needs_background": "light"
     },
     "output_type": "display_data"
    }
   ],
   "source": [
    "import matplotlib.pyplot as plt\n",
    "\n",
    "\n",
    "plt.plot(X_test['Postal_Code'], y_test, label = 'Actual')\n",
    "plt.plot(X_test['Postal_Code'], lr_pred, label ='Predictions')\n",
    "  \n",
    "# naming the x axis\n",
    "plt.xlabel('Postal Code')\n",
    "# naming the y axis\n",
    "plt.ylabel('Price')\n",
    "  \n",
    "# giving a title to my graph\n",
    "plt.title('Actual vs Predictions')\n",
    "  \n",
    "# function to show the plot\n",
    "plt.legend()\n",
    "plt.show()"
   ]
  },
  {
   "cell_type": "markdown",
   "id": "720a56f7-0114-4d7d-b450-bbb9d3e62707",
   "metadata": {},
   "source": [
    "# Elastic Net"
   ]
  },
  {
   "cell_type": "code",
   "execution_count": 20,
   "id": "589b4ad5-afbe-4756-8c5b-685dfe4f983f",
   "metadata": {},
   "outputs": [],
   "source": [
    "from sklearn.linear_model import ElasticNet\n",
    "ENR = ElasticNet().fit(X_train, y_train)"
   ]
  },
  {
   "cell_type": "code",
   "execution_count": 21,
   "id": "a3888b19-4a24-4bf8-ba51-faf8a0c83068",
   "metadata": {},
   "outputs": [
    {
     "name": "stdout",
     "output_type": "stream",
     "text": [
      "0.27639743082133983\n",
      "234877.19683931154\n"
     ]
    }
   ],
   "source": [
    "from sklearn.metrics import r2_score, mean_squared_error\n",
    "\n",
    "en_pred = ENR.predict(X_test)\n",
    "r2_en = r2_score(y_test, en_pred)\n",
    "print(r2_en)\n",
    "rmse_en = np.sqrt(mean_squared_error(y_test, en_pred))\n",
    "print(rmse_en)"
   ]
  },
  {
   "cell_type": "markdown",
   "id": "9ac26a8e-1411-4b4a-a94e-0dd200ad8cb0",
   "metadata": {
    "tags": []
   },
   "source": [
    "### Visualization"
   ]
  },
  {
   "cell_type": "code",
   "execution_count": 22,
   "id": "23c25c79-72ff-4047-a551-7b56d5a71a35",
   "metadata": {},
   "outputs": [
    {
     "data": {
      "image/png": "[encoded data removed]",
      "text/plain": [
       "<Figure size 432x288 with 1 Axes>"
      ]
     },
     "metadata": {
      "needs_background": "light"
     },
     "output_type": "display_data"
    }
   ],
   "source": [
    "import matplotlib.pyplot as plt\n",
    "\n",
    "\n",
    "plt.plot(X_test['Postal_Code'], y_test, label = 'Actual')\n",
    "plt.plot(X_test['Postal_Code'], en_pred, label ='Predictions')\n",
    "  \n",
    "# naming the x axis\n",
    "plt.xlabel('Postal Code')\n",
    "# naming the y axis\n",
    "plt.ylabel('Price')\n",
    "  \n",
    "# giving a title to my graph\n",
    "plt.title('Actual vs Predictions')\n",
    "  \n",
    "# function to show the plot\n",
    "plt.legend()\n",
    "plt.show()"
   ]
  },
  {
   "cell_type": "markdown",
   "id": "7b2ea56b-d067-48a3-b695-21784e479b27",
   "metadata": {},
   "source": [
    "# Random Forest"
   ]
  },
  {
   "cell_type": "code",
   "execution_count": 23,
   "id": "4f1d69e3-2150-4efd-a5d9-d750edea7b36",
   "metadata": {},
   "outputs": [
    {
     "name": "stderr",
     "output_type": "stream",
     "text": [
      "/Users/pragatwagle/opt/anaconda3/lib/python3.7/site-packages/ipykernel_launcher.py:4: DataConversionWarning: A column-vector y was passed when a 1d array was expected. Please change the shape of y to (n_samples,), for example using ravel().\n",
      "  after removing the cwd from sys.path.\n"
     ]
    },
    {
     "data": {
      "text/plain": [
       "RandomForestRegressor(n_estimators=25, random_state=0)"
      ]
     },
     "execution_count": 23,
     "metadata": {},
     "output_type": "execute_result"
    }
   ],
   "source": [
    "from sklearn.ensemble import RandomForestRegressor\n",
    "\n",
    "rf_regressor = RandomForestRegressor(n_estimators=25,random_state=0)\n",
    "rf_regressor.fit(X_train,y_train)"
   ]
  },
  {
   "cell_type": "code",
   "execution_count": 24,
   "id": "7f5bd424-1e09-4e90-9d7f-4d28bd1c689a",
   "metadata": {},
   "outputs": [
    {
     "name": "stdout",
     "output_type": "stream",
     "text": [
      "0.5902501265097131\n",
      "176746.25445010504\n"
     ]
    }
   ],
   "source": [
    "from sklearn.metrics import r2_score, mean_squared_error\n",
    "\n",
    "pred_rf = rf_regressor.predict(X_test)\n",
    "r2_rf = r2_score(y_test, pred_rf)\n",
    "print(r2_rf)\n",
    "rmse_rf = np.sqrt(mean_squared_error(y_test, pred_rf))\n",
    "print(rmse_rf)"
   ]
  },
  {
   "cell_type": "markdown",
   "id": "7840a449-c6ff-474c-a422-884d5f35930a",
   "metadata": {},
   "source": [
    "### Visualization "
   ]
  },
  {
   "cell_type": "code",
   "execution_count": 25,
   "id": "1a97f1f1-34ec-4374-b37d-e4a27e2601ae",
   "metadata": {},
   "outputs": [
    {
     "data": {
      "image/png": "[encoded data removed]",
      "text/plain": [
       "<Figure size 432x288 with 1 Axes>"
      ]
     },
     "metadata": {
      "needs_background": "light"
     },
     "output_type": "display_data"
    }
   ],
   "source": [
    "import matplotlib.pyplot as plt\n",
    "\n",
    "\n",
    "plt.plot(X_test['Postal_Code'], y_test, label = 'Actual')\n",
    "plt.plot(X_test['Postal_Code'], pred_rf, label ='Predictions')\n",
    "  \n",
    "# naming the x axis\n",
    "plt.xlabel('Postal Code')\n",
    "# naming the y axis\n",
    "plt.ylabel('Price')\n",
    "  \n",
    "# giving a title to my graph\n",
    "plt.title('Actual vs Predictions')\n",
    "  \n",
    "# function to show the plot\n",
    "plt.legend()\n",
    "plt.show()"
   ]
  },
  {
   "cell_type": "markdown",
   "id": "8903556c-db89-48d9-afe7-a728211ff9f1",
   "metadata": {},
   "source": [
    "# Comparision"
   ]
  },
  {
   "cell_type": "markdown",
   "id": "4a6673ce-dcd9-4aee-8877-3b51164b7f43",
   "metadata": {},
   "source": [
    "Looking at the correlation Number_of_Bedrooms had a correlation value of 0.484 and Property_Type a value of 0.300 against Property-Price and thus can be concluded were the top predictive features in the dataset. Using get_dummies the Property_Type was changed from a strint text to a numerical variable for training the model. Overall RandomForestRegressor perfomed best on the data provided with Linear Regression at second. The coefficient of determination or R squared of the prediction was calculated for RandomForestRegressor to be a value of .5906, for Linear Regression a value of .3096, and Logistic Regression and Elastic Net had values near 0. The root mean sqared error also verified the above conclusion and was calculated to be 176663 for RandomForestRegressor, 229400 for Linear Regression, 276130 for Elastic Net, and 282100 for Elastic Net. Overall RandomForestRegressor performed the best on this dataset. The data set was very small and had a limited amount of features which led to a weakly trained model with weak predictability. With higher quality data and a higher quantity of data with more features/dimensions I would expect scores to improve drastically for each model. Looking at the graph you can see that the range of predictions were highest for Random Forest. Removing outliers would have been something that I would do to improve the model."
   ]
  },
  {
   "cell_type": "markdown",
   "id": "092c5b62-8ef3-47df-9ab0-3413bf760488",
   "metadata": {},
   "source": [
    "# SHAP for Three Models"
   ]
  },
  {
   "cell_type": "code",
   "execution_count": null,
   "id": "480564be-2427-41d8-bef3-94f58926645e",
   "metadata": {},
   "outputs": [],
   "source": [
    "!pip install shap"
   ]
  },
  {
   "cell_type": "markdown",
   "id": "84d458fa-1a78-4d63-8489-3414779a5402",
   "metadata": {},
   "source": [
    "## Linear Regression SHAP"
   ]
  },
  {
   "cell_type": "code",
   "execution_count": null,
   "id": "7eff7e64-1542-4c77-b243-834329752f89",
   "metadata": {},
   "outputs": [],
   "source": [
    "import shap"
   ]
  },
  {
   "cell_type": "code",
   "execution_count": null,
   "id": "4e8caeb0-2b51-442f-a209-6437d7b7f60d",
   "metadata": {},
   "outputs": [],
   "source": [
    "# Fits the explainer\n",
    "explainer = shap.Explainer(mdl.predict, X_test)\n",
    "# Calculates the SHAP values - It takes some time\n",
    "shap_values = explainer(X_test)"
   ]
  },
  {
   "cell_type": "code",
   "execution_count": null,
   "id": "e0582bfe-624e-4fa0-b6a5-d6cbc4af70d6",
   "metadata": {},
   "outputs": [],
   "source": [
    "shap.plots.bar(shap_values)"
   ]
  },
  {
   "cell_type": "code",
   "execution_count": null,
   "id": "9f483bad-fe69-458d-9161-147d36635ec9",
   "metadata": {},
   "outputs": [],
   "source": [
    "shap.summary_plot(shap_values)"
   ]
  },
  {
   "cell_type": "markdown",
   "id": "08ad6e0e-3926-4a08-845d-dc52a3345a8e",
   "metadata": {},
   "source": [
    "Shap Interpretation Linear Regression:\n",
    "\n",
    "The bar plot shows the global importance of each feature is taken to be the mean absolute value for that feature over all the given samples. The bar plot shows that number_bedrooms and postal_code are the most important features in prediction while the property types have very little impact. Looking at beeswarm plot number_bedrooms at high values have a positive impact an at low values have a negative impact, which means that more rooms means higher cost. Also lower postal code values have a higher impact and could be interpreted that the lower zip values are higher quality residential areas. Property type showed very impact."
   ]
  },
  {
   "cell_type": "markdown",
   "id": "cb8b77f3-f73d-40c8-b6cc-1ad5b9185f6d",
   "metadata": {},
   "source": [
    "## Logistic Regression Shap"
   ]
  },
  {
   "cell_type": "code",
   "execution_count": null,
   "id": "a90d91ad-99e2-4c38-a3bd-9141530c096e",
   "metadata": {},
   "outputs": [],
   "source": [
    "# Fits the explainer\n",
    "explainer = shap.Explainer(lr.predict, X_test)\n",
    "# Calculates the SHAP values - It takes some time\n",
    "shap_values = explainer(X_test)"
   ]
  },
  {
   "cell_type": "code",
   "execution_count": null,
   "id": "f6331e1a-7538-4c32-bcf2-9fa8687e7042",
   "metadata": {},
   "outputs": [],
   "source": [
    "shap.plots.bar(shap_values)"
   ]
  },
  {
   "cell_type": "code",
   "execution_count": null,
   "id": "12c44674-6f0b-49d1-a9b7-ae0f4bd4fd27",
   "metadata": {},
   "outputs": [],
   "source": [
    "shap.plots.beeswarm(shap_values)"
   ]
  },
  {
   "cell_type": "markdown",
   "id": "d2d2e577-be87-439d-8c7f-40b58bfd7f38",
   "metadata": {},
   "source": [
    "Shap Interpretation Logistic Regression:\n",
    "\n",
    "The bar plot shows the global importance of each feature is taken to be the mean absolute value for that feature over all the given samples. The bar plot shows that number_bedrooms and postal_code are the most important features in prediction. Looking at beeswarm plot, it is difficult to interpret anything for the logistic regression model."
   ]
  },
  {
   "cell_type": "markdown",
   "id": "10a99fed-f33f-4783-b404-5bc32eac3370",
   "metadata": {
    "tags": []
   },
   "source": [
    "## Random Forest Shap"
   ]
  },
  {
   "cell_type": "code",
   "execution_count": null,
   "id": "f6c7d68f-52f5-428c-afe5-c14e410daaf5",
   "metadata": {},
   "outputs": [],
   "source": [
    "# Fits the explainer\n",
    "explainer = shap.Explainer(rf_regressor.predict, X_test)\n",
    "# Calculates the SHAP values - It takes some time\n",
    "shap_values = explainer(X_test)"
   ]
  },
  {
   "cell_type": "code",
   "execution_count": null,
   "id": "7e999340-e9a6-4c1d-9eda-558101671130",
   "metadata": {},
   "outputs": [],
   "source": [
    "shap.plots.bar(shap_values)"
   ]
  },
  {
   "cell_type": "code",
   "execution_count": null,
   "id": "969d1c6a-8b79-4d4d-a8d8-e31f14ace20a",
   "metadata": {},
   "outputs": [],
   "source": [
    "shap.summary_plot(shap_values)"
   ]
  },
  {
   "cell_type": "markdown",
   "id": "0176eefc-633a-4e9f-967a-08d1a7df8139",
   "metadata": {},
   "source": [
    "Shap Interpretation Random Forest:\n",
    "\n",
    "The bar plot shows the global importance of each feature is taken to be the mean absolute value for that feature over all the given samples. The bar plot for random forest which performed the best shows that postal_code is the most impactful feature with number_bedrooms a close second and only in this model did property types have noticeble impact. Looking at beeswarm plot number_bedrooms at high values have a positive impact an at low values have a negative impact, which means that more rooms means higher cost. Also lower postal code values have a higher impact and could be interpreted that the lower zip values are higher quality residential areas. Property type of house had a postive impact on price while of type unit had a negative impact on price."
   ]
  },
  {
   "cell_type": "markdown",
   "id": "f2777f60-f051-425f-b8be-6bd2033b037b",
   "metadata": {},
   "source": [
    "# Other Technique Integrated Gradient"
   ]
  },
  {
   "cell_type": "markdown",
   "id": "0507eefa-f1a7-49d1-a807-ed6a627704e0",
   "metadata": {},
   "source": [
    "There are no other techniques that I knew of but I did research and found Integrated Gradients (IG). \n",
    "\n",
    "\"IG operates by considering a straight line path, in feature space, from the input at hand (e.g., an image from a training set) to a certain baseline input (e.g., a black image), and integrating the gradient of the prediction with respect to input features (e.g., image pixels) along this path.\"\n",
    "\n",
    "The above is a summary directly quoted from https://www.fiddler.ai/blog/should-you-explain-your-predictions-with-shap-or-ig.\n",
    "\n",
    "Integrated graidient along that path from the baseline to the input can along that trajectory can determine the gradient respect to that input feature and attribute that change in predictive probability back to that input feature. By doing this along the trajectory of that straight line it can determine what input features have a higher impact. Also it is faster than SHAP. There are limiations in that IG requires a continuous and piece-wise differentiable function.\n"
   ]
  },
  {
   "cell_type": "markdown",
   "id": "566c6eae-2eed-4c98-a281-c7d632bc14e2",
   "metadata": {},
   "source": [
    "# Citations:\n",
    "\n",
    "https://shap.readthedocs.io/en/latest/example_notebooks/api_examples/plots/bar.html\n",
    "\n",
    "https://towardsdatascience.com/using-shap-values-to-explain-how-your-machine-learning-model-works-732b3f40e137\n",
    "\n",
    "https://www.kaggle.com/code/samsonqian/predicting-house-prices-with-regression\n",
    "\n",
    "https://www.fiddler.ai/blog/should-you-explain-your-predictions-with-shap-or-ig"
   ]
  }
 ],
 "metadata": {
  "kernelspec": {
   "display_name": "Python 3 (ipykernel)",
   "language": "python",
   "name": "python3"
  },
  "language_info": {
   "codemirror_mode": {
    "name": "ipython",
    "version": 3
   },
   "file_extension": ".py",
   "mimetype": "text/x-python",
   "name": "python",
   "nbconvert_exporter": "python",
   "pygments_lexer": "ipython3",
   "version": "3.7.11"
  }
 },
 "nbformat": 4,
 "nbformat_minor": 5
}
