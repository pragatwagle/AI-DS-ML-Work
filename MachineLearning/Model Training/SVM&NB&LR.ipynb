{
 "cells": [
  {
   "cell_type": "markdown",
   "id": "341ee2f1",
   "metadata": {},
   "source": [
    "Author:\n",
    "Pragat Wagle\n",
    "\n",
    "Assignment 4\n",
    "\n",
    "Positive or Negative Text Classification"
   ]
  },
  {
   "cell_type": "markdown",
   "id": "6ed09083",
   "metadata": {},
   "source": [
    "# Data Preprocessing and Preparation "
   ]
  },
  {
   "cell_type": "code",
   "execution_count": 60,
   "id": "9d6395f2",
   "metadata": {},
   "outputs": [],
   "source": [
    "def readTxt(location):\n",
    "    \"\"\"\n",
    "    Used to read the text file based on the specified file location.\n",
    "    :param location: path of text file location\n",
    "    :return: returns the opened file\n",
    "    \"\"\" \n",
    "    file = open(location)\n",
    "    return file;"
   ]
  },
  {
   "cell_type": "code",
   "execution_count": 61,
   "id": "019c4f3c",
   "metadata": {},
   "outputs": [
    {
     "name": "stderr",
     "output_type": "stream",
     "text": [
      "[nltk_data] Downloading package stopwords to\n",
      "[nltk_data]     /Users/pragatwagle/nltk_data...\n",
      "[nltk_data]   Package stopwords is already up-to-date!\n"
     ]
    }
   ],
   "source": [
    "import nltk.corpus\n",
    "import re\n",
    "nltk.download('stopwords')\n",
    "from nltk.corpus import stopwords\n",
    "\n",
    "def dataPreprocessing(text, sentiment = '', testSet = False):\n",
    "    \"\"\"\n",
    "    Cleans the text and assigns the sentiment to the cleaned text and appends it to an array\n",
    "    param text: the text to be preprocessed, cleaned, and label assigned\n",
    "    param sentiment: 1 for positive, 0 for negative, '' empty \n",
    "    param testSet: boolean to specify if it is a test set and will not have a sentiment assigned\n",
    "    \"\"\"\n",
    "    cleanedText = []\n",
    "    \n",
    "    for line in text:\n",
    "        # lowering text\n",
    "        text = line.lower()\n",
    "        # punctuation, URL, and @\n",
    "        text = re.sub(r\"(@\\[A-Za-z0-9]+)|([^0-9A-Za-z \\t])|(\\w+:\\/\\/\\S+)|^rt|http.+?\", \"\", text)\n",
    "        # stop words are common words within sentences that do not add value\n",
    "        stop = stopwords.words('english')\n",
    "        text = \" \".join([word for word in text.split() if word not in (stop)])\n",
    "        \n",
    "        if testSet == False:\n",
    "            cleanedText.append([sentiment, text])\n",
    "        else:\n",
    "            cleanedText.append(text)\n",
    "        \n",
    "    return cleanedText\n"
   ]
  },
  {
   "cell_type": "markdown",
   "id": "aef86719",
   "metadata": {},
   "source": [
    "### Reading Train Data"
   ]
  },
  {
   "cell_type": "code",
   "execution_count": 62,
   "id": "995487a2",
   "metadata": {},
   "outputs": [],
   "source": [
    "positive = 1\n",
    "negative = 0\n",
    "train_negative = readTxt(\"TrainingDataNegative.txt\")\n",
    "negative = dataPreprocessing(train_negative, negative, False)\n",
    "train_positive = readTxt(\"TrainingDataPositive.txt\")\n",
    "positive = dataPreprocessing(train_positive, positive, False)"
   ]
  },
  {
   "cell_type": "code",
   "execution_count": 63,
   "id": "72a27181",
   "metadata": {},
   "outputs": [],
   "source": [
    "data_train = negative + positive\n",
    "features = ['label', 'message']"
   ]
  },
  {
   "cell_type": "code",
   "execution_count": 64,
   "id": "530a8383",
   "metadata": {},
   "outputs": [],
   "source": [
    "import numpy as np\n",
    "import pandas as pd \n",
    "\n",
    "train = np.array(data_train)\n",
    "df_train = pd.DataFrame(train, columns = features)"
   ]
  },
  {
   "cell_type": "code",
   "execution_count": 65,
   "id": "d65ab3e8",
   "metadata": {},
   "outputs": [],
   "source": [
    "y = df_train.label\n",
    "x = df_train.message"
   ]
  },
  {
   "cell_type": "markdown",
   "id": "c329e143",
   "metadata": {},
   "source": [
    "### Reading Test Data"
   ]
  },
  {
   "cell_type": "code",
   "execution_count": 66,
   "id": "eb556fd5",
   "metadata": {},
   "outputs": [],
   "source": [
    "test_set= readTxt(\"testSet.txt\")\n",
    "test = dataPreprocessing(test_set, '', testSet = True)"
   ]
  },
  {
   "cell_type": "code",
   "execution_count": 67,
   "id": "fdcdaef5",
   "metadata": {},
   "outputs": [],
   "source": [
    "data_test = []\n",
    "num = 0\n",
    "for line in test:\n",
    "    if num >= 2989:\n",
    "        data_test.append([0, line])\n",
    "    else:\n",
    "        data_test.append([1, line])\n",
    "    num = num + 1"
   ]
  },
  {
   "cell_type": "code",
   "execution_count": 68,
   "id": "48618fa8",
   "metadata": {},
   "outputs": [],
   "source": [
    "test = np.array(data_test)\n",
    "df_test = pd.DataFrame(test, columns = features)"
   ]
  },
  {
   "cell_type": "markdown",
   "id": "fc363f71",
   "metadata": {},
   "source": [
    "### Data Preparation for Model Fitting and Prediction on Held Out Test"
   ]
  },
  {
   "cell_type": "code",
   "execution_count": 69,
   "id": "e8eea3a6",
   "metadata": {},
   "outputs": [],
   "source": [
    "from sklearn.model_selection import train_test_split\n",
    "from sklearn.feature_extraction.text import CountVectorizer\n",
    "from sklearn.feature_extraction.text import TfidfTransformer\n",
    "\n",
    "train_x, test_x, train_y, test_y = train_test_split(x,y, \n",
    "                                                    test_size = 0.3, \n",
    "                                                    random_state =42)\n",
    "count_vectorizer = CountVectorizer()\n",
    "counts_x_train = count_vectorizer.fit_transform(train_x)\n",
    "tdif_transformer = TfidfTransformer()\n",
    "tdif_x_train = tdif_transformer.fit_transform(counts_x_train)\n",
    "counts_x_test = count_vectorizer.transform(test_x)\n",
    "tdif_x_test = tdif_transformer.transform(counts_x_test)"
   ]
  },
  {
   "cell_type": "markdown",
   "id": "30906eba",
   "metadata": {},
   "source": [
    "### Data Preparation for Model Fitting and Prediction on testSet.txt"
   ]
  },
  {
   "cell_type": "code",
   "execution_count": 70,
   "id": "e246de2c",
   "metadata": {},
   "outputs": [],
   "source": [
    "counts_x_testSet = count_vectorizer.transform(df_test.message)\n",
    "tdif_x_testSet = tdif_transformer.transform(counts_x_testSet)\n",
    "test_set_x = tdif_x_testSet\n",
    "test_set_y = df_test.label"
   ]
  },
  {
   "cell_type": "markdown",
   "id": "c45c6f28",
   "metadata": {},
   "source": [
    "# 1) Naive Bayes model"
   ]
  },
  {
   "cell_type": "markdown",
   "id": "a3330d5e",
   "metadata": {},
   "source": [
    "### Model Fitting and Prediction "
   ]
  },
  {
   "cell_type": "code",
   "execution_count": 71,
   "id": "2a043fe5",
   "metadata": {},
   "outputs": [],
   "source": [
    "from sklearn.naive_bayes import MultinomialNB\n",
    "\n",
    "model = MultinomialNB(fit_prior=True)\n",
    "model.fit(counts_x_train, train_y)\n",
    "predictions = model.predict(counts_x_test)"
   ]
  },
  {
   "cell_type": "markdown",
   "id": "695f23e7",
   "metadata": {},
   "source": [
    "### Accuracy Score of Prediction on Held Out Test Set"
   ]
  },
  {
   "cell_type": "code",
   "execution_count": 72,
   "id": "865631bc",
   "metadata": {},
   "outputs": [
    {
     "name": "stdout",
     "output_type": "stream",
     "text": [
      "Accuracy : % 93.78\n"
     ]
    }
   ],
   "source": [
    "print(\"Accuracy : %\", np.round(np.mean(predictions==test_y),4) * 100)"
   ]
  },
  {
   "cell_type": "markdown",
   "id": "382dd31e",
   "metadata": {},
   "source": [
    "### Accuracy Score and Prediction of testSet.txt"
   ]
  },
  {
   "cell_type": "code",
   "execution_count": 73,
   "id": "a7960916",
   "metadata": {},
   "outputs": [
    {
     "name": "stdout",
     "output_type": "stream",
     "text": [
      "Accuracy on testSet.txt : % 90.95\n"
     ]
    }
   ],
   "source": [
    "predictions_testSet = model.predict(test_set_x)\n",
    "print(\"Accuracy on testSet.txt : %\", np.round(np.mean(predictions_testSet==test_set_y),4) * 100)"
   ]
  },
  {
   "cell_type": "markdown",
   "id": "01aee299",
   "metadata": {},
   "source": [
    "### Confusion Matrix of MultinomialNB Predictions on Held out Test Set"
   ]
  },
  {
   "cell_type": "code",
   "execution_count": 74,
   "id": "86cc9c83",
   "metadata": {},
   "outputs": [
    {
     "data": {
      "text/plain": [
       "Text(33.0, 0.5, 'Predicted_False                      Predicted_True')"
      ]
     },
     "execution_count": 74,
     "metadata": {},
     "output_type": "execute_result"
    },
    {
     "data": {
      "image/png": "[encoded data removed]",
      "text/plain": [
       "<Figure size 432x288 with 2 Axes>"
      ]
     },
     "metadata": {
      "needs_background": "light"
     },
     "output_type": "display_data"
    }
   ],
   "source": [
    "import seaborn as sns\n",
    "import matplotlib.pyplot as plt\n",
    "from sklearn.metrics import confusion_matrix, accuracy_score\n",
    "\n",
    "cm = confusion_matrix(test_y, predictions)\n",
    "ax = plt.subplot()\n",
    "sns.heatmap(cm, annot = True, ax=ax)\n",
    "ax.set_title('Actual_True                        Actual_False')\n",
    "ax.set_ylabel('Predicted_False                      Predicted_True')"
   ]
  },
  {
   "cell_type": "markdown",
   "id": "66c82c69",
   "metadata": {},
   "source": [
    "# 2) Implement SVM model"
   ]
  },
  {
   "cell_type": "markdown",
   "id": "84e146f0",
   "metadata": {},
   "source": [
    "### Model Fitting and Prediction "
   ]
  },
  {
   "cell_type": "code",
   "execution_count": 75,
   "id": "b47c5b01",
   "metadata": {},
   "outputs": [],
   "source": [
    "from sklearn import svm\n",
    "\n",
    "model = svm.SVC()\n",
    "model.fit(counts_x_train, train_y)\n",
    "predictions = model.predict(counts_x_test)"
   ]
  },
  {
   "cell_type": "markdown",
   "id": "b7cd95a4",
   "metadata": {},
   "source": [
    "### Accuracy Score of Prediction on Held Out Test Set"
   ]
  },
  {
   "cell_type": "code",
   "execution_count": 76,
   "id": "c32f8f38",
   "metadata": {
    "scrolled": true
   },
   "outputs": [
    {
     "name": "stdout",
     "output_type": "stream",
     "text": [
      "Accuracy : % 91.64\n"
     ]
    }
   ],
   "source": [
    "print(\"Accuracy : %\", (np.round(np.mean(predictions==test_y),4)) * 100)"
   ]
  },
  {
   "cell_type": "markdown",
   "id": "a19481f6",
   "metadata": {},
   "source": [
    "### Accuracy Score and Prediction of testSet.txt"
   ]
  },
  {
   "cell_type": "code",
   "execution_count": 77,
   "id": "6a525a86",
   "metadata": {
    "scrolled": true
   },
   "outputs": [
    {
     "name": "stdout",
     "output_type": "stream",
     "text": [
      "Accuracy on testSet.txt : % 70.6\n"
     ]
    }
   ],
   "source": [
    "predictions_testSet = model.predict(test_set_x)\n",
    "print(\"Accuracy on testSet.txt : %\", np.round(np.mean(predictions_testSet==test_set_y),3) * 100)"
   ]
  },
  {
   "cell_type": "markdown",
   "id": "def6473c",
   "metadata": {},
   "source": [
    "### Confusion Matrix of MultinomialNB Predictions on Held out Test Set"
   ]
  },
  {
   "cell_type": "code",
   "execution_count": 78,
   "id": "79694253",
   "metadata": {},
   "outputs": [
    {
     "data": {
      "text/plain": [
       "Text(33.0, 0.5, 'Predicted_False                      Predicted_True')"
      ]
     },
     "execution_count": 78,
     "metadata": {},
     "output_type": "execute_result"
    },
    {
     "data": {
      "image/png": "[encoded data removed]",
      "text/plain": [
       "<Figure size 432x288 with 2 Axes>"
      ]
     },
     "metadata": {
      "needs_background": "light"
     },
     "output_type": "display_data"
    }
   ],
   "source": [
    "import seaborn as sns\n",
    "import matplotlib.pyplot as plt\n",
    "from sklearn.metrics import confusion_matrix, accuracy_score\n",
    "\n",
    "cm = confusion_matrix(test_y, predictions)\n",
    "ax = plt.subplot()\n",
    "sns.heatmap(cm, annot = True, ax=ax)\n",
    "ax.set_title('Actual_True                        Actual_False')\n",
    "ax.set_ylabel('Predicted_False                      Predicted_True')"
   ]
  },
  {
   "cell_type": "markdown",
   "id": "1ac77f5e",
   "metadata": {},
   "source": [
    "# 3) Logistic Regression"
   ]
  },
  {
   "cell_type": "markdown",
   "id": "8584279d",
   "metadata": {},
   "source": [
    "### Model Fitting and Prediction "
   ]
  },
  {
   "cell_type": "code",
   "execution_count": 79,
   "id": "7a2f67bb",
   "metadata": {},
   "outputs": [],
   "source": [
    "from sklearn.linear_model import LogisticRegression\n",
    "\n",
    "model = LogisticRegression()\n",
    "model.fit(counts_x_train, train_y)\n",
    "predictions = model.predict(counts_x_test)"
   ]
  },
  {
   "cell_type": "markdown",
   "id": "6e695b3f",
   "metadata": {},
   "source": [
    "### Accuracy Score of Prediction on Held Out Test Set"
   ]
  },
  {
   "cell_type": "code",
   "execution_count": 80,
   "id": "03b0a012",
   "metadata": {},
   "outputs": [
    {
     "name": "stdout",
     "output_type": "stream",
     "text": [
      "Accuracy : % 94.07\n"
     ]
    }
   ],
   "source": [
    "print(\"Accuracy : %\", np.round(np.mean(predictions==test_y),4) * 100)"
   ]
  },
  {
   "cell_type": "markdown",
   "id": "20e92958",
   "metadata": {},
   "source": [
    "### Accuracy Score and Prediction of testSet.txt"
   ]
  },
  {
   "cell_type": "code",
   "execution_count": 81,
   "id": "7aabe8ce",
   "metadata": {},
   "outputs": [
    {
     "name": "stdout",
     "output_type": "stream",
     "text": [
      "Accuracy on testSet.txt : % 82.43\n"
     ]
    }
   ],
   "source": [
    "predictions_testSet = model.predict(test_set_x)\n",
    "print(\"Accuracy on testSet.txt : %\", np.round(np.mean(predictions_testSet==test_set_y),4) * 100)"
   ]
  },
  {
   "cell_type": "markdown",
   "id": "eed4afeb",
   "metadata": {},
   "source": [
    "### Confusion Matrix of MultinomialNB Predictions on Held out Test Set"
   ]
  },
  {
   "cell_type": "code",
   "execution_count": 82,
   "id": "c8fbc8b8",
   "metadata": {},
   "outputs": [
    {
     "data": {
      "text/plain": [
       "Text(33.0, 0.5, 'Predicted_False                      Predicted_True')"
      ]
     },
     "execution_count": 82,
     "metadata": {},
     "output_type": "execute_result"
    },
    {
     "data": {
      "image/png": "[encoded data removed]",
      "text/plain": [
       "<Figure size 432x288 with 2 Axes>"
      ]
     },
     "metadata": {
      "needs_background": "light"
     },
     "output_type": "display_data"
    }
   ],
   "source": [
    "import seaborn as sns\n",
    "import matplotlib.pyplot as plt\n",
    "from sklearn.metrics import confusion_matrix, accuracy_score\n",
    "\n",
    "cm = confusion_matrix(test_y, predictions)\n",
    "ax = plt.subplot()\n",
    "sns.heatmap(cm, annot = True, ax=ax)\n",
    "ax.set_title('Actual_True                        Actual_False')\n",
    "ax.set_ylabel('Predicted_False                      Predicted_True')"
   ]
  },
  {
   "cell_type": "markdown",
   "id": "ac764734",
   "metadata": {},
   "source": [
    "# 4) Results Comparision"
   ]
  },
  {
   "cell_type": "markdown",
   "id": "a25ce05a",
   "metadata": {},
   "source": [
    "The three models used were MultinomialNB, SVC, and Logistic Regression with accuracies of %93.78, %91.64, and %94.07 with Logistic Regression performing the best on the held out test set. \n",
    "\n",
    "The results on the test data from testSet.txt file are as seen below:\n",
    "\n",
    "MultinomialNB: 90.95\n",
    "\n",
    "SVC: 70.6\n",
    "\n",
    "Logistic Regression: 82.43\n",
    "\n",
    "None of these models were hypertuned and could most likely see a slight increase in accraucy after tuning. MultinomialNB performed quite well with its independence assumption and performed the best on a real world data set. LR can fit non-linearity and most likely showed higher scores on the held out test set due to overfitting. SVC doesn't work as well with nonlinearity and thus performed the worse on both the heldout test set and the testSet.txt. I would choose to use the Multinomial Naive Bayes classification for positive and negative sentiment classification based on the results seen above. In the future I would most likely use grid search for hyper parameter tuning using cross validation, if available for the model."
   ]
  }
 ],
 "metadata": {
  "kernelspec": {
   "display_name": "Python 3 (ipykernel)",
   "language": "python",
   "name": "python3"
  },
  "language_info": {
   "codemirror_mode": {
    "name": "ipython",
    "version": 3
   },
   "file_extension": ".py",
   "mimetype": "text/x-python",
   "name": "python",
   "nbconvert_exporter": "python",
   "pygments_lexer": "ipython3",
   "version": "3.7.11"
  }
 },
 "nbformat": 4,
 "nbformat_minor": 5
}
