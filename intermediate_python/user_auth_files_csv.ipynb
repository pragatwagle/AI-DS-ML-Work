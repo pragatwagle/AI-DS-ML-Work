{
 "cells": [
  {
   "cell_type": "markdown",
   "id": "aa103119",
   "metadata": {},
   "source": [
    "In this assignment, we will build on the work you have previously done. In the following cells, I have created a partial definition of the Authentication class. The next cell will have a function called data_entry(), which inserts some users. Execute these cells, and start your assignment."
   ]
  },
  {
   "cell_type": "code",
   "execution_count": 1,
   "id": "fa199e6d",
   "metadata": {},
   "outputs": [],
   "source": [
    "class Authentication:\n",
    "    def __init__(self):\n",
    "        # instantiate an instance variable\n",
    "        self.user_dict = {}\n",
    "    \n",
    "    def register_user(self, uname, passwd):\n",
    "        if uname in self.user_dict:\n",
    "            print(\"Username exists! Try a new one.\")\n",
    "            return False\n",
    "        else:\n",
    "            self.user_dict[uname] = passwd\n",
    "            print(\"Registration successful\" )\n",
    "            return True "
   ]
  },
  {
   "cell_type": "code",
   "execution_count": 2,
   "id": "123de0fc",
   "metadata": {},
   "outputs": [
    {
     "name": "stdout",
     "output_type": "stream",
     "text": [
      "Registration successful\n",
      "Registration successful\n",
      "Registration successful\n",
      "Registration successful\n",
      "Registration successful\n",
      "Registration successful\n",
      "Registration successful\n"
     ]
    }
   ],
   "source": [
    "def data_entry(auth):\n",
    "\n",
    "    # registering 3 users\n",
    "    auth.register_user('jdoe', '$234^%$') # Jane Doe\n",
    "    auth.register_user('sburry', '456@#&^') # Sam Burry\n",
    "    auth.register_user('mfisc', '%6&#$@#') # Mike Fischer\n",
    "    auth.register_user('nhay', 'ildfu45') # Nicky Hailey\n",
    "    auth.register_user('bobama', 'klj43509jafd') # Barack Obama\n",
    "    auth.register_user('bgates', '^&%kjsfd934@#$') # Bill Gates \n",
    "    auth.register_user('mcuban', '9&4rl#nsf') # Mark Cuban\n",
    "\n",
    "# Main program\n",
    "auth = Authentication()\n",
    "data_entry(auth)"
   ]
  },
  {
   "cell_type": "code",
   "execution_count": 3,
   "id": "7305e1bc",
   "metadata": {},
   "outputs": [
    {
     "name": "stdout",
     "output_type": "stream",
     "text": [
      "Registration successful\n",
      "Registration successful\n",
      "Registration successful\n",
      "Registration successful\n",
      "Registration successful\n",
      "Registration successful\n",
      "Registration successful\n"
     ]
    }
   ],
   "source": [
    "# Question 1:\n",
    "# Inherit the Authentication class to create a new child class called AuthenticationIOcsv\n",
    "# add a new method called write_info()\n",
    "# which writes all the usernames and passwords to a CSV file (never recommended in real life)\n",
    "# the filename should be \"userinfo.csv\"\n",
    "# It should have 2 columns: Username, Password\n",
    "# After writing to file successfully, print \"Write to file successful!\"\n",
    "\n",
    "import csv\n",
    "\n",
    "class AuthenticationIOcsv(Authentication):\n",
    "    def write_info(self):\n",
    "        fname='userinfo.csv'\n",
    "        with open(fname, 'w') as f:\n",
    "            op_writer = csv.writer(f, lineterminator='\\n')\n",
    "            for key in self.user_dict:\n",
    "                op_writer.writerow([key, self.user_dict[key]])\n",
    "        \n",
    "        # fill in your code\n",
    "        # remove pass after your implementation is complete\n",
    "        pass\n",
    "\n",
    "# Main Program\n",
    "auth = AuthenticationIOcsv()\n",
    "data_entry(auth)\n",
    "\n",
    "# writing to file\n",
    "auth.write_info()"
   ]
  },
  {
   "cell_type": "code",
   "execution_count": 4,
   "id": "fee8afe4",
   "metadata": {},
   "outputs": [
    {
     "name": "stdout",
     "output_type": "stream",
     "text": [
      "['jdoe', '$234^%$']\n",
      "['sburry', '456@#&^']\n",
      "['mfisc', '%6&#$@#']\n",
      "['nhay', 'ildfu45']\n",
      "['bobama', 'klj43509jafd']\n",
      "['bgates', '^&%kjsfd934@#$']\n",
      "['mcuban', '9&4rl#nsf']\n"
     ]
    }
   ],
   "source": [
    "# Question 2:\n",
    "# Read and print the contents of the CSV file \"userinfo.csv\"\n",
    "\n",
    "fname = \"userinfo.csv\"\n",
    "\n",
    "with open(fname) as f:\n",
    "    # fill in your code\n",
    "    user_reader = csv.reader(f)\n",
    "    for row in user_reader:\n",
    "        print(row)"
   ]
  },
  {
   "cell_type": "code",
   "execution_count": 5,
   "id": "4d5cf2ab",
   "metadata": {},
   "outputs": [
    {
     "name": "stdout",
     "output_type": "stream",
     "text": [
      "Registration successful\n",
      "Registration successful\n",
      "Registration successful\n",
      "Registration successful\n",
      "Registration successful\n",
      "Registration successful\n",
      "Registration successful\n"
     ]
    }
   ],
   "source": [
    "# Question 3:\n",
    "# Inherit the Authentication class to create a new child class called AuthenticationIOjson\n",
    "# add a new method called write_info()\n",
    "# which writes all the usernames and passwords to a json file (never recommended in real life)\n",
    "# the filename should be \"userinfo.json\"\n",
    "# It should have Username as the key, Password as the value \n",
    "# After writing to file successfully, print \"Write to file successful!\"\n",
    "\n",
    "import json\n",
    "from pprint import pprint \n",
    "\n",
    "class AuthenticationIOjson(Authentication):\n",
    "    \n",
    "    def write_info(self):\n",
    "        fname = 'userinfo.json'\n",
    "        with open(fname, \"w\") as f:\n",
    "            json.dump(self.user_dict, f)\n",
    "        # fill in your code\n",
    "        # remove pass after your implementation is complete\n",
    "        pass\n",
    "\n",
    "# Main Program\n",
    "auth = AuthenticationIOjson()\n",
    "data_entry(auth)\n",
    "\n",
    "# writing to file\n",
    "auth.write_info()"
   ]
  },
  {
   "cell_type": "code",
   "execution_count": 6,
   "id": "7ea75be2",
   "metadata": {},
   "outputs": [
    {
     "name": "stdout",
     "output_type": "stream",
     "text": [
      "{'bgates': '^&%kjsfd934@#$',\n",
      " 'bobama': 'klj43509jafd',\n",
      " 'jdoe': '$234^%$',\n",
      " 'mcuban': '9&4rl#nsf',\n",
      " 'mfisc': '%6&#$@#',\n",
      " 'nhay': 'ildfu45',\n",
      " 'sburry': '456@#&^'}\n"
     ]
    }
   ],
   "source": [
    "# Question 4:\n",
    "# Read and print the contents of the json file \"userinfo.json\"\n",
    "\n",
    "fname = 'userinfo.json'\n",
    "\n",
    "with open(fname, 'r') as f:\n",
    "    info = json.load(f)\n",
    "\n",
    "pprint(info)"
   ]
  },
  {
   "cell_type": "code",
   "execution_count": 7,
   "id": "0a2da5ea",
   "metadata": {},
   "outputs": [
    {
     "name": "stdout",
     "output_type": "stream",
     "text": [
      "Its A Happy Day In Bloomington #happy\n"
     ]
    }
   ],
   "source": [
    "# Question 5\n",
    "# Given a string,strip all the white spaces on both sides of the string \n",
    "# Then, capitalize first letter of all words \n",
    "# if first character is not an alphabet leave it as it is\n",
    "# and lower case the rest of the characters in each word\n",
    "\n",
    "tweet = \"     Its a happy day in bloomington #happy            \"\n",
    "\n",
    "# strip all the white spaces and split the string to individual words\n",
    "words = tweet.strip().split(\" \")\n",
    "\n",
    "formatted_words = []\n",
    "for w in words:\n",
    "    # check if the first character is an alphabet\n",
    "    if w[0].isalpha():\n",
    "        formatted_words.append(w[:1].upper() + w[1:].lower())\n",
    "    else:\n",
    "        formatted_words.append(w[:1].upper() + w[1:].lower())\n",
    "\n",
    "# join all the words in formatter_words to create a single string\n",
    "formatted_tweet = \" \".join(formatted_words)\n",
    "print(formatted_tweet)"
   ]
  },
  {
   "cell_type": "code",
   "execution_count": 8,
   "id": "488bda9c",
   "metadata": {},
   "outputs": [
    {
     "name": "stdout",
     "output_type": "stream",
     "text": [
      "Street Address: 2706 10th Street\n",
      "State: IN\n",
      "Zipcode: 47408\n"
     ]
    }
   ],
   "source": [
    "# Question 6\n",
    "# In the following address, find the Street address, State, Zipcode using regular expressions\n",
    "\n",
    "\n",
    "import re\n",
    "\n",
    "addr = \"2706 10th Street, Bloomington, IN - 47408\"\n",
    "\n",
    "# feel free to write your own regex strings\n",
    "# this version is for simplicity\n",
    "\n",
    "st_expr = r\"^[^,]*\" # must capture the idea the street addresses have small and capital letters, numbers and space\n",
    "st_regex = re.compile(st_expr)\n",
    "street_match = st_regex.search(addr)\n",
    "street = street_match.group(0)\n",
    "\n",
    "state_zip_expr = r\"([A-Z]{2})( - )(\\d{5})\" # state has two letters followed by space, -, space and 5 digits\n",
    "state_zip_re = re.compile(state_zip_expr)\n",
    "state_zip_match = state_zip_re.search(addr)\n",
    "state, zipcode = state_zip_match.group(1), state_zip_match.group(3)\n",
    "\n",
    "print('Street Address:', street)\n",
    "print('State:', state)\n",
    "print('Zipcode:', zipcode)"
   ]
  }
 ],
 "metadata": {
  "kernelspec": {
   "display_name": "Python 3 (ipykernel)",
   "language": "python",
   "name": "python3"
  },
  "language_info": {
   "codemirror_mode": {
    "name": "ipython",
    "version": 3
   },
   "file_extension": ".py",
   "mimetype": "text/x-python",
   "name": "python",
   "nbconvert_exporter": "python",
   "pygments_lexer": "ipython3",
   "version": "3.9.7"
  }
 },
 "nbformat": 4,
 "nbformat_minor": 5
}
