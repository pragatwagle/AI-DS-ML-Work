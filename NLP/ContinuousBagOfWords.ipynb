{
  "nbformat": 4,
  "nbformat_minor": 0,
  "metadata": {
    "colab": {
      "name": "CBOWAssignment.ipynb",
      "provenance": [],
      "collapsed_sections": []
    },
    "kernelspec": {
      "name": "python3",
      "display_name": "Python 3"
    }
  },
  "cells": [
    {
      "cell_type": "code",
      "metadata": {
        "colab": {
          "base_uri": "https://localhost:8080/"
        },
        "id": "wtuJdIVFC1x_",
        "outputId": "573dc60c-84be-4708-b1a0-9c517be555ec"
      },
      "source": [
        "#Step 1: Select A corpus \n",
        "import nltk\n",
        "from nltk.tokenize import sent_tokenize\n",
        "from nltk.tokenize import RegexpTokenizer\n",
        "from nltk.corpus import stopwords\n",
        "from nltk.corpus import gutenberg\n",
        "nltk.download('inaugural')\n",
        "nltk.download('punkt')\n",
        "nltk.download('stopwords')\n",
        "from nltk.corpus import inaugural\n",
        "names = inaugural.fileids()\n",
        "corpus = inaugural.raw(fileids = names[0])\n",
        "\n",
        "#Step 2. Preprocess corpus 20pts\n",
        "def norm(text):\n",
        "  norm_text = []\n",
        "  tokenizer = RegexpTokenizer('[a-zA-Z]+')\n",
        "  tokens_sentences = [tokenizer.tokenize(t) for t in sent_tokenize(text)]\n",
        "  stop_words = stopwords.words('english')\n",
        "  for s in tokens_sentences:\n",
        "    w_norm = []\n",
        "    for w in s:\n",
        "      if not w.lower() in stop_words:\n",
        "        w_norm.append(w.lower())\n",
        "        norm_text.append(' '.join(w_norm))\n",
        "  return(norm_text)\n",
        "\n",
        "norm_corpus = norm(corpus)"
      ],
      "execution_count": 9,
      "outputs": [
        {
          "output_type": "stream",
          "text": [
            "[nltk_data] Downloading package inaugural to /root/nltk_data...\n",
            "[nltk_data]   Package inaugural is already up-to-date!\n",
            "[nltk_data] Downloading package punkt to /root/nltk_data...\n",
            "[nltk_data]   Package punkt is already up-to-date!\n",
            "[nltk_data] Downloading package stopwords to /root/nltk_data...\n",
            "[nltk_data]   Package stopwords is already up-to-date!\n"
          ],
          "name": "stdout"
        }
      ]
    },
    {
      "cell_type": "code",
      "metadata": {
        "id": "HGWwr1uqQIqd"
      },
      "source": [
        "#Step 3. Vocabulary 10pts\n",
        "from keras.preprocessing import text\n",
        "tokenizer = text.Tokenizer()\n",
        "tokenizer.fit_on_texts(norm_corpus)\n",
        "word2id = tokenizer.word_index\n",
        "word2id['PAD'] = 0\n",
        "id2word = {v:k for k, v in word2id.items()}\n",
        "wids = [[word2id[w] for w in text.text_to_word_sequence(doc)] for doc in norm_corpus]\n",
        "\n",
        "\n",
        "\n",
        "\n"
      ],
      "execution_count": 8,
      "outputs": []
    },
    {
      "cell_type": "code",
      "metadata": {
        "colab": {
          "base_uri": "https://localhost:8080/"
        },
        "id": "Bd6AoE-jrByR",
        "outputId": "81ff657c-fedc-4874-c967-cac250000111"
      },
      "source": [
        "#Step 4 generate a context window\n",
        "#pass in the nomralized corpus \n",
        "from keras.utils import np_utils\n",
        "from keras.preprocessing import sequence\n",
        "import numpy as np\n",
        "\n",
        "def generate_context_word_pairs(corpus, window_size, vocab_size):\n",
        "    context_length = window_size*2\n",
        "    for words in corpus:\n",
        "        sentence_length = len(words)\n",
        "        for index, word in enumerate(words):\n",
        "            context_words = []\n",
        "            label_word   = []            \n",
        "            start = index - window_size\n",
        "            end = index + window_size + 1\n",
        "            \n",
        "            context_words.append([words[i] \n",
        "                                 for i in range(start, end) \n",
        "                                 if 0 <= i < sentence_length \n",
        "                                 and i != index])\n",
        "            label_word.append(word)\n",
        "\n",
        "            x = sequence.pad_sequences(context_words, maxlen=context_length)\n",
        "            y = np_utils.to_categorical(label_word, vocab_size)\n",
        "            yield (x, y)\n",
        "\n",
        "# Apply to our wids and intialize and assign embed and vocab size  \n",
        "i = 0\n",
        "vocab_size = len(word2id)\n",
        "embed_size = 100\n",
        "window_size = 2\n",
        "for x, y in generate_context_word_pairs(corpus=wids, window_size=window_size, vocab_size=vocab_size):\n",
        "    if 0 not in x[0]:\n",
        "        print('Context (X):', [id2word[w] for w in x[0]][:20], '-> Target (Y):', id2word[np.argwhere(y[0])[0][0]])\n",
        "        i = i + 1\n",
        "    \n",
        "        if i == 5:\n",
        "            break\n"
      ],
      "execution_count": 3,
      "outputs": [
        {
          "output_type": "stream",
          "text": [
            "Context (X): ['fellow', 'citizens', 'house', 'representatives'] -> Target (Y): senate\n",
            "Context (X): ['fellow', 'citizens', 'house', 'representatives'] -> Target (Y): senate\n",
            "Context (X): ['citizens', 'senate', 'representatives', 'among'] -> Target (Y): house\n",
            "Context (X): ['fellow', 'citizens', 'house', 'representatives'] -> Target (Y): senate\n",
            "Context (X): ['citizens', 'senate', 'representatives', 'among'] -> Target (Y): house\n"
          ],
          "name": "stdout"
        }
      ]
    },
    {
      "cell_type": "code",
      "metadata": {
        "cellView": "code",
        "id": "kv8XSFzaIb5B"
      },
      "source": [
        "#@title Default title text { vertical-output: true }\n",
        "import keras.backend as K\n",
        "from keras.models import Sequential\n",
        "from keras.layers import Dense, Embedding, Lambda\n",
        "#Step 5. CBOW 10pts Build CBOW Model\n",
        "cbow = Sequential()\n",
        "vocab_size = len(word2id)\n",
        "embed_size = 100\n",
        "window_size = 2\n",
        "cbow.add(Embedding(input_dim=vocab_size,output_dim=embed_size,input_length=window_size*2))\n",
        "cbow.add(Lambda(lambda x: K.mean(x, axis=1), output_shape=(embed_size,)))\n",
        "cbow.add(Dense(vocab_size, activation=\"softmax\"))\n",
        "cbow.compile(loss='categorical_crossentropy', optimizer=\"rmsprop\")\n"
      ],
      "execution_count": 4,
      "outputs": []
    },
    {
      "cell_type": "code",
      "metadata": {
        "colab": {
          "base_uri": "https://localhost:8080/"
        },
        "id": "jmZrACQpIvsV",
        "outputId": "b0c9cc6f-fa3a-41f9-cf7c-44b6bc28a8c7"
      },
      "source": [
        "\n",
        "#Step 6. Training 10pts\n",
        "for epoch in range(1, 6):\n",
        "    loss = 0.\n",
        "    i = 0\n",
        "    for x, y in generate_context_word_pairs(corpus=wids, window_size=window_size, vocab_size=vocab_size):\n",
        "        i += 1\n",
        "        loss += cbow.train_on_batch(x, y)\n",
        "        if i % 100000 == 0:\n",
        "            print('Processed {} (context, word) pairs'.format(i))\n",
        "\n",
        "    print('Epoch:', epoch, '\\tLoss:', loss)\n",
        "    print()\n",
        "\n",
        "\n",
        "\n"
      ],
      "execution_count": 5,
      "outputs": [
        {
          "output_type": "stream",
          "text": [
            "Epoch: 1 \tLoss: 63163.028626512736\n",
            "\n",
            "Epoch: 2 \tLoss: 40518.86806931067\n",
            "\n",
            "Epoch: 3 \tLoss: 30894.921437557437\n",
            "\n",
            "Epoch: 4 \tLoss: 24966.858082508465\n",
            "\n",
            "Epoch: 5 \tLoss: 20854.41570672903\n",
            "\n"
          ],
          "name": "stdout"
        }
      ]
    },
    {
      "cell_type": "code",
      "metadata": {
        "id": "1PXEUc1rI7UK"
      },
      "source": [
        "\n",
        "#Step 7. Search Terms 20pts Get word embeddings \n",
        "from sklearn.metrics.pairwise import euclidean_distances\n",
        "import pandas as pd\n",
        "weights = cbow.get_weights()[0]\n",
        "weights = weights[1:]\n",
        "pd.DataFrame(weights, index=list(id2word.values())[1:]).head()\n",
        "distance_matrix = euclidean_distances(weights)\n",
        "similar_words = {search_term: [id2word[idx] for idx in distance_matrix[word2id[search_term]-\n",
        "1].argsort()[1:6]+1]\n",
        "for search_term in ['every', 'public', 'since']}"
      ],
      "execution_count": 7,
      "outputs": []
    },
    {
      "cell_type": "code",
      "metadata": {
        "colab": {
          "base_uri": "https://localhost:8080/",
          "height": 390
        },
        "id": "c8Y0nTySI7BH",
        "outputId": "861fe951-aec2-4aee-baa9-856dd45f92cb"
      },
      "source": [
        "#Step 8. Visualization 10pts\n",
        "from sklearn.manifold import TSNE\n",
        "import pylab as plt\n",
        "words = sum([[k] + v for k, v in similar_words.items()], [])\n",
        "words_ids = [word2id[w] for w in words]\n",
        "word_vectors = np.array([weights[idx] for idx in words_ids])\n",
        "print('Total words:', len(words), '\\tWord Embedding shapes:', word_vectors.shape)\n",
        "tsne = TSNE(n_components=2, random_state=0, n_iter=10000, perplexity=3)\n",
        "np.set_printoptions(suppress=True)\n",
        "T = tsne.fit_transform(word_vectors)\n",
        "labels = words\n",
        "plt.figure(figsize=(10, 6))\n",
        "plt.scatter(T[:, 0], T[:, 1], c=\"steelblue\", edgecolors=\"k\", s= 40)\n",
        "for label, x, y in zip(labels, T[:, 0], T[:, 1]):\n",
        "  plt.annotate(label, xy=(x+1, y+1), xytext=(0, 0), textcoords='offset points', fontsize = 16)  "
      ],
      "execution_count": 32,
      "outputs": [
        {
          "output_type": "stream",
          "text": [
            "Total words: 18 \tWord Embedding shapes: (18, 100)\n"
          ],
          "name": "stdout"
        },
        {
          "output_type": "display_data",
          "data": {
            "image/png": "[encoded data removed]",
            "text/plain": [
              "<Figure size 720x432 with 1 Axes>"
            ]
          },
          "metadata": {
            "tags": [],
            "needs_background": "light"
          }
        }
      ]
    },
    {
      "cell_type": "markdown",
      "metadata": {
        "id": "J1u5et0DNvP2"
      },
      "source": [
        "#Write  a brief summary, describe your decisions on cleaning and preprocessing corpus\n",
        "We have used a massive textual corpora from inaugural and preprocessed the corpus, cleaned the corpus from stopwords, and punctutation. Cleaning steps were taken to standardise the imported corpus text and to remove punctuation text, stop words, and lower cased. This was done using the regex tokenizer and sent_tokenize from ntlk tokenizer, to tokenize the corpus into tokens. After performing these steps a ‘clean’ text dataset was returned to be analysed using the below steps.\n",
        "\n",
        "Created a vocabulary of possible words and generated dense word embeddings for each word in the vector space, then represented that vocabulary in a context windown. Using the w2id with a specified embed size of 100 and window size of 2 to build the CBOW model which was then  trained using 5 epoch. The word embeddings were extracted and a sample was created with 3 search terms. Visualizztion distance of the terms was plotted using plt from PyLab.\n",
        "\n",
        "There are different model architectures which can be leveraged by Word2Vec to create these word embedding representations. In this assignmment the CBOW model was utilized.\n",
        "\n",
        "\n",
        "\n",
        "\n",
        "\n"
      ]
    },
    {
      "cell_type": "markdown",
      "metadata": {
        "id": "jfgNjQhw0y4m"
      },
      "source": [
        "#Proper references/citations\n",
        "\n",
        "“Implementing Deep Learning Methods and Feature Engineering for Text Data: The Continuous Bag of Words (CBOW).” KDnuggets, www.kdnuggets.com/2018/04/implementing-deep-learning-methods-feature-engineering-text-data-cbow.html. \n",
        "\n",
        "PART 1. Word Embedding\n",
        "Advanced Features PPT\n",
        "Ch.4 Text Analytics with Python. Dipanjan Sarkar. 2019. Apress\n",
        "An implementation guide to word2vec. Derek Chia. 2018\n",
        "R Machine Learning Projects. Sunil Chinnamgari. 2018. Packt"
      ]
    }
  ]
}