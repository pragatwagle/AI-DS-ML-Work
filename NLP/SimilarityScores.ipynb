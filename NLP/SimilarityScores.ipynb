{
  "nbformat": 4,
  "nbformat_minor": 0,
  "metadata": {
    "colab": {
      "name": "SimilarityAssignment .ipynb",
      "provenance": [],
      "collapsed_sections": []
    },
    "kernelspec": {
      "name": "python3",
      "display_name": "Python 3"
    }
  },
  "cells": [
    {
      "cell_type": "code",
      "metadata": {
        "colab": {
          "base_uri": "https://localhost:8080/"
        },
        "id": "EflZaPOjtj3b",
        "outputId": "5d5db604-1e62-4547-98ac-47c421212990"
      },
      "source": [
        "#Step 1 - Corpus Preprocessing 20pts\n",
        "\n",
        "from gensim.corpora import Dictionary\n",
        "import nltk\n",
        "from nltk.tokenize import word_tokenize \n",
        "from nltk.stem import WordNetLemmatizer \n",
        "from nltk.stem.porter import *\n",
        "nltk.download('wordnet')\n",
        "nltk.download('stopwords')\n",
        "from nltk.corpus import brown\n",
        "import nltk\n",
        "import pandas as pd\n",
        "import sklearn as sk\n",
        "import math \n",
        "\n",
        "\n",
        "\n",
        "#Create a corpus with at least three documents\n",
        "def listToString(s):  \n",
        "    stringFromlist = \"\"  \n",
        "    for ele in s:  \n",
        "        stringFromlist += ' ' + ele   \n",
        "    return stringFromlist  \n",
        "        \n",
        "\n",
        "#Create a corpus with at least three documents - 5pts\n",
        "#created string from words then concatenated for corpus to then tokenize\n",
        "#As a list\n",
        "brown.categories()\n",
        "wordsOne = brown.words(categories='adventure')\n",
        "wordsTwo = brown.words(categories='mystery')\n",
        "wordsThree = brown.words(categories='religion')\n",
        "docList = [wordsOne,wordsTwo,wordsThree]\n",
        "\n",
        "#Corpus of three documents \n",
        "corpusOfThree = stringOfOne + stringOfTwo + stringOfThree\n",
        "stringOfOne = listToString(wordsOne)\n",
        "stringOfTwo = listToString(wordsTwo)\n",
        "stringOfThree = listToString(wordsThree)\n",
        "\n",
        "#punctuation, stemming or lemmatization) - 15pt\n",
        "def normalizeCorpus(corpus):\n",
        "  #Pre-process corpus (tokenization, stopwords, punctuation, stemming or lemmatization) - 15pts\n",
        "#Tokenize \n",
        "  from nltk.tokenize import word_tokenize \n",
        "  nltk.download('punkt')\n",
        "  tokenized_corpus = word_tokenize(corpus)\n",
        "\n",
        "  #Stopwords\n",
        "  stopwords = nltk.corpus.stopwords.words('english')\n",
        "  filtered_words = [w for w in tokenized_corpus if not w in stopwords]\n",
        "\n",
        "  #punctuation\n",
        "  removedpunctuation_words = [word.lower() for word in filtered_words if word.isalpha()]\n",
        "\n",
        "  #stemming\n",
        "  ps = PorterStemmer()\n",
        "  stemmed_words = [ps.stem(word) for word in removedpunctuation_words]\n",
        "\n",
        "  #lemmatization\n",
        "  lemmatizer = WordNetLemmatizer()\n",
        "  lemmatized_words = [lemmatizer.lemmatize(w) for w in stemmed_words ]\n",
        "  normalized_corpus = lemmatized_words\n",
        "  return normalized_corpus \n",
        "  #Corpus has been normalized\n",
        "\n",
        "\n",
        "#Pre-process corpus (tokenization, stopwords, punctuation, stemming or lemmatization) - 15pts\n",
        "#Tokenize \n",
        "from nltk.tokenize import word_tokenize \n",
        "nltk.download('punkt')\n",
        "tokenized_corpus = word_tokenize(corpusOfThree)\n",
        "\n",
        "#Stopwords\n",
        "stopwords = nltk.corpus.stopwords.words('english')\n",
        "filtered_words = [w for w in tokenized_corpus if not w in stopwords]\n",
        "\n",
        "#punctuation\n",
        "removedpunctuation_words = [word.lower() for word in filtered_words if word.isalpha()]\n",
        "\n",
        "#stemming\n",
        "ps = PorterStemmer()\n",
        "stemmed_words = [ps.stem(word) for word in removedpunctuation_words]\n",
        "\n",
        "#lemmatization\n",
        "lemmatizer = WordNetLemmatizer()\n",
        "lemmatized_words = [lemmatizer.lemmatize(w) for w in stemmed_words ]\n",
        "normalized_corpus = lemmatized_words\n",
        "#Corpus has been normalized"
      ],
      "execution_count": 68,
      "outputs": [
        {
          "output_type": "stream",
          "text": [
            "[nltk_data] Downloading package wordnet to /root/nltk_data...\n",
            "[nltk_data]   Package wordnet is already up-to-date!\n",
            "[nltk_data] Downloading package stopwords to /root/nltk_data...\n",
            "[nltk_data]   Package stopwords is already up-to-date!\n",
            "[nltk_data] Downloading package punkt to /root/nltk_data...\n",
            "[nltk_data]   Package punkt is already up-to-date!\n"
          ],
          "name": "stdout"
        }
      ]
    },
    {
      "cell_type": "markdown",
      "metadata": {
        "id": "Fy79_O-KRxQP"
      },
      "source": [
        "Adapted from Lecture and Notes"
      ]
    },
    {
      "cell_type": "code",
      "metadata": {
        "id": "_TIx8W9qR0Qs"
      },
      "source": [
        ""
      ],
      "execution_count": null,
      "outputs": []
    },
    {
      "cell_type": "code",
      "metadata": {
        "id": "WKri7uNztlSG",
        "colab": {
          "base_uri": "https://localhost:8080/"
        },
        "outputId": "3f38735b-8a25-4b47-faa9-13bd49fbf7ae"
      },
      "source": [
        "# Step 2 - Frequency 20pts\n",
        "\n",
        "import pandas as pd\n",
        "import math \n",
        "\n",
        "first_sentence = stringOfOne.split(\" \")\n",
        "second_sentence = stringOfTwo.split(\" \")\n",
        "third_sentence = stringOfThree.split(\" \")\n",
        "total= set(first_sentence).union(set(second_sentence)).union(set(third_sentence))\n",
        "wordDictA = dict.fromkeys(total, 0) \n",
        "wordDictB = dict.fromkeys(total, 0)\n",
        "wordDictC = dict.fromkeys(total, 0)\n",
        "for word in first_sentence:\n",
        "    wordDictA[word]+=1\n",
        "    \n",
        "for word in second_sentence:\n",
        "    wordDictB[word]+=1\n",
        "\n",
        "        \n",
        "for word in second_sentence:\n",
        "    wordDictC[word]+=1\n",
        "\n",
        "pd.DataFrame([wordDictA, wordDictB, wordDictC ])\n",
        "\n",
        "#Method for computing Term Frequency\n",
        "def computeTF(wordDict, doc):\n",
        "    tfDict = {}\n",
        "    corpusCount = len(doc)\n",
        "    for word, count in wordDict.items():\n",
        "        tfDict[word] = count/float(corpusCount)\n",
        "    return(tfDict)\n",
        "#running our sentences through the tf function:\n",
        "tfFirst = computeTF(wordDictA, first_sentence)\n",
        "tfSecond = computeTF(wordDictB, second_sentence)\n",
        "tfThird = computeTF(wordDictC, third_sentence)\n",
        "#Converting to dataframe for visualization\n",
        "tf = pd.DataFrame([tfFirst, tfSecond, tfThird])\n",
        "print(tf)\n",
        "\n",
        "#Method for computing Inverse Document Frequency\n",
        "def computeIDF(docList):\n",
        "    idfDict = {}\n",
        "    N = len(docList)\n",
        "    idfDict = dict.fromkeys(docList[0].keys(), 0)\n",
        "    for word, val in idfDict.items():\n",
        "        idfDict[word] = math.log10(N / (float(val) + 1))\n",
        "        \n",
        "    return(idfDict)\n",
        "\n",
        "idfs = computeIDF([wordDictA, wordDictB, wordDictC])\n",
        "print(dict(list(idfs.items())[0:10]))\n",
        "print(\"\\n\")\n",
        "\n",
        "#Method for computing Term Frequency Inverse Document Frequency TF * IDF\n",
        "def computeTFIDF(tfBow, idfs):\n",
        "    tfidf = {}\n",
        "    for word, val in tfBow.items():\n",
        "        tfidf[word] = val*idfs[word]\n",
        "    return(tfidf)\n",
        "#running our two sentences through the IDF:\n",
        "idfFirst = computeTFIDF(tfFirst, idfs)\n",
        "idfSecond = computeTFIDF(tfSecond, idfs)\n",
        "idfThird = computeTFIDF(tfThird, idfs)\n",
        "#putting it in a dataframe\n",
        "tfidf= pd.DataFrame([idfFirst, idfSecond, idfThird])\n",
        "print(tfidf)\n"
      ],
      "execution_count": 83,
      "outputs": [
        {
          "output_type": "stream",
          "text": [
            "                  I'd    rushed  ...  victory  proprietor  S-s-sahjunt\n",
            "0  0.000014  0.000260  0.000043  ...      0.0    0.000000     0.000014\n",
            "1  0.000017  0.000542  0.000017  ...      0.0    0.000017     0.000000\n",
            "2  0.000025  0.000787  0.000025  ...      0.0    0.000025     0.000000\n",
            "\n",
            "[3 rows x 15605 columns]\n",
            "{'': 0.47712125471966244, \"I'd\": 0.47712125471966244, 'rushed': 0.47712125471966244, 'combo': 0.47712125471966244, 'belief': 0.47712125471966244, 'props': 0.47712125471966244, 'claim': 0.47712125471966244, 'deficiencies': 0.47712125471966244, 'tubes': 0.47712125471966244, 'transmuted': 0.47712125471966244}\n",
            "\n",
            "\n",
            "                  I'd    rushed  ...  victory  proprietor  S-s-sahjunt\n",
            "0  0.000007  0.000124  0.000021  ...      0.0    0.000000     0.000007\n",
            "1  0.000008  0.000259  0.000008  ...      0.0    0.000008     0.000000\n",
            "2  0.000012  0.000375  0.000012  ...      0.0    0.000012     0.000000\n",
            "\n",
            "[3 rows x 15605 columns]\n"
          ],
          "name": "stdout"
        }
      ]
    },
    {
      "cell_type": "markdown",
      "metadata": {
        "id": "pGrgO1-qw4CM"
      },
      "source": [
        "Hamdaoui, Yassine. “TF(Term Frequency)-IDF(Inverse Document Frequency) from Scratch in Python&nbsp;.” Medium, Towards Data Science, 10 Dec. 2019, towardsdatascience.com/tf-term-frequency-idf-inverse-document-frequency-from-scratch-in-python-6c2b61b78558. 26 Feb, 2021"
      ]
    },
    {
      "cell_type": "code",
      "metadata": {
        "colab": {
          "base_uri": "https://localhost:8080/"
        },
        "id": "y3FJtALIrbXk",
        "outputId": "7245776f-5434-4f5e-8442-cb40ca388aaf"
      },
      "source": [
        "#Step 4 - Similarity 20pts\n",
        "\n",
        "#Cosine Similarity \n",
        "from scipy.spatial import distance\n",
        "import spacy\n",
        "from sklearn.metrics.pairwise import cosine_similarity\n",
        "from sklearn.feature_extraction.text import CountVectorizer\n",
        "from nltk.tokenize import word_tokenize \n",
        "from nltk.tokenize import sent_tokenize \n",
        "\n",
        "X_list= normalizeCorpus(stringOfOne)[:100]\n",
        "Y_list = normalizeCorpus(stringOfTwo)[:100]\n",
        "Z_list = normalizeCorpus(stringOfThree)[:100]\n",
        "\n",
        "def text_to_vector(text):\n",
        "    words = WORD.findall(text)\n",
        "    return Counter(words)\n",
        "\n",
        "# sw contains the list of stopwords \n",
        "sw = nltk.corpus.stopwords.words('english')\n",
        "  \n",
        "# remove stop words from the string \n",
        "X_set = {w for w in X_list if not w in sw}  \n",
        "Y_set = {w for w in Y_list if not w in sw} \n",
        "Z_set = {w for w in Z_list if not w in sw} \n",
        "  \n",
        "# form a set containing keywords of both strings  \n",
        "rvectorx_y = X_set.union(Y_set)  \n",
        "rvectorx_z = X_set.union(Z_set)  \n",
        "rvectory_z = Y_set.union(Z_set)  \n",
        "print(rvectorx_x)\n",
        "print(rvectorx_y)\n",
        "print(rvectorx_z)\n",
        "def getCosineSimilarity(rvector, setOne, setTwo):\n",
        "  l1 =[];l2 =[] \n",
        "  for w in rvector: \n",
        "      if w in setOne: l1.append(1) # create a vector \n",
        "      else: l1.append(0) \n",
        "      if w in setTwo: l2.append(1) \n",
        "      else: l2.append(0) \n",
        "  c = 0\n",
        "    \n",
        "  # cosine formula  \n",
        "  for i in range(len(rvector)): \n",
        "          c+= l1[i]*l2[i] \n",
        "  cosine = c / float((sum(l1)*sum(l2))**0.5)\n",
        "  return cosine \n",
        "\n",
        "XYCosine = getCosineSimilarity(rvectorx_y, X_set, Y_set)\n",
        "XZCosine = getCosineSimilarity(rvectorx_z, X_set, Z_set)\n",
        "YZCosine = getCosineSimilarity(rvectory_z, Y_set, Z_set) \n",
        "\n",
        "print(\"similarityXY: \", XYCosine) \n",
        "print(\"similarityXZ: \", XZCosine) \n",
        "print(\"similarityYZ: \", YZCosine) \n",
        "\n",
        "similarityMatrix= pd.DataFrame([XYCosine, XZCosine, YZCosine])\n",
        "print(similarityMatrix)\n",
        "\n"
      ],
      "execution_count": 82,
      "outputs": [
        {
          "output_type": "stream",
          "text": [
            "[nltk_data] Downloading package punkt to /root/nltk_data...\n",
            "[nltk_data]   Package punkt is already up-to-date!\n",
            "[nltk_data] Downloading package punkt to /root/nltk_data...\n",
            "[nltk_data]   Package punkt is already up-to-date!\n",
            "[nltk_data] Downloading package punkt to /root/nltk_data...\n",
            "[nltk_data]   Package punkt is already up-to-date!\n",
            "{'summer', 'awak', 'come', 'damag', 'told', 'morn', 'drone', 'lay', 'often', 'flash', 'dri', 'becom', 'monoton', 'get', 'anger', 'surfac', 'forget', 'adventur', 'defens', 'brennan', 'sometim', 'u', 'local', 'seem', 'quiet', 'marshal', 'hi', 'nurs', 'good', 'simpli', 'morgan', 'thing', 'patient', 'friend', 'antidot', 'could', 'go', 'poison', 'hanov', 'thought', 'sweet', 'day', 'woke', 'much', 'sell', 'disappoint', 'poignant', 'easiest', 'intern', 'state', 'gold', 'littl', 'appear', 'odor', 'gentl', 'live', 'back', 'dirti', 'ordinari', 'enough', 'way', 'ration', 'illinoi', 'night', 'certainli', 'hard', 'attend', 'lone', 'ill', 'charg', 'hot', 'smaller', 'troubl', 'spring', 'beneath', 'cook', 'knew', 'tire', 'window', 'hallucin', 'side', 'mari', 'dan', 'technic', 'plenti', 'ask', 'bitter', 'hospit', 'stubborn', 'ward', 'unusu', 'becaus', 'allow', 'stare', 'well', 'fetid', 'leav', 'newspap', 'left', 'countri', 'pretti', 'think', 'disturb', 'listen', 'smell', 'produc', 'dream', 'two', 'noth', 'eye', 'streak', 'found', 'revolv', 'grim', 'bu', 'field', 'jane', 'suddenli', 'best', 'address', 'long', 'plan', 'ann', 'counti', 'around', 'al', 'work', 'exhaust', 'stay', 'depress', 'mental', 'would', 'wife', 'middl', 'want', 'hurt', 'felt', 'west', 'le', 'marri', 'offset', 'compet', 'sleep', 'somewhat', 'incred', 'went', 'turner', 'chicago', 'budd', 'stream', 'fickl', 'rid', 'duller', 'voic', 'stori'}\n",
            "{'summer', 'awak', 'come', 'damag', 'told', 'morn', 'drone', 'lay', 'often', 'flash', 'dri', 'becom', 'monoton', 'get', 'anger', 'surfac', 'forget', 'adventur', 'defens', 'brennan', 'sometim', 'u', 'local', 'seem', 'quiet', 'marshal', 'hi', 'nurs', 'good', 'simpli', 'morgan', 'thing', 'patient', 'friend', 'antidot', 'could', 'go', 'poison', 'hanov', 'thought', 'sweet', 'day', 'woke', 'much', 'sell', 'disappoint', 'poignant', 'easiest', 'intern', 'state', 'gold', 'littl', 'appear', 'odor', 'gentl', 'live', 'back', 'dirti', 'ordinari', 'enough', 'way', 'ration', 'illinoi', 'night', 'certainli', 'hard', 'attend', 'lone', 'ill', 'charg', 'hot', 'smaller', 'troubl', 'spring', 'beneath', 'cook', 'knew', 'tire', 'window', 'hallucin', 'side', 'mari', 'dan', 'technic', 'plenti', 'ask', 'bitter', 'hospit', 'stubborn', 'ward', 'unusu', 'becaus', 'allow', 'stare', 'well', 'fetid', 'leav', 'newspap', 'left', 'countri', 'pretti', 'think', 'disturb', 'listen', 'smell', 'produc', 'dream', 'two', 'noth', 'eye', 'streak', 'found', 'revolv', 'grim', 'bu', 'field', 'jane', 'suddenli', 'best', 'address', 'long', 'plan', 'ann', 'counti', 'around', 'al', 'work', 'exhaust', 'stay', 'depress', 'mental', 'would', 'wife', 'middl', 'want', 'hurt', 'felt', 'west', 'le', 'marri', 'offset', 'compet', 'sleep', 'somewhat', 'incred', 'went', 'turner', 'chicago', 'budd', 'stream', 'fickl', 'rid', 'duller', 'voic', 'stori'}\n",
            "{'word', 'modern', 'demon', 'summer', 'awak', 'although', 'tire', 'distinct', 'make', 'dan', 'told', 'connot', 'real', 'disbelief', 'highli', 'plenti', 'ask', 'often', 'mean', 'though', 'dri', 'bitter', 'use', 'must', 'stubborn', 'ago', 'user', 'get', 'unusu', 'forget', 'becaus', 'allow', 'univers', 'stage', 'well', 'result', 'element', 'leav', 'sometim', 'countri', 'mani', 'think', 'contemporari', 'widespread', 'popular', 'produc', 'extent', 'still', 'dream', 'featur', 'understand', 'noth', 'hi', 'streak', 'found', 'revolv', 'sure', 'popul', 'taken', 'yet', 'centuri', 'usag', 'simpli', 'fairi', 'revis', 'morgan', 'thing', 'best', 'long', 'plan', 'ann', 'grant', 'antidot', 'around', 'al', 'could', 'work', 'transit', 'exhaust', 'term', 'never', 'poison', 'refer', 'stay', 'thought', 'day', 'correspond', 'woke', 'much', 'sell', 'disappoint', 'poignant', 'easiest', 'would', 'wife', 'middl', 'reject', 'want', 'neither', 'former', 'materi', 'confus', 'littl', 'hurt', 'matter', 'felt', 'spirit', 'le', 'common', 'back', 'basic', 'marri', 'ordinari', 'realiti', 'enough', 'axiomat', 'ration', 'context', 'world', 'educ', 'sleep', 'meant', 'one', 'night', 'certainli', 'hard', 'went', 'turner', 'direct', 'budd', 'stream', 'angel', 'mind', 'true', 'fickl', 'employ', 'rid', 'duller', 'experi', 'precis', 'tradit', 'hot', 'gener', 'entiti', 'smaller', 'almost', 'may', 'troubl', 'spring'}\n",
            "similarityXY:  0.07457013045372174\n",
            "similarityXZ:  0.026504600604023158\n",
            "similarityYZ:  0.012846934910327694\n",
            "          0\n",
            "0  0.074570\n",
            "1  0.026505\n",
            "2  0.012847\n"
          ],
          "name": "stdout"
        }
      ]
    },
    {
      "cell_type": "markdown",
      "metadata": {
        "id": "I9cWWN-1u40M"
      },
      "source": [
        "Monacelli, Taylor. “Calculate Cosine Similarity given 2 Sentence Strings.” Stack Overflow, 20 Mar. 2020, stackoverflow.com/questions/15173225/calculate-cosine-similarity-given-2-sentence-strings. 26 Feb, 2021"
      ]
    },
    {
      "cell_type": "code",
      "metadata": {
        "colab": {
          "base_uri": "https://localhost:8080/"
        },
        "id": "xr0Y6ZMjkjWl",
        "outputId": "b2b6202f-d1eb-4128-dea0-09bd40b1a897"
      },
      "source": [
        "#Similarity Matrix for Cosine Similarity \n",
        "from sklearn.metrics.pairwise import cosine_similarity\n",
        "from sklearn.feature_extraction.text import TfidfVectorizer\n",
        "import nltk\n",
        "nltk.download('brown')\n",
        "\n",
        "X_list = normalizeCorpus(stringOfOne)[:100]\n",
        "Y_list = normalizeCorpus(stringOfTwo)[:100]\n",
        "Z_list = normalizeCorpus(stringOfThree)[:100]\n",
        "docs = X_list + Y_list + Z_list\n",
        "\n",
        "\n",
        "wordsOne = brown.words(categories='adventure')\n",
        "tv = TfidfVectorizer(min_df=0., max_df=1., norm='l2',\n",
        "                     use_idf=True, smooth_idf=True)\n",
        "feature_matrix = tv.fit_transform(docs)\n",
        "feature_matrix = feature_matrix.toarray()\n",
        "print(feature_matrix)\n",
        "\n",
        "similarity_matrix = cosine_similarity(feature_matrix)\n",
        "similarity_df = pd.DataFrame(similarity_matrix)\n",
        "print(similarity_df)\n"
      ],
      "execution_count": 66,
      "outputs": [
        {
          "output_type": "stream",
          "text": [
            "[nltk_data] Downloading package brown to /root/nltk_data...\n",
            "[nltk_data]   Package brown is already up-to-date!\n",
            "[nltk_data] Downloading package punkt to /root/nltk_data...\n",
            "[nltk_data]   Package punkt is already up-to-date!\n",
            "[nltk_data] Downloading package punkt to /root/nltk_data...\n",
            "[nltk_data]   Package punkt is already up-to-date!\n",
            "[nltk_data] Downloading package punkt to /root/nltk_data...\n",
            "[nltk_data]   Package punkt is already up-to-date!\n",
            "[[0. 0. 0. ... 0. 0. 0.]\n",
            " [0. 0. 0. ... 0. 0. 0.]\n",
            " [0. 0. 0. ... 0. 0. 0.]\n",
            " ...\n",
            " [0. 0. 0. ... 0. 0. 0.]\n",
            " [0. 0. 0. ... 0. 0. 0.]\n",
            " [0. 0. 0. ... 0. 0. 0.]]\n",
            "     0    1    2    3    4    5    6    ...  293  294  295  296  297  298  299\n",
            "0    1.0  0.0  0.0  0.0  0.0  0.0  0.0  ...  0.0  0.0  0.0  0.0  0.0  0.0  0.0\n",
            "1    0.0  1.0  0.0  0.0  0.0  0.0  0.0  ...  0.0  0.0  0.0  0.0  0.0  0.0  0.0\n",
            "2    0.0  0.0  1.0  0.0  0.0  0.0  0.0  ...  0.0  0.0  0.0  0.0  0.0  0.0  0.0\n",
            "3    0.0  0.0  0.0  1.0  0.0  0.0  0.0  ...  0.0  0.0  0.0  0.0  0.0  0.0  0.0\n",
            "4    0.0  0.0  0.0  0.0  1.0  0.0  0.0  ...  0.0  0.0  0.0  0.0  0.0  0.0  0.0\n",
            "..   ...  ...  ...  ...  ...  ...  ...  ...  ...  ...  ...  ...  ...  ...  ...\n",
            "295  0.0  0.0  0.0  0.0  0.0  0.0  0.0  ...  0.0  0.0  1.0  0.0  0.0  0.0  0.0\n",
            "296  0.0  0.0  0.0  0.0  0.0  0.0  0.0  ...  0.0  0.0  0.0  1.0  0.0  0.0  0.0\n",
            "297  0.0  0.0  0.0  0.0  0.0  0.0  0.0  ...  0.0  0.0  0.0  0.0  1.0  0.0  0.0\n",
            "298  0.0  0.0  0.0  0.0  0.0  0.0  0.0  ...  0.0  0.0  0.0  0.0  0.0  1.0  0.0\n",
            "299  0.0  0.0  0.0  0.0  0.0  0.0  0.0  ...  0.0  0.0  0.0  0.0  0.0  0.0  1.0\n",
            "\n",
            "[300 rows x 300 columns]\n"
          ],
          "name": "stdout"
        }
      ]
    },
    {
      "cell_type": "markdown",
      "metadata": {
        "id": "G-f7yV_DnyVU"
      },
      "source": [
        "Scrivner, Olga, Kumar, A . “CH04a - Feature Engineering Text Data - Traditional Strategies”, 27 Feb, 2021"
      ]
    },
    {
      "cell_type": "code",
      "metadata": {
        "colab": {
          "base_uri": "https://localhost:8080/"
        },
        "id": "v2av4rafo0BF",
        "outputId": "22dcb5c8-1c98-454c-8c7c-68f261723f83"
      },
      "source": [
        "#Perform Jaccard Similarity between 3 documents. Provide metrics between each document - 10pts\n",
        "from gensim.corpora import Dictionary\n",
        "from scipy.spatial import distance\n",
        "from gensim.matutils import jaccard\n",
        "\n",
        "texts = [\n",
        "   wordsOne, wordsTwo, wordsThree\n",
        "]\n",
        "\n",
        "dictionary = Dictionary(texts)\n",
        "corpus = [dictionary.doc2bow(text) for text in texts]\n",
        "distanceBetweenZeroandTwo = jaccard(corpus[0], corpus[2])\n",
        "distanceBetweenZeroandOne = jaccard(corpus[0], corpus[1])\n",
        "distanceBetweenOneandTwo = jaccard(corpus[1], corpus[2])\n",
        "print(\"\\nThe jaccard distance between the Text 0 and Text 2: \")\n",
        "print(distanceBetweenZeroandTwo)\n",
        "print(\"The jaccard distance between the Text 0 and Text 2 is greater than .5 thus are similar\\n\")\n",
        "print(\"The jaccard distance between the Text 0 and Text 1: \")\n",
        "print(distanceBetweenZeroandOne)\n",
        "print(\"The jaccard distance between the Text 0 and Text 1 is greater than .5 thus are similar\\n\")\n",
        "print(\"The jaccard distance between the Text 1 and Text 2:\" )\n",
        "print(distanceBetweenOneandTwo)\n",
        "print(\"The jaccard distance between the Text 1 and Text 2 is greater than .5 thus are similar\\n\")\n",
        "\n"
      ],
      "execution_count": 71,
      "outputs": [
        {
          "output_type": "stream",
          "text": [
            "\n",
            "The jaccard distance between the Text 0 and Text 2: \n",
            "0.7561637284924729\n",
            "The jaccard distance between the Text 0 and Text 2 is greater than .5 thus are similar\n",
            "\n",
            "The jaccard distance between the Text 0 and Text 1: \n",
            "0.6281271984254333\n",
            "The jaccard distance between the Text 0 and Text 2 is greater than .5 thus are similar\n",
            "\n",
            "The jaccard distance between the Text 1 and Text 2:\n",
            "0.7386608400298236\n",
            "The jaccard distance between the Text 0 and Text 2 is greater than .5 thus are similar\n",
            "\n"
          ],
          "name": "stdout"
        }
      ]
    },
    {
      "cell_type": "code",
      "metadata": {
        "colab": {
          "base_uri": "https://localhost:8080/",
          "height": 793
        },
        "id": "BSyPsuZMuaz8",
        "outputId": "e7a42a59-c078-4922-bc8c-dc22745ac206"
      },
      "source": [
        "#Step 5 - Clustering 30pts\n",
        "#Perform Document clustering - 10pts\n",
        "#Use Cosine similarity matrix from step 4 and find Cosine Distance (see practice)\n",
        "#Use ward linkage for hierarchical clustering\n",
        "from sklearn.feature_extraction.text import CountVectorizer, TfidfTransformer\n",
        "from scipy.cluster import  hierarchy\n",
        "from scipy.cluster.hierarchy import ward, fcluster\n",
        "from scipy.spatial.distance import pdist\n",
        "from sklearn.metrics.pairwise import cosine_similarity\n",
        "from scipy.cluster.hierarchy import dendrogram, linkage\n",
        "from matplotlib import pyplot as plt\n",
        "\n",
        "X_list= normalizeCorpus(stringOfOne)[:100]\n",
        "Y_list = normalizeCorpus(stringOfTwo)[:100]\n",
        "Z_list = normalizeCorpus(stringOfThree)[:100]\n",
        "\n",
        "docsList = [\n",
        "   wordsOne, wordsTwo, wordsThree\n",
        "]\n",
        "docs = X_list + Y_list + Z_list\n",
        "\n",
        "#Use Cosine similarity matrix from step 4 and find Cosine Distance (see practice)\n",
        "#Use ward linkage for hierarchical clustering   \n",
        "cosine_distance = 1 - cosine_similarity(feature_matrix)\n",
        "linkage_matrix = ward(cosine_distance)\n",
        "print(cosine_distance)\n",
        "print(linkage_matrix)\n",
        "\n",
        "#Create a table with distance and cluster size (see lecture). Provide the output table - 10pts\n",
        "#Draw a dendrogram (see lecture and practice) - 10pts\n",
        "similarity_matrix = cosine_similarity(feature_matrix)\n",
        "Z = linkage(similarity_matrix, 'ward')\n",
        "\n",
        "Z = linkage(similarity_matrix, 'ward')\n",
        "tableWithDistanceandClusterSize = pd.DataFrame(Z, columns=['Document\\Cluster 1',\n",
        "'Document\\Cluster 2',\n",
        "'Distance', 'Cluster Size'], dtype=\"object\")\n",
        "print(tableWithDistanceandClusterSize)\n",
        "\n",
        "plt.figure(figsize=(8, 3))\n",
        "plt.title('Hierarchical Clustering Dendrogram')\n",
        "plt.xlabel('Data point')\n",
        "plt.ylabel('Distance')\n",
        "dendrogram(Z)\n",
        "plt.axhline(y=1.0, c=\"k\", ls=\"--\", lw=0.5)\n",
        "plt.show()\n",
        "\n",
        "\n",
        "\n",
        "\n"
      ],
      "execution_count": null,
      "outputs": [
        {
          "output_type": "stream",
          "text": [
            "[nltk_data] Downloading package punkt to /root/nltk_data...\n",
            "[nltk_data]   Package punkt is already up-to-date!\n",
            "[nltk_data] Downloading package punkt to /root/nltk_data...\n",
            "[nltk_data]   Package punkt is already up-to-date!\n",
            "[nltk_data] Downloading package punkt to /root/nltk_data...\n",
            "[nltk_data]   Package punkt is already up-to-date!\n",
            "[[0. 1. 1. ... 1. 1. 1.]\n",
            " [1. 0. 1. ... 1. 1. 1.]\n",
            " [1. 1. 0. ... 1. 1. 1.]\n",
            " ...\n",
            " [1. 1. 1. ... 0. 1. 1.]\n",
            " [1. 1. 1. ... 1. 0. 1.]\n",
            " [1. 1. 1. ... 1. 1. 0.]]\n",
            "[[104.         115.           0.           2.        ]\n",
            " [116.         300.           0.           3.        ]\n",
            " [120.         301.           0.           4.        ]\n",
            " ...\n",
            " [318.         595.           5.62301885 292.        ]\n",
            " [360.         596.           5.62393599 296.        ]\n",
            " [357.         597.           5.62481631 300.        ]]\n",
            "    Document\\Cluster 1 Document\\Cluster 2 Distance Cluster Size\n",
            "0                  104                115        0            2\n",
            "1                  116                300        0            3\n",
            "2                  120                301        0            4\n",
            "3                  132                302        0            5\n",
            "4                  143                303        0            6\n",
            "..                 ...                ...      ...          ...\n",
            "294                324                593  4.22504          285\n",
            "295                353                594  4.22541          288\n",
            "296                318                595  5.62302          292\n",
            "297                360                596  5.62394          296\n",
            "298                357                597  5.62482          300\n",
            "\n",
            "[299 rows x 4 columns]\n"
          ],
          "name": "stdout"
        },
        {
          "output_type": "display_data",
          "data": {
            "image/png": "[encoded data removed]",
            "text/plain": [
              "<Figure size 576x216 with 1 Axes>"
            ]
          },
          "metadata": {
            "tags": [],
            "needs_background": "light"
          }
        }
      ]
    },
    {
      "cell_type": "markdown",
      "metadata": {
        "id": "gisYSengOnIE"
      },
      "source": [
        "From Lecture \n",
        "Scrivner, Olga, Kumar, A . “Part 2. Distance Metrics\n",
        "”, 27 Feb, 2021"
      ]
    },
    {
      "cell_type": "markdown",
      "metadata": {
        "id": "gxj2JsNwVUpX"
      },
      "source": [
        "Provide your brief conclusion:\n",
        "\n",
        "The brief conclusion is that there is major intersection over union in all the data sets based on the output of the Jaccard Similary. The cosine measure of similarity between two non-zero vectors of an inner product space shows similarity in their respective vectors. Doc 1 had the most similarity to the other docuemnts and doc 3 had the least similarity to the other documents is the interpretation from the results of the cosine similarity. Also seen from the dendogram is that at a larger size cluster the distance increases. Overall the conclusion can be made the documents have interpretable relationships.\n"
      ]
    }
  ]
}