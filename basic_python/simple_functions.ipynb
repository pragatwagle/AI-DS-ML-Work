{
 "cells": [
  {
   "cell_type": "code",
   "execution_count": 1,
   "id": "9650d6f9",
   "metadata": {},
   "outputs": [
    {
     "name": "stdout",
     "output_type": "stream",
     "text": [
      "16\n",
      "36\n",
      "64\n",
      "144\n",
      "2025\n",
      "6084\n"
     ]
    }
   ],
   "source": [
    "# Question 1\n",
    "# find the square of given list\n",
    "\n",
    "def squareList(num_list):  \n",
    "    for num in num_list:\n",
    "        print(num * num)\n",
    "        \n",
    "num_list = [4,6,8,12,45,78]\n",
    "\n",
    "squareList(num_list)\n",
    "# print the square of num_list\n"
   ]
  },
  {
   "cell_type": "code",
   "execution_count": 2,
   "id": "df25c144",
   "metadata": {},
   "outputs": [
    {
     "name": "stdout",
     "output_type": "stream",
     "text": [
      "[0, 1, 4, 27, 16, 125, 36, 343, 64, 729, 100, 1331, 144, 2197, 196, 3375, 256, 4913, 324, 6859]\n"
     ]
    }
   ],
   "source": [
    "# Question 2\n",
    "# replace all the elements in even indexes with squares and odd indexes with cubes\n",
    "\n",
    "num_list = list(range(20))\n",
    "\n",
    "def replaceWithSquaresOrCubes(num_list):\n",
    "    for i in range(len(num_list)):\n",
    "        if i%2==0:\n",
    "            num_list[i] = num_list[i] * num_list[i]\n",
    "        else:\n",
    "            num_list[i] = num_list[i] * num_list[i] * num_list[i]\n",
    "\n",
    "replaceWithSquaresOrCubes(num_list)            \n",
    "print(num_list)\n",
    "\n"
   ]
  },
  {
   "cell_type": "code",
   "execution_count": 5,
   "id": "0885e250",
   "metadata": {},
   "outputs": [
    {
     "name": "stdout",
     "output_type": "stream",
     "text": [
      "[19, 18, 17, 16, 15, 14, 13, 12, 11, 10, 9, 8, 7, 6, 5, 4, 3, 2, 1, 0]\n"
     ]
    }
   ],
   "source": [
    "# Question 3\n",
    "# Using negative indexing, reverse the given list\n",
    "\n",
    "def reverseList(num_list):\n",
    "    reversed_num_list = [0] * len(num_list)\n",
    "    for i in range(len(num_list)):\n",
    "        reversed_num_list[-i-1] = num_list[i]\n",
    "    return reversed_num_list  \n",
    "num_list = list(range(20))\n",
    "reversed_num_list = reverseList(num_list)\n",
    "\n",
    "    \n",
    "print(reversed_num_list)"
   ]
  },
  {
   "cell_type": "code",
   "execution_count": 6,
   "id": "f452868e",
   "metadata": {},
   "outputs": [
    {
     "name": "stdout",
     "output_type": "stream",
     "text": [
      "[1, 2, 3, 4, 5, 6]\n"
     ]
    }
   ],
   "source": [
    "# Quesiton 4\n",
    "# Given a tuple, convert it to a list and remove the last element using remove()\n",
    "# output should look like [1,2,3,4,5]\n",
    "\n",
    "num_tup = (1,2,3,4,5,6)\n",
    "\n",
    "def convertTuple(num_tup):\n",
    "    num_list = list(num_tup)\n",
    "    return num_list\n",
    "\n",
    "num_list = convertTuple(num_tup)    \n",
    "print(num_list)"
   ]
  },
  {
   "cell_type": "code",
   "execution_count": 7,
   "id": "eafb157a",
   "metadata": {},
   "outputs": [
    {
     "name": "stdout",
     "output_type": "stream",
     "text": [
      "[1, 3, 5, 2, 4]\n"
     ]
    }
   ],
   "source": [
    "# Question 5\n",
    "# Given a list, find two sublists: list with even indexed elements and other with odd indexed elements\n",
    "# return a new list which is formed after concatenating the even indexed list with odd indexed list\n",
    "\n",
    "# Ex: given [1,2,3,4,5], the output should be: [1,3,5,2,4]\n",
    "num_list = list(range(1,6))\n",
    "def sublistFromList(fullList):\n",
    "    odd_list = []\n",
    "    even_list = []\n",
    "    for i in range(len(fullList)):\n",
    "        if i%2==0:\n",
    "            even_list.append(fullList[i])\n",
    "        else:\n",
    "            odd_list.append(fullList[i])\n",
    "            \n",
    "    return even_list+ odd_list\n",
    "\n",
    "concatenatedList = sublistFromList(num_list)\n",
    "print(concatenatedList)"
   ]
  },
  {
   "cell_type": "code",
   "execution_count": 8,
   "id": "1fa9599c",
   "metadata": {},
   "outputs": [
    {
     "name": "stdout",
     "output_type": "stream",
     "text": [
      "0\n",
      "1\n",
      "2\n",
      "0\n",
      "1\n",
      "2\n",
      "0\n",
      "1\n",
      "2\n",
      "0\n"
     ]
    }
   ],
   "source": [
    "# Question 6\n",
    "# Using for-loop, print the remainder of all the elements in a given list when divided with 3\n",
    "\n",
    "num_list = list(range(10))\n",
    "\n",
    "def remainderDivideByThree(num_list):\n",
    "    for i in num_list:\n",
    "        print(num_list[i]%3)\n",
    "        \n",
    "remainderDivideByThree(num_list)"
   ]
  },
  {
   "cell_type": "code",
   "execution_count": 9,
   "id": "815890fe",
   "metadata": {},
   "outputs": [
    {
     "name": "stdout",
     "output_type": "stream",
     "text": [
      "Username: jdoe\n",
      "Password: ········\n",
      "Username already exists\n",
      "Username: pragat\n",
      "Password: ········\n",
      "Registration complete!\n"
     ]
    }
   ],
   "source": [
    "# Question 7\n",
    "# You are designer for the new login system for you class project.\n",
    "# To save the usernames and passwords, you want to use a dictionary as the data structure\n",
    "# Username will be the key and the value will be the password. \n",
    "# For simplicity lets assume we store plaintext passwords\n",
    "# write program which asks a new user for username and password\n",
    "# call a function called register_user which prints \"Registration complete!\" and\n",
    "# returns True after successfully inserting the username and password key-value pair\n",
    "# If the selected username already exists, the function should print \"Username already exists. Try again!\" and return False\n",
    "# Based on the return value the main program should decide to exit or ask for new username\n",
    "\n",
    "import getpass\n",
    "\n",
    "def register_user(login_dict, uname, passwd):\n",
    "    if uname not in login_dict:\n",
    "        login_dict[uname] = passwd\n",
    "        print(\"Registration complete!\")\n",
    "        return True\n",
    "    else:\n",
    "        print(\"Username already exists\")\n",
    "        return False\n",
    "\n",
    "login_dict = {'jdoe':'23!@56'}    \n",
    "\n",
    "# hint: use of break statement is required\n",
    "while True:\n",
    "    uname = str(input(\"Username: \"))\n",
    "    #using get pass to hide password\n",
    "    passwd = getpass.getpass('Password: ')    \n",
    "    if register_user(login_dict,uname,passwd):\n",
    "        break\n",
    "    else:\n",
    "        continue"
   ]
  }
 ],
 "metadata": {
  "kernelspec": {
   "display_name": "Python 3 (ipykernel)",
   "language": "python",
   "name": "python3"
  },
  "language_info": {
   "codemirror_mode": {
    "name": "ipython",
    "version": 3
   },
   "file_extension": ".py",
   "mimetype": "text/x-python",
   "name": "python",
   "nbconvert_exporter": "python",
   "pygments_lexer": "ipython3",
   "version": "3.9.7"
  }
 },
 "nbformat": 4,
 "nbformat_minor": 5
}
